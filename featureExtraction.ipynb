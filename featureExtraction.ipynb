{
 "cells": [
  {
   "cell_type": "code",
   "execution_count": 1,
   "metadata": {},
   "outputs": [],
   "source": [
    "#Unigram and bigram code goes here"
   ]
  },
  {
   "cell_type": "code",
   "execution_count": 2,
   "metadata": {},
   "outputs": [
    {
     "name": "stderr",
     "output_type": "stream",
     "text": [
      "[nltk_data] Downloading package punkt to\n",
      "[nltk_data]     C:\\Users\\Mihir\\AppData\\Roaming\\nltk_data...\n",
      "[nltk_data]   Package punkt is already up-to-date!\n",
      "[nltk_data] Downloading package stopwords to\n",
      "[nltk_data]     C:\\Users\\Mihir\\AppData\\Roaming\\nltk_data...\n",
      "[nltk_data]   Package stopwords is already up-to-date!\n"
     ]
    }
   ],
   "source": [
    "import pandas as pd\n",
    "import matplotlib.pyplot as plt\n",
    "import nltk\n",
    "nltk.download('punkt')\n",
    "nltk.download('stopwords')\n",
    "from nltk.util import ngrams\n",
    "from nltk.tokenize import sent_tokenize, word_tokenize\n",
    "from nltk.corpus import stopwords\n",
    "from sklearn.feature_extraction.text import CountVectorizer\n",
    "import numpy as np\n",
    "from scipy.sparse import csc_matrix\n",
    "from scipy.sparse import random\n",
    "import math \n",
    "# import re"
   ]
  },
  {
   "cell_type": "code",
   "execution_count": 3,
   "metadata": {},
   "outputs": [],
   "source": [
    "#Importing dataset\n",
    "trainDf = pd.read_csv('train_processed.csv', sep = ',')\n",
    "testDf = pd.read_csv('test_processed.csv', sep = ',')"
   ]
  },
  {
   "cell_type": "code",
   "execution_count": 4,
   "metadata": {},
   "outputs": [
    {
     "data": {
      "text/html": [
       "<div>\n",
       "<style scoped>\n",
       "    .dataframe tbody tr th:only-of-type {\n",
       "        vertical-align: middle;\n",
       "    }\n",
       "\n",
       "    .dataframe tbody tr th {\n",
       "        vertical-align: top;\n",
       "    }\n",
       "\n",
       "    .dataframe thead th {\n",
       "        text-align: right;\n",
       "    }\n",
       "</style>\n",
       "<table border=\"1\" class=\"dataframe\">\n",
       "  <thead>\n",
       "    <tr style=\"text-align: right;\">\n",
       "      <th></th>\n",
       "      <th>Unnamed: 0</th>\n",
       "      <th>0</th>\n",
       "      <th>1</th>\n",
       "      <th>0.1</th>\n",
       "    </tr>\n",
       "  </thead>\n",
       "  <tbody>\n",
       "    <tr>\n",
       "      <th>0</th>\n",
       "      <td>0</td>\n",
       "      <td>1</td>\n",
       "      <td>0</td>\n",
       "      <td>USER_MENTION when a father is dysfunctional an...</td>\n",
       "    </tr>\n",
       "    <tr>\n",
       "      <th>1</th>\n",
       "      <td>1</td>\n",
       "      <td>2</td>\n",
       "      <td>0</td>\n",
       "      <td>USER_MENTION USER_MENTION thanks for lyft cred...</td>\n",
       "    </tr>\n",
       "    <tr>\n",
       "      <th>2</th>\n",
       "      <td>2</td>\n",
       "      <td>3</td>\n",
       "      <td>0</td>\n",
       "      <td>bihday your majesty</td>\n",
       "    </tr>\n",
       "    <tr>\n",
       "      <th>3</th>\n",
       "      <td>3</td>\n",
       "      <td>4</td>\n",
       "      <td>0</td>\n",
       "      <td>model i love u take with u all the time in urð</td>\n",
       "    </tr>\n",
       "    <tr>\n",
       "      <th>4</th>\n",
       "      <td>4</td>\n",
       "      <td>5</td>\n",
       "      <td>0</td>\n",
       "      <td>factsguide society now motivation</td>\n",
       "    </tr>\n",
       "  </tbody>\n",
       "</table>\n",
       "</div>"
      ],
      "text/plain": [
       "   Unnamed: 0  0  1                                                0.1\n",
       "0           0  1  0  USER_MENTION when a father is dysfunctional an...\n",
       "1           1  2  0  USER_MENTION USER_MENTION thanks for lyft cred...\n",
       "2           2  3  0                                bihday your majesty\n",
       "3           3  4  0     model i love u take with u all the time in urð\n",
       "4           4  5  0                  factsguide society now motivation"
      ]
     },
     "execution_count": 4,
     "metadata": {},
     "output_type": "execute_result"
    }
   ],
   "source": [
    "trainDf.head()"
   ]
  },
  {
   "cell_type": "code",
   "execution_count": 5,
   "metadata": {},
   "outputs": [],
   "source": [
    "# c = trainDf[[\"0.1\"]]\n",
    "# c.head()"
   ]
  },
  {
   "cell_type": "code",
   "execution_count": 6,
   "metadata": {},
   "outputs": [
    {
     "data": {
      "text/html": [
       "<div>\n",
       "<style scoped>\n",
       "    .dataframe tbody tr th:only-of-type {\n",
       "        vertical-align: middle;\n",
       "    }\n",
       "\n",
       "    .dataframe tbody tr th {\n",
       "        vertical-align: top;\n",
       "    }\n",
       "\n",
       "    .dataframe thead th {\n",
       "        text-align: right;\n",
       "    }\n",
       "</style>\n",
       "<table border=\"1\" class=\"dataframe\">\n",
       "  <thead>\n",
       "    <tr style=\"text-align: right;\">\n",
       "      <th></th>\n",
       "      <th>Unnamed: 0</th>\n",
       "      <th>0</th>\n",
       "      <th>1</th>\n",
       "      <th>0.1</th>\n",
       "    </tr>\n",
       "  </thead>\n",
       "  <tbody>\n",
       "    <tr>\n",
       "      <th>0</th>\n",
       "      <td>0</td>\n",
       "      <td>1</td>\n",
       "      <td>0</td>\n",
       "      <td>USER_MENTION when a father is dysfunctional an...</td>\n",
       "    </tr>\n",
       "    <tr>\n",
       "      <th>1</th>\n",
       "      <td>1</td>\n",
       "      <td>2</td>\n",
       "      <td>0</td>\n",
       "      <td>USER_MENTION USER_MENTION thanks for lyft cred...</td>\n",
       "    </tr>\n",
       "    <tr>\n",
       "      <th>2</th>\n",
       "      <td>2</td>\n",
       "      <td>3</td>\n",
       "      <td>0</td>\n",
       "      <td>bihday your majesty</td>\n",
       "    </tr>\n",
       "    <tr>\n",
       "      <th>3</th>\n",
       "      <td>3</td>\n",
       "      <td>4</td>\n",
       "      <td>0</td>\n",
       "      <td>model i love u take with u all the time in urð</td>\n",
       "    </tr>\n",
       "    <tr>\n",
       "      <th>4</th>\n",
       "      <td>4</td>\n",
       "      <td>5</td>\n",
       "      <td>0</td>\n",
       "      <td>factsguide society now motivation</td>\n",
       "    </tr>\n",
       "  </tbody>\n",
       "</table>\n",
       "</div>"
      ],
      "text/plain": [
       "   Unnamed: 0  0  1                                                0.1\n",
       "0           0  1  0  USER_MENTION when a father is dysfunctional an...\n",
       "1           1  2  0  USER_MENTION USER_MENTION thanks for lyft cred...\n",
       "2           2  3  0                                bihday your majesty\n",
       "3           3  4  0     model i love u take with u all the time in urð\n",
       "4           4  5  0                  factsguide society now motivation"
      ]
     },
     "execution_count": 6,
     "metadata": {},
     "output_type": "execute_result"
    }
   ],
   "source": [
    "tweetsTrain = pd.DataFrame(trainDf)\n",
    "tweetsTrain.head()"
   ]
  },
  {
   "cell_type": "code",
   "execution_count": 7,
   "metadata": {},
   "outputs": [
    {
     "data": {
      "text/html": [
       "<div>\n",
       "<style scoped>\n",
       "    .dataframe tbody tr th:only-of-type {\n",
       "        vertical-align: middle;\n",
       "    }\n",
       "\n",
       "    .dataframe tbody tr th {\n",
       "        vertical-align: top;\n",
       "    }\n",
       "\n",
       "    .dataframe thead th {\n",
       "        text-align: right;\n",
       "    }\n",
       "</style>\n",
       "<table border=\"1\" class=\"dataframe\">\n",
       "  <thead>\n",
       "    <tr style=\"text-align: right;\">\n",
       "      <th></th>\n",
       "      <th>0</th>\n",
       "      <th>1</th>\n",
       "      <th>2</th>\n",
       "    </tr>\n",
       "  </thead>\n",
       "  <tbody>\n",
       "    <tr>\n",
       "      <th>0</th>\n",
       "      <td>1</td>\n",
       "      <td>0</td>\n",
       "      <td>USER_MENTION when a father is dysfunctional an...</td>\n",
       "    </tr>\n",
       "    <tr>\n",
       "      <th>1</th>\n",
       "      <td>2</td>\n",
       "      <td>0</td>\n",
       "      <td>USER_MENTION USER_MENTION thanks for lyft cred...</td>\n",
       "    </tr>\n",
       "    <tr>\n",
       "      <th>2</th>\n",
       "      <td>3</td>\n",
       "      <td>0</td>\n",
       "      <td>bihday your majesty</td>\n",
       "    </tr>\n",
       "    <tr>\n",
       "      <th>3</th>\n",
       "      <td>4</td>\n",
       "      <td>0</td>\n",
       "      <td>model i love u take with u all the time in urð</td>\n",
       "    </tr>\n",
       "    <tr>\n",
       "      <th>4</th>\n",
       "      <td>5</td>\n",
       "      <td>0</td>\n",
       "      <td>factsguide society now motivation</td>\n",
       "    </tr>\n",
       "  </tbody>\n",
       "</table>\n",
       "</div>"
      ],
      "text/plain": [
       "   0  1                                                  2\n",
       "0  1  0  USER_MENTION when a father is dysfunctional an...\n",
       "1  2  0  USER_MENTION USER_MENTION thanks for lyft cred...\n",
       "2  3  0                                bihday your majesty\n",
       "3  4  0     model i love u take with u all the time in urð\n",
       "4  5  0                  factsguide society now motivation"
      ]
     },
     "execution_count": 7,
     "metadata": {},
     "output_type": "execute_result"
    }
   ],
   "source": [
    "trainTweetsProc = [] # Creating an empty list to store the data set above.\n",
    "i = 0\n",
    "while i < tweetsTrain.shape[0]:\n",
    "    trainTweetsProc.append([tweetsTrain.iloc[i,1], tweetsTrain.iloc[i,2], tweetsTrain.iloc[i,3]]) # Adds each row to the list, excluding the first column of the data set.\n",
    "    i += 1\n",
    "\n",
    "trainTweetsP = pd.DataFrame(trainTweetsProc) # Casts the list to a data frame, which is cleaned.\n",
    "trainTweetsP.head()"
   ]
  },
  {
   "cell_type": "code",
   "execution_count": 8,
   "metadata": {},
   "outputs": [
    {
     "data": {
      "text/html": [
       "<div>\n",
       "<style scoped>\n",
       "    .dataframe tbody tr th:only-of-type {\n",
       "        vertical-align: middle;\n",
       "    }\n",
       "\n",
       "    .dataframe tbody tr th {\n",
       "        vertical-align: top;\n",
       "    }\n",
       "\n",
       "    .dataframe thead th {\n",
       "        text-align: right;\n",
       "    }\n",
       "</style>\n",
       "<table border=\"1\" class=\"dataframe\">\n",
       "  <thead>\n",
       "    <tr style=\"text-align: right;\">\n",
       "      <th></th>\n",
       "      <th>2</th>\n",
       "    </tr>\n",
       "  </thead>\n",
       "  <tbody>\n",
       "    <tr>\n",
       "      <th>0</th>\n",
       "      <td>USER_MENTION when a father is dysfunctional an...</td>\n",
       "    </tr>\n",
       "    <tr>\n",
       "      <th>1</th>\n",
       "      <td>USER_MENTION USER_MENTION thanks for lyft cred...</td>\n",
       "    </tr>\n",
       "    <tr>\n",
       "      <th>2</th>\n",
       "      <td>bihday your majesty</td>\n",
       "    </tr>\n",
       "    <tr>\n",
       "      <th>3</th>\n",
       "      <td>model i love u take with u all the time in urð</td>\n",
       "    </tr>\n",
       "    <tr>\n",
       "      <th>4</th>\n",
       "      <td>factsguide society now motivation</td>\n",
       "    </tr>\n",
       "  </tbody>\n",
       "</table>\n",
       "</div>"
      ],
      "text/plain": [
       "                                                   2\n",
       "0  USER_MENTION when a father is dysfunctional an...\n",
       "1  USER_MENTION USER_MENTION thanks for lyft cred...\n",
       "2                                bihday your majesty\n",
       "3     model i love u take with u all the time in urð\n",
       "4                  factsguide society now motivation"
      ]
     },
     "execution_count": 8,
     "metadata": {},
     "output_type": "execute_result"
    }
   ],
   "source": [
    "tweetsTraining = trainTweetsP[[2]] # Extracts the tweets column from the clean data frame above.\n",
    "tweetsTraining.head()"
   ]
  },
  {
   "cell_type": "code",
   "execution_count": 9,
   "metadata": {},
   "outputs": [],
   "source": [
    "tweetTrainingList = [] # Creating an empty list to store the tweets.\n",
    "i = 0\n",
    "while i < tweetsTraining.shape[0]:\n",
    "    tweetTrainingList.append(tweetsTraining.iloc[i,0]) # Adds each tweet to the list.\n",
    "    i += 1"
   ]
  },
  {
   "cell_type": "code",
   "execution_count": 10,
   "metadata": {},
   "outputs": [],
   "source": [
    "stringOfTrainTweets = \" \".join(tweetTrainingList) # Joins the tweets together into one giant string, with a space between every two consecutive tweets."
   ]
  },
  {
   "cell_type": "code",
   "execution_count": 11,
   "metadata": {},
   "outputs": [],
   "source": [
    "stopWords = set(stopwords.words('english'))\n",
    "tokens = word_tokenize(stringOfTrainTweets)\n",
    "wordsFiltered = []\n",
    "\n",
    "for w in tokens:\n",
    "    if w not in stopWords:\n",
    "        wordsFiltered.append(w)"
   ]
  },
  {
   "cell_type": "code",
   "execution_count": 12,
   "metadata": {},
   "outputs": [],
   "source": [
    "#Creating Unigram"
   ]
  },
  {
   "cell_type": "code",
   "execution_count": 13,
   "metadata": {},
   "outputs": [
    {
     "data": {
      "image/png": "[encoded data removed]",
      "text/plain": [
       "<Figure size 432x288 with 1 Axes>"
      ]
     },
     "metadata": {
      "needs_background": "light"
     },
     "output_type": "display_data"
    }
   ],
   "source": [
    "#Plotting unigram\n",
    "# r = trainDf[[\"0.1\"]]\n",
    "# trainDf_string = trainDf.to_string()\n",
    "#creating tokens\n",
    "# tokens = word_tokenize(stringOfTrainTweets)\n",
    "vocab = set(wordsFiltered)\n",
    "frequencyDist = nltk.FreqDist(wordsFiltered)\n",
    "data = sorted(frequencyDist,key=frequencyDist.__getitem__, reverse=True)\n",
    "data[0:20]\n",
    "frequencyDist.plot(20, cumulative=False)"
   ]
  },
  {
   "cell_type": "code",
   "execution_count": 14,
   "metadata": {},
   "outputs": [
    {
     "data": {
      "text/plain": [
       "41435"
      ]
     },
     "execution_count": 14,
     "metadata": {},
     "output_type": "execute_result"
    }
   ],
   "source": [
    "len(vocab) \n",
    "# So, proportionally num. of sparse vector = 3440\n",
    "#and num of dense vector = 20,650"
   ]
  },
  {
   "cell_type": "code",
   "execution_count": 15,
   "metadata": {},
   "outputs": [
    {
     "data": {
      "text/plain": [
       "['USER_MENTION',\n",
       " 'love',\n",
       " 'day',\n",
       " 'happy',\n",
       " 'amp',\n",
       " 'im',\n",
       " 'u',\n",
       " 'time',\n",
       " 'life',\n",
       " 'like']"
      ]
     },
     "execution_count": 15,
     "metadata": {},
     "output_type": "execute_result"
    }
   ],
   "source": [
    "sparseVector = data[0:3430]\n",
    "denseVector = data[0:20580]\n",
    "denseVector[0:10]"
   ]
  },
  {
   "cell_type": "code",
   "execution_count": 16,
   "metadata": {},
   "outputs": [],
   "source": [
    "# def generate_ngrams(s, n):\n",
    "    \n",
    "#     # Replace all none alphanumeric characters with spaces\n",
    "#     s = re.sub(r'[^a-zA-Z0-9\\s]', ' ', s)\n",
    "    \n",
    "#     # Break sentence in the token, remove empty tokens\n",
    "#     tokens = [token for token in s.split(\" \") if token != \"\"]\n",
    "    \n",
    "#     # Use the zip function to help us generate n-grams\n",
    "#     # Concatentate the tokens into ngrams and return\n",
    "#     ngrams = zip(*[token[i:] for i in range(n)])\n",
    "#     return [\" \".join(ngram) for ngram in ngrams]"
   ]
  },
  {
   "cell_type": "code",
   "execution_count": 17,
   "metadata": {},
   "outputs": [],
   "source": [
    "# a = 'today was so cool. i did nothing. amazing, right?'"
   ]
  },
  {
   "cell_type": "code",
   "execution_count": 18,
   "metadata": {},
   "outputs": [],
   "source": [
    "# generate_ngrams(a, n=2)"
   ]
  },
  {
   "cell_type": "code",
   "execution_count": 19,
   "metadata": {},
   "outputs": [],
   "source": [
    "# b = 'time to go home! next time, we will go to the cinema. how does that sound? do you want to go to the cinema?'"
   ]
  },
  {
   "cell_type": "code",
   "execution_count": 20,
   "metadata": {},
   "outputs": [],
   "source": [
    "# #Trial : To be del.\n",
    "# tokens = [token for token in stringOfTrainTweets.split(\" \") if token != \"\"]\n",
    "# output = list(ngrams(tokens, 2))"
   ]
  },
  {
   "cell_type": "code",
   "execution_count": 21,
   "metadata": {},
   "outputs": [],
   "source": [
    "output = []\n",
    "i = 0\n",
    "while i < len(tweetTrainingList):\n",
    "    tokens1 = word_tokenize(tweetTrainingList[i])\n",
    "    tweetFil = []\n",
    "    for w in tokens1:\n",
    "        if w not in stopWords:\n",
    "            tweetFil.append(w)\n",
    "    output.extend(list(ngrams(tweetFil, 2)))\n",
    "    i += 1"
   ]
  },
  {
   "cell_type": "code",
   "execution_count": 22,
   "metadata": {},
   "outputs": [],
   "source": [
    "# a = \"the weather today is pleasant\"\n",
    "# b = a.split(\" \")\n",
    "# print(b)"
   ]
  },
  {
   "cell_type": "code",
   "execution_count": 23,
   "metadata": {},
   "outputs": [],
   "source": [
    "# output = []\n",
    "# i = 0\n",
    "# while i < len(tweetTrainingList):\n",
    "#     tokens = [token for token in tweetTrainingList[i].split(\" \") if token != \"\"]\n",
    "#     output.extend(list(ngrams(tokens, 2)))\n",
    "#     i += 1"
   ]
  },
  {
   "cell_type": "code",
   "execution_count": 24,
   "metadata": {},
   "outputs": [
    {
     "data": {
      "text/plain": [
       "[('USER_MENTION', 'father'),\n",
       " ('father', 'dysfunctional'),\n",
       " ('dysfunctional', 'selfish'),\n",
       " ('selfish', 'drags'),\n",
       " ('drags', 'kids'),\n",
       " ('kids', 'dysfunction'),\n",
       " ('dysfunction', 'run'),\n",
       " ('USER_MENTION', 'USER_MENTION'),\n",
       " ('USER_MENTION', 'thanks'),\n",
       " ('thanks', 'lyft')]"
      ]
     },
     "execution_count": 24,
     "metadata": {},
     "output_type": "execute_result"
    }
   ],
   "source": [
    "output[0:10]"
   ]
  },
  {
   "cell_type": "code",
   "execution_count": 25,
   "metadata": {},
   "outputs": [
    {
     "data": {
      "text/plain": [
       "[('USER_MENTION', 'USER_MENTION'),\n",
       " ('fathers', 'day'),\n",
       " ('thankful', 'positive'),\n",
       " ('positive', 'affirmation'),\n",
       " ('love', 'u'),\n",
       " ('cant', 'wait'),\n",
       " ('u', 'take'),\n",
       " ('take', 'u'),\n",
       " ('u', 'time'),\n",
       " ('model', 'love'),\n",
       " ('time', 'urð'),\n",
       " ('i_am', 'positive'),\n",
       " ('blog', 'silver'),\n",
       " ('silver', 'gold'),\n",
       " ('gold', 'forex'),\n",
       " ('altwaystoheal', 'healthy'),\n",
       " ('via', 'USER_MENTION'),\n",
       " ('polar', 'bear'),\n",
       " ('whatever', 'want'),\n",
       " ('bull', 'dominate')]"
      ]
     },
     "execution_count": 25,
     "metadata": {},
     "output_type": "execute_result"
    }
   ],
   "source": [
    "bigrams = set(output)\n",
    "frequency_dist = nltk.FreqDist(output)\n",
    "data1 = sorted(frequency_dist,key=frequency_dist.__getitem__, reverse=True)\n",
    "data1[0:20]"
   ]
  },
  {
   "cell_type": "code",
   "execution_count": 26,
   "metadata": {},
   "outputs": [
    {
     "data": {
      "text/plain": [
       "161278"
      ]
     },
     "execution_count": 26,
     "metadata": {},
     "output_type": "execute_result"
    }
   ],
   "source": [
    "len(data1)"
   ]
  },
  {
   "cell_type": "code",
   "execution_count": 27,
   "metadata": {},
   "outputs": [
    {
     "data": {
      "text/plain": [
       "161278"
      ]
     },
     "execution_count": 27,
     "metadata": {},
     "output_type": "execute_result"
    }
   ],
   "source": [
    "len(bigrams)"
   ]
  },
  {
   "cell_type": "code",
   "execution_count": 28,
   "metadata": {},
   "outputs": [
    {
     "data": {
      "text/plain": [
       "[('USER_MENTION', 'USER_MENTION'),\n",
       " ('fathers', 'day'),\n",
       " ('thankful', 'positive'),\n",
       " ('positive', 'affirmation'),\n",
       " ('love', 'u'),\n",
       " ('cant', 'wait'),\n",
       " ('u', 'take'),\n",
       " ('take', 'u'),\n",
       " ('u', 'time'),\n",
       " ('model', 'love')]"
      ]
     },
     "execution_count": 28,
     "metadata": {},
     "output_type": "execute_result"
    }
   ],
   "source": [
    "bigramsVocab = data1[0:830]\n",
    "bigramsVocab[0:10]"
   ]
  },
  {
   "cell_type": "code",
   "execution_count": 29,
   "metadata": {},
   "outputs": [
    {
     "data": {
      "image/png": "[encoded data removed]",
      "text/plain": [
       "<Figure size 432x288 with 1 Axes>"
      ]
     },
     "metadata": {
      "needs_background": "light"
     },
     "output_type": "display_data"
    }
   ],
   "source": [
    "frequency_dist.plot(20, cumulative=False)"
   ]
  },
  {
   "cell_type": "code",
   "execution_count": 30,
   "metadata": {},
   "outputs": [
    {
     "data": {
      "text/plain": [
       "CountVectorizer(analyzer='word', binary=False, decode_error='strict',\n",
       "        dtype=<class 'numpy.int64'>, encoding='utf-8', input='content',\n",
       "        lowercase=True, max_df=1.0, max_features=None, min_df=1,\n",
       "        ngram_range=(1, 1), preprocessor=None, stop_words=None,\n",
       "        strip_accents=None, token_pattern='(?u)\\\\b\\\\w\\\\w+\\\\b',\n",
       "        tokenizer=None, vocabulary=None)"
      ]
     },
     "execution_count": 30,
     "metadata": {},
     "output_type": "execute_result"
    }
   ],
   "source": [
    "vectorizer = CountVectorizer()\n",
    ">>> vectorizer   "
   ]
  },
  {
   "cell_type": "code",
   "execution_count": 31,
   "metadata": {},
   "outputs": [],
   "source": [
    "# corpus = [\n",
    "# ...     'This is the first document.',\n",
    "# ...     'This is the second second document.',\n",
    "# ...     'And the third one.',\n",
    "# ...     'Is this the first document?',\n",
    "# ... ]\n",
    "# X = vectorizer.fit_transform(corpus)\n",
    "# >>> X     "
   ]
  },
  {
   "cell_type": "code",
   "execution_count": 32,
   "metadata": {},
   "outputs": [],
   "source": [
    "# vectorizer.get_feature_names() == (\n",
    "# ...     ['and', 'document', 'first', 'is', 'one',\n",
    "# ...      'second', 'the', 'third', 'this'])"
   ]
  },
  {
   "cell_type": "code",
   "execution_count": 33,
   "metadata": {},
   "outputs": [],
   "source": [
    "# vectorizer.get_feature_names()"
   ]
  },
  {
   "cell_type": "code",
   "execution_count": 34,
   "metadata": {},
   "outputs": [],
   "source": [
    "# extract = ['he went to the mall to watch a movie', 'he watched a movie', 'he went cycling with his friends', 'he cooks delicious food']\n",
    "# extractFil = []\n",
    "# i = 0\n",
    "# while i < len(extract):\n",
    "#     tokens1 = word_tokenize(extract[i])\n",
    "#     tweetFil = []\n",
    "#     for w in tokens1:\n",
    "#         if w not in stopWords:\n",
    "#             tweetFil.append(w)\n",
    "#     extractFil.append(\" \".join(tweetFil))\n",
    "#     i += 1\n",
    "# outputA = []\n",
    "# i = 0\n",
    "# while i < len(extract):\n",
    "#     tokens1 = word_tokenize(extract[i])\n",
    "#     tweetFil = []\n",
    "#     for w in tokens1:\n",
    "#         if w not in stopWords:\n",
    "#             tweetFil.append(w)\n",
    "#     outputA.extend(list(ngrams(tweetFil, 1)))\n",
    "#     i += 1\n",
    "# setA = set(outputA)\n",
    "# outputB = []\n",
    "# i = 0\n",
    "# while i < len(extract):\n",
    "#     tokens1 = word_tokenize(extract[i])\n",
    "#     tweetFil = []\n",
    "#     for w in tokens1:\n",
    "#         if w not in stopWords:\n",
    "#             tweetFil.append(w)\n",
    "#     outputB.extend(list(ngrams(tweetFil, 2)))\n",
    "#     i += 1\n",
    "# setB = set(outputB)\n",
    "# # len(set(outputA))+len(vectorizer.get_feature_names())\n",
    "# len(setA)+len(setB)"
   ]
  },
  {
   "cell_type": "code",
   "execution_count": 35,
   "metadata": {},
   "outputs": [],
   "source": [
    "# words = ['he', 'went', 'to', 'the', 'mall', 'watch', 'a', 'movie', 'the mall']\n",
    "# M = vectorizer.fit_transform(words)\n",
    "# vectorizer.get_feature_names()"
   ]
  },
  {
   "cell_type": "code",
   "execution_count": 36,
   "metadata": {},
   "outputs": [],
   "source": [
    "# A = M.toarray()"
   ]
  },
  {
   "cell_type": "code",
   "execution_count": 37,
   "metadata": {},
   "outputs": [],
   "source": [
    "# M.toarray()"
   ]
  },
  {
   "cell_type": "code",
   "execution_count": 38,
   "metadata": {},
   "outputs": [],
   "source": [
    "# print(A[2])"
   ]
  },
  {
   "cell_type": "code",
   "execution_count": 39,
   "metadata": {},
   "outputs": [],
   "source": [
    "# X.toarray()"
   ]
  },
  {
   "cell_type": "code",
   "execution_count": 40,
   "metadata": {},
   "outputs": [],
   "source": [
    "# vectorizer.vocabulary_.get('document')"
   ]
  },
  {
   "cell_type": "code",
   "execution_count": 41,
   "metadata": {},
   "outputs": [],
   "source": [
    "# vectorizer.transform(['Something completely new.']).toarray()"
   ]
  },
  {
   "cell_type": "code",
   "execution_count": 42,
   "metadata": {},
   "outputs": [
    {
     "data": {
      "text/plain": [
       "'i will never msg him first if he dun msg me firstdisappointed'"
      ]
     },
     "execution_count": 42,
     "metadata": {},
     "output_type": "execute_result"
    }
   ],
   "source": [
    "tweetTrainingList[30000]"
   ]
  },
  {
   "cell_type": "code",
   "execution_count": 43,
   "metadata": {},
   "outputs": [],
   "source": [
    "tweetListFiltered = []\n",
    "for element in tweetTrainingList:\n",
    "    words = word_tokenize(element)\n",
    "    wordsFiltered = []\n",
    "\n",
    "    for w in words:\n",
    "        if w not in stopWords:\n",
    "            wordsFiltered.append(w)\n",
    "    tweetListFiltered.append(\" \".join(wordsFiltered))"
   ]
  },
  {
   "cell_type": "code",
   "execution_count": 44,
   "metadata": {},
   "outputs": [
    {
     "data": {
      "text/plain": [
       "'never msg first dun msg firstdisappointed'"
      ]
     },
     "execution_count": 44,
     "metadata": {},
     "output_type": "execute_result"
    }
   ],
   "source": [
    "tweetListFiltered[30000]"
   ]
  },
  {
   "cell_type": "code",
   "execution_count": 45,
   "metadata": {},
   "outputs": [],
   "source": [
    "from scipy import sparse \n",
    "# >>> bigram_vectorizer = CountVectorizer(ngram_range=(1, 2),\n",
    "# ...                                     token_pattern=r'\\b\\w+\\b', min_df=1)\n",
    "# >>> analyze = bigram_vectorizer.build_analyzer()\n",
    "# # tweetListVectors = bigram_vectorizer.fit_transform(tweetListFiltered).toarray()\n",
    "# tweetVectorsA = sparse.lil_matrix(bigram_vectorizer.fit_transform(tweetListFiltered[0:5000]).toarray())\n",
    "\n",
    "# # tweetListVectors\n",
    "# # >>> analyze('Bi-grams are cool!') == (\n",
    "# # ...     ['bi', 'grams', 'are', 'cool', 'bi grams', 'grams are', 'are cool'])"
   ]
  },
  {
   "cell_type": "code",
   "execution_count": 46,
   "metadata": {},
   "outputs": [
    {
     "name": "stdout",
     "output_type": "stream",
     "text": [
      "[ 7  9 11 13 15]\n"
     ]
    }
   ],
   "source": [
    "a = np.array([1,2,3,4,5])\n",
    "b = np.array([6,7,8,9,10])\n",
    "print(a+b)"
   ]
  },
  {
   "cell_type": "code",
   "execution_count": 47,
   "metadata": {},
   "outputs": [
    {
     "data": {
      "text/plain": [
       "array([[0, 0, 0, 0],\n",
       "       [0, 0, 0, 0],\n",
       "       [0, 0, 0, 0]], dtype=int8)"
      ]
     },
     "execution_count": 47,
     "metadata": {},
     "output_type": "execute_result"
    }
   ],
   "source": [
    "csc_matrix((3, 4), dtype=np.int8).toarray()"
   ]
  },
  {
   "cell_type": "code",
   "execution_count": 48,
   "metadata": {},
   "outputs": [],
   "source": [
    "def get_sparse_size(matrix):\n",
    "    # get size of a sparse matrix\n",
    "    return int((matrix.data.nbytes + matrix.indptr.nbytes + matrix.indices.nbytes) / 1024.)"
   ]
  },
  {
   "cell_type": "code",
   "execution_count": 49,
   "metadata": {},
   "outputs": [],
   "source": [
    "# create a sparse matrix, 1000 x 100000\n",
    "sparse_mat = random(10 ** 3, 10 ** 5, format='csr')"
   ]
  },
  {
   "cell_type": "code",
   "execution_count": 50,
   "metadata": {},
   "outputs": [],
   "source": [
    "# get size of a sparse matrix\n",
    "sparse_size = get_sparse_size(sparse_mat)"
   ]
  },
  {
   "cell_type": "code",
   "execution_count": 51,
   "metadata": {},
   "outputs": [],
   "source": [
    "# convert sparse matrix to a regular matrix and get its size\n",
    "regular_size = sparse_mat.toarray().nbytes / 1024."
   ]
  },
  {
   "cell_type": "code",
   "execution_count": 52,
   "metadata": {},
   "outputs": [
    {
     "name": "stdout",
     "output_type": "stream",
     "text": [
      "The size of sparse matrix is 11722 KiB\n",
      "The size of regular matrix is 781250.0 KiB\n",
      "Data compression ratio is 66.6481829039413\n"
     ]
    }
   ],
   "source": [
    "print(\"The size of sparse matrix is %s KiB\" % sparse_size)\n",
    "print(\"The size of regular matrix is %s KiB\" % regular_size)\n",
    "print(\"Data compression ratio is %s\" % (regular_size / sparse_size))"
   ]
  },
  {
   "cell_type": "code",
   "execution_count": 53,
   "metadata": {},
   "outputs": [
    {
     "data": {
      "text/plain": [
       "array([[0.        , 0.08833981, 0.16911084],\n",
       "       [0.        , 0.        , 0.        ],\n",
       "       [0.19806286, 0.76053071, 0.22479665]])"
      ]
     },
     "execution_count": 53,
     "metadata": {},
     "output_type": "execute_result"
    }
   ],
   "source": [
    "np.random.seed(10)\n",
    "matrix = random(3, 3, format='lil', density=0.6)\n",
    "matrix.toarray()"
   ]
  },
  {
   "cell_type": "code",
   "execution_count": 54,
   "metadata": {},
   "outputs": [
    {
     "data": {
      "text/plain": [
       "array([list([0.08833981417401027, 0.16911083656253545]), list([]),\n",
       "       list([0.19806286475962398, 0.7605307121989587, 0.22479664553084766])],\n",
       "      dtype=object)"
      ]
     },
     "execution_count": 54,
     "metadata": {},
     "output_type": "execute_result"
    }
   ],
   "source": [
    "matrix.data"
   ]
  },
  {
   "cell_type": "code",
   "execution_count": 55,
   "metadata": {},
   "outputs": [
    {
     "data": {
      "text/plain": [
       "array([list([1, 2]), list([]), list([0, 1, 2])], dtype=object)"
      ]
     },
     "execution_count": 55,
     "metadata": {},
     "output_type": "execute_result"
    }
   ],
   "source": [
    "matrix.rows"
   ]
  },
  {
   "cell_type": "code",
   "execution_count": 56,
   "metadata": {},
   "outputs": [],
   "source": [
    "def get_item(row_index, column_index, matrix):\n",
    "    row_values = matrix.data[row_index]\n",
    "    row_indices = matrix.rows[row_index]\n",
    "\n",
    "    value_index = row_indices.index(column_index)\n",
    "    if value_index >= 0:\n",
    "        return row_values[value_index]\n",
    "    else:\n",
    "        return 0"
   ]
  },
  {
   "cell_type": "code",
   "execution_count": 57,
   "metadata": {},
   "outputs": [
    {
     "name": "stdout",
     "output_type": "stream",
     "text": [
      "0.22479664553084766\n"
     ]
    }
   ],
   "source": [
    "print(matrix[2, 2])"
   ]
  },
  {
   "cell_type": "code",
   "execution_count": 58,
   "metadata": {},
   "outputs": [],
   "source": [
    "# analyze(extract[0])"
   ]
  },
  {
   "cell_type": "code",
   "execution_count": 59,
   "metadata": {},
   "outputs": [],
   "source": [
    "# bigr_vectorizer = CountVectorizer(ngram_range=(1, 2), token_pattern=r'\\b\\w+\\b', min_df=1)\n",
    "# analyz = bigr_vectorizer.build_analyzer()\n",
    "# wordSet = []\n",
    "# for element in extract:\n",
    "#     wordSet.extend(analyze(element))\n",
    "# wordSet"
   ]
  },
  {
   "cell_type": "code",
   "execution_count": 60,
   "metadata": {},
   "outputs": [],
   "source": [
    "# X_2 = bigram_vectorizer.fit_transform(corpus).toarray()\n",
    "# >>> X_2"
   ]
  },
  {
   "cell_type": "code",
   "execution_count": 61,
   "metadata": {},
   "outputs": [
    {
     "data": {
      "text/plain": [
       "[1, 1, 1, 1, 1, 0]"
      ]
     },
     "execution_count": 61,
     "metadata": {},
     "output_type": "execute_result"
    }
   ],
   "source": [
    "corpus = [\n",
    "...     'this is the first document',\n",
    "...     'this is the second second document',\n",
    "...     'and the third one',\n",
    "...     'is this the first document',\n",
    "... ]\n",
    "    \n",
    "listOfTokens = ['this', 'is', 'the', 'first', 'first document', 'second document']\n",
    "[1,1,1,1,1,0]"
   ]
  },
  {
   "cell_type": "code",
   "execution_count": 62,
   "metadata": {},
   "outputs": [],
   "source": [
    "# feature_index = bigram_vectorizer.vocabulary_.get('is this')\n",
    "# >>> X_2[:, feature_index] "
   ]
  },
  {
   "cell_type": "code",
   "execution_count": 63,
   "metadata": {},
   "outputs": [],
   "source": [
    "sparseVector.extend(bigramsVocab)"
   ]
  },
  {
   "cell_type": "code",
   "execution_count": 64,
   "metadata": {},
   "outputs": [
    {
     "data": {
      "text/plain": [
       "[('fathers', 'day'),\n",
       " ('thankful', 'positive'),\n",
       " ('positive', 'affirmation'),\n",
       " ('love', 'u')]"
      ]
     },
     "execution_count": 64,
     "metadata": {},
     "output_type": "execute_result"
    }
   ],
   "source": [
    "sparseVector[3431:3435]"
   ]
  },
  {
   "cell_type": "code",
   "execution_count": 65,
   "metadata": {},
   "outputs": [],
   "source": [
    "sparseVectorMod = sparseVector"
   ]
  },
  {
   "cell_type": "code",
   "execution_count": 66,
   "metadata": {},
   "outputs": [],
   "source": [
    "i = 3430\n",
    "while i < len(sparseVectorMod):\n",
    "    element = \" \".join(sparseVectorMod[i])\n",
    "    sparseVectorMod[i] = element\n",
    "    i += 1"
   ]
  },
  {
   "cell_type": "code",
   "execution_count": 67,
   "metadata": {},
   "outputs": [
    {
     "data": {
      "text/plain": [
       "['fathers day', 'thankful positive', 'positive affirmation', 'love u']"
      ]
     },
     "execution_count": 67,
     "metadata": {},
     "output_type": "execute_result"
    }
   ],
   "source": [
    "sparseVectorMod[3431:3435]"
   ]
  },
  {
   "cell_type": "code",
   "execution_count": 68,
   "metadata": {},
   "outputs": [],
   "source": [
    "sparseVectorA = sparseVectorMod[0:3430]"
   ]
  },
  {
   "cell_type": "code",
   "execution_count": 69,
   "metadata": {},
   "outputs": [
    {
     "name": "stdout",
     "output_type": "stream",
     "text": [
      "USER_MENTION\n",
      "instalikeâ\n"
     ]
    }
   ],
   "source": [
    "print(sparseVectorA[0])\n",
    "print(sparseVectorA[3429])"
   ]
  },
  {
   "cell_type": "code",
   "execution_count": 70,
   "metadata": {},
   "outputs": [],
   "source": [
    "sparseVectorB = sparseVectorMod[3430:4260]"
   ]
  },
  {
   "cell_type": "code",
   "execution_count": 71,
   "metadata": {},
   "outputs": [
    {
     "name": "stdout",
     "output_type": "stream",
     "text": [
      "USER_MENTION USER_MENTION\n",
      "love summer\n"
     ]
    }
   ],
   "source": [
    "print(sparseVectorB[0])\n",
    "print(sparseVectorB[829])"
   ]
  },
  {
   "cell_type": "code",
   "execution_count": 73,
   "metadata": {},
   "outputs": [],
   "source": [
    "tweetVectors = []\n",
    "i = 0\n",
    "while i < len(tweetListFiltered):\n",
    "    tweetWords = tweetListFiltered[i].split()\n",
    "    vector = []\n",
    "    for element in sparseVectorA:\n",
    "        j = 0\n",
    "        k = 0\n",
    "        while j < len(tweetWords):\n",
    "            if tweetWords[j] == element:\n",
    "                k += 1\n",
    "            j += 1\n",
    "        vector.append(k)\n",
    "    for element in sparseVectorB:\n",
    "        bigramWords = element.split()\n",
    "        j = 0\n",
    "        k = 0\n",
    "        while j < len(tweetWords)-1:\n",
    "            if tweetWords[j] == bigramWords[0] and tweetWords[j+1] == bigramWords[1]:\n",
    "                k += 1\n",
    "            j += 1\n",
    "        vector.append(k)\n",
    "    tweetVectors.append(vector)\n",
    "    i += 1\n",
    "# tweetVectors = np.array([])\n",
    "# tweetVectors = np.append(tweetVectors, [1, 3, 4])\n",
    "# tweetVectors = np.append(tweetVectors, [1, 3, 4])\n",
    "# tweetVectors = np.append(tweetVectors, 1)\n",
    "# tweetVectors = np.append(tweetVectors, 2)\n",
    "# tweetVectors.append(1)\n",
    "# tweetVectors\n"
   ]
  },
  {
   "cell_type": "code",
   "execution_count": 74,
   "metadata": {},
   "outputs": [],
   "source": [
    "numTweetsWTerm = []\n",
    "for element in sparseVectorA:\n",
    "    m = 0\n",
    "    for tweet in tweetListFiltered:\n",
    "        tweetWords = tweet.split()\n",
    "        if element in tweetWords:\n",
    "            m += 1\n",
    "    numTweetsWTerm.append(m)\n",
    "for element in sparseVectorB:\n",
    "    m = 0\n",
    "    for tweet in tweetListFiltered:\n",
    "        tweetWords = tweet.split()\n",
    "        big = list(ngrams(tweetWords, 2))\n",
    "        bigrams = []\n",
    "        for part in big:\n",
    "            portion = \" \".join(part)\n",
    "            bigrams.append(portion)\n",
    "        if element in bigrams:\n",
    "            m += 1\n",
    "    numTweetsWTerm.append(m)\n"
   ]
  },
  {
   "cell_type": "code",
   "execution_count": 75,
   "metadata": {},
   "outputs": [
    {
     "data": {
      "text/plain": [
       "4260"
      ]
     },
     "execution_count": 75,
     "metadata": {},
     "output_type": "execute_result"
    }
   ],
   "source": [
    "len(numTweetsWTerm)"
   ]
  },
  {
   "cell_type": "code",
   "execution_count": 76,
   "metadata": {},
   "outputs": [
    {
     "data": {
      "text/plain": [
       "[11098, 2515, 2062, 1593, 1428, 1077, 717, 1090, 1016, 994]"
      ]
     },
     "execution_count": 76,
     "metadata": {},
     "output_type": "execute_result"
    }
   ],
   "source": [
    "numTweetsWTerm[0:10]"
   ]
  },
  {
   "cell_type": "code",
   "execution_count": 77,
   "metadata": {},
   "outputs": [
    {
     "data": {
      "text/plain": [
       "[12, 12, 12, 12, 12, 12, 12, 12, 12, 12]"
      ]
     },
     "execution_count": 77,
     "metadata": {},
     "output_type": "execute_result"
    }
   ],
   "source": [
    "numTweetsWTerm[4250:4260]"
   ]
  },
  {
   "cell_type": "code",
   "execution_count": 78,
   "metadata": {},
   "outputs": [],
   "source": [
    "# svB = ['cute kitten', 'to all']\n",
    "# texts = ['hello how are you', 'hello to all whats up', 'hello to all the people out there', 'thats a cute kitten']\n",
    "# numTexts = []\n",
    "# for element in svB:\n",
    "#     m = 0\n",
    "#     for text in texts:\n",
    "#         words = text.split()\n",
    "#         big = list(ngrams(words, 2))\n",
    "#         bigrams = []\n",
    "#         for part in big:\n",
    "#             portion = \" \".join(part)\n",
    "#             bigrams.append(portion)\n",
    "#         if element in bigrams:\n",
    "#             m += 1\n",
    "#     numTexts.append(m)\n",
    "# print(numTexts)"
   ]
  },
  {
   "cell_type": "code",
   "execution_count": 79,
   "metadata": {},
   "outputs": [],
   "source": [
    "# svA = ['hello', 'to', 'kitten']\n",
    "# numTxts = []\n",
    "# for element in svA:\n",
    "#     m = 0\n",
    "#     for text in texts:\n",
    "#         words = text.split()\n",
    "#         if element in words:\n",
    "#             m += 1\n",
    "#     numTxts.append(m)\n",
    "# print(numTxts)"
   ]
  },
  {
   "cell_type": "code",
   "execution_count": 80,
   "metadata": {},
   "outputs": [],
   "source": [
    "\n",
    "# big = list(ngrams(texts[0].split(), 2))\n",
    "# for part in big:\n",
    "#     portion = \" \".join(part)\n",
    "#     part = portion\n",
    "# big"
   ]
  },
  {
   "cell_type": "code",
   "execution_count": 81,
   "metadata": {},
   "outputs": [],
   "source": [
    "tweetVectorsIDF = []\n",
    "for element in tweetVectors:\n",
    "    i = 0\n",
    "    vector = []\n",
    "    for piece in element:\n",
    "        term = math.log10((1+len(tweetListFiltered))/(1+numTweetsWTerm[i]))+1\n",
    "        newTerm = piece * term\n",
    "        vector.append(newTerm)\n",
    "        i += 1\n",
    "    tweetVectorsIDF.append(vector)"
   ]
  },
  {
   "cell_type": "code",
   "execution_count": 82,
   "metadata": {},
   "outputs": [],
   "source": [
    "# vectorsAA = [[1,2,3],[1,5,9],[1,1,8]]\n",
    "# numTextsAppears = [50,21,3]\n",
    "# vectorsIDF = []\n",
    "# for element in vectorsAA:\n",
    "#     i = 0\n",
    "#     vector = []\n",
    "#     for piece in element:\n",
    "#         term = math.log10((1+800)/(1+numTextsAppears[i]))+1\n",
    "#         newTerm = piece * term\n",
    "#         vector.append(newTerm)\n",
    "#         i += 1\n",
    "#     vectorsIDF.append(vector)\n",
    "# print(vectorsIDF)"
   ]
  },
  {
   "cell_type": "code",
   "execution_count": 83,
   "metadata": {},
   "outputs": [],
   "source": [
    "# tweetVectorsIDF[5][0:20]"
   ]
  },
  {
   "cell_type": "code",
   "execution_count": 84,
   "metadata": {},
   "outputs": [],
   "source": [
    "# tweetVectors[5]"
   ]
  },
  {
   "cell_type": "code",
   "execution_count": 85,
   "metadata": {},
   "outputs": [],
   "source": [
    "# len(tweetVectorsIDF)"
   ]
  },
  {
   "cell_type": "code",
   "execution_count": 86,
   "metadata": {},
   "outputs": [],
   "source": [
    "idfVectors = np.array(tweetVectorsIDF)"
   ]
  },
  {
   "cell_type": "code",
   "execution_count": 87,
   "metadata": {},
   "outputs": [],
   "source": [
    "# idfVectors[5][0:20]"
   ]
  },
  {
   "cell_type": "code",
   "execution_count": 88,
   "metadata": {},
   "outputs": [],
   "source": [
    "tweetVectors1 = []\n",
    "for tweet in tweetListFiltered:\n",
    "    tweetWords = tweet.split()\n",
    "    bigr = list(ngrams(tweetWords, 2))\n",
    "    bigrams = []\n",
    "    for part in bigr:\n",
    "        portion = \" \".join(part)\n",
    "        bigrams.append(portion)\n",
    "    vector = []\n",
    "    for element in sparseVectorA:\n",
    "        if element in tweetWords:\n",
    "            k = 1\n",
    "        else:\n",
    "            k = 0\n",
    "        vector.append(k)\n",
    "    for element in sparseVectorB:\n",
    "        if element in bigrams:\n",
    "            k = 1\n",
    "        else:\n",
    "            k = 0\n",
    "        vector.append(k)\n",
    "    tweetVectors1.append(vector)\n"
   ]
  },
  {
   "cell_type": "code",
   "execution_count": 89,
   "metadata": {},
   "outputs": [
    {
     "data": {
      "text/plain": [
       "31962"
      ]
     },
     "execution_count": 89,
     "metadata": {},
     "output_type": "execute_result"
    }
   ],
   "source": [
    "len(tweetVectors1)"
   ]
  },
  {
   "cell_type": "code",
   "execution_count": 90,
   "metadata": {},
   "outputs": [
    {
     "data": {
      "text/plain": [
       "[0, 0, 0]"
      ]
     },
     "execution_count": 90,
     "metadata": {},
     "output_type": "execute_result"
    }
   ],
   "source": [
    "tweetVectors1[500][5:8]"
   ]
  },
  {
   "cell_type": "code",
   "execution_count": 91,
   "metadata": {},
   "outputs": [
    {
     "data": {
      "text/plain": [
       "'today'"
      ]
     },
     "execution_count": 91,
     "metadata": {},
     "output_type": "execute_result"
    }
   ],
   "source": [
    "sparseVectorA[10]"
   ]
  },
  {
   "cell_type": "code",
   "execution_count": 92,
   "metadata": {},
   "outputs": [
    {
     "data": {
      "text/plain": [
       "572"
      ]
     },
     "execution_count": 92,
     "metadata": {},
     "output_type": "execute_result"
    }
   ],
   "source": [
    "sparseVectorA.index('talking')"
   ]
  },
  {
   "cell_type": "code",
   "execution_count": 93,
   "metadata": {},
   "outputs": [],
   "source": [
    "tweetVectorsA = np.array(tweetVectors1)"
   ]
  },
  {
   "cell_type": "code",
   "execution_count": 94,
   "metadata": {},
   "outputs": [],
   "source": [
    "# svA = ['hello', 'how', 'all', 'people']\n",
    "# svB = ['cute kitten', 'to all']\n",
    "# texts = ['hello how are you', 'hello to all whats up', 'hello to all the people out there', 'thats a cute kitten']\n",
    "# vectors = []\n",
    "# for tweet in texts:\n",
    "#     tweetWords = tweet.split()\n",
    "#     bigr = list(ngrams(tweetWords, 2))\n",
    "#     bigrams = []\n",
    "#     for part in bigr:\n",
    "#         portion = \" \".join(part)\n",
    "#         bigrams.append(portion)\n",
    "#     vector = []\n",
    "#     for element in svA:\n",
    "#         if element in tweetWords:\n",
    "#             k = 1\n",
    "#         else:\n",
    "#             k = 0\n",
    "#         vector.append(k)\n",
    "#     for element in svB:\n",
    "#         if element in bigrams:\n",
    "#             k = 1\n",
    "#         else:\n",
    "#             k = 0\n",
    "#         vector.append(k)\n",
    "#     vectors.append(vector)\n",
    "# print(vectors)"
   ]
  },
  {
   "cell_type": "markdown",
   "metadata": {},
   "source": [
    "# Classification Techniques"
   ]
  },
  {
   "cell_type": "markdown",
   "metadata": {},
   "source": [
    "# Vaibhav"
   ]
  },
  {
   "cell_type": "code",
   "execution_count": 95,
   "metadata": {},
   "outputs": [],
   "source": [
    "# Decison Tree Classifier"
   ]
  },
  {
   "cell_type": "code",
   "execution_count": 96,
   "metadata": {},
   "outputs": [],
   "source": [
    "# tweetVectorA: sparse vector rep. in terms of presence\n",
    "# trainTweetsP: dataframe containing all training tweet and their sentiment"
   ]
  },
  {
   "cell_type": "code",
   "execution_count": 97,
   "metadata": {},
   "outputs": [],
   "source": [
    "#Libraries\n",
    "import sklearn\n",
    "from sklearn.model_selection import train_test_split\n",
    "from sklearn.tree import DecisionTreeClassifier\n",
    "from sklearn.metrics import accuracy_score\n",
    "from sklearn import tree"
   ]
  },
  {
   "cell_type": "code",
   "execution_count": 98,
   "metadata": {},
   "outputs": [],
   "source": [
    "# tweetVectorsA?"
   ]
  },
  {
   "cell_type": "code",
   "execution_count": 99,
   "metadata": {},
   "outputs": [],
   "source": [
    "# trainTweetsP?"
   ]
  },
  {
   "cell_type": "code",
   "execution_count": 100,
   "metadata": {},
   "outputs": [],
   "source": [
    "#70:30 Train:Test"
   ]
  },
  {
   "cell_type": "code",
   "execution_count": 101,
   "metadata": {},
   "outputs": [],
   "source": [
    "# len(tweetVectorsA) = 31962"
   ]
  },
  {
   "cell_type": "code",
   "execution_count": 102,
   "metadata": {},
   "outputs": [],
   "source": [
    "x = tweetVectorsA[0:22373] #Independent variable\n",
    "y = trainTweetsP[1][0:22373].to_numpy() #Dependent variable"
   ]
  },
  {
   "cell_type": "code",
   "execution_count": 103,
   "metadata": {},
   "outputs": [],
   "source": [
    "X_train, X_test, Y_train, Y_test = train_test_split( x, \n",
    "                                                     y, \n",
    "                                                    test_size = 0.3, \n",
    "                                                    random_state = 100)"
   ]
  },
  {
   "cell_type": "code",
   "execution_count": 104,
   "metadata": {},
   "outputs": [],
   "source": [
    "#Descision Tree Classifier "
   ]
  },
  {
   "cell_type": "code",
   "execution_count": 105,
   "metadata": {},
   "outputs": [],
   "source": [
    "dtc_gini = DecisionTreeClassifier(criterion='gini',random_state=100, max_depth=5)"
   ]
  },
  {
   "cell_type": "code",
   "execution_count": 106,
   "metadata": {},
   "outputs": [
    {
     "data": {
      "text/plain": [
       "DecisionTreeClassifier(class_weight=None, criterion='gini', max_depth=5,\n",
       "            max_features=None, max_leaf_nodes=None,\n",
       "            min_impurity_decrease=0.0, min_impurity_split=None,\n",
       "            min_samples_leaf=1, min_samples_split=2,\n",
       "            min_weight_fraction_leaf=0.0, presort=False, random_state=100,\n",
       "            splitter='best')"
      ]
     },
     "execution_count": 106,
     "metadata": {},
     "output_type": "execute_result"
    }
   ],
   "source": [
    "dtc_gini.fit(X_train,Y_train)"
   ]
  },
  {
   "cell_type": "code",
   "execution_count": 107,
   "metadata": {},
   "outputs": [],
   "source": [
    "Y_pred = dtc_gini.predict(X_test)"
   ]
  },
  {
   "cell_type": "code",
   "execution_count": 108,
   "metadata": {},
   "outputs": [
    {
     "data": {
      "text/plain": [
       "array([0, 0, 0, ..., 0, 0, 0], dtype=int64)"
      ]
     },
     "execution_count": 108,
     "metadata": {},
     "output_type": "execute_result"
    }
   ],
   "source": [
    "Y_pred"
   ]
  },
  {
   "cell_type": "code",
   "execution_count": 109,
   "metadata": {},
   "outputs": [
    {
     "name": "stdout",
     "output_type": "stream",
     "text": [
      "Accuracy of Decision Tree (gini index) on test data:  93.77234803337306\n"
     ]
    }
   ],
   "source": [
    "print(\"Accuracy of Decision Tree (gini index) on test data: \", accuracy_score(Y_test, Y_pred)*100)"
   ]
  },
  {
   "cell_type": "code",
   "execution_count": 110,
   "metadata": {},
   "outputs": [],
   "source": [
    "#Conclusion: DTC accuracy is largely unaffected by different ratios for test and train data"
   ]
  },
  {
   "cell_type": "code",
   "execution_count": 111,
   "metadata": {},
   "outputs": [],
   "source": [
    "#Goal: Random Forest + xgBoost"
   ]
  },
  {
   "cell_type": "code",
   "execution_count": 112,
   "metadata": {},
   "outputs": [],
   "source": [
    "#Random Forest Classifier"
   ]
  },
  {
   "cell_type": "code",
   "execution_count": 113,
   "metadata": {},
   "outputs": [
    {
     "data": {
      "text/plain": [
       "RandomForestClassifier(bootstrap=True, class_weight=None, criterion='gini',\n",
       "            max_depth=None, max_features='auto', max_leaf_nodes=None,\n",
       "            min_impurity_decrease=0.0, min_impurity_split=None,\n",
       "            min_samples_leaf=1, min_samples_split=2,\n",
       "            min_weight_fraction_leaf=0.0, n_estimators=30, n_jobs=None,\n",
       "            oob_score=False, random_state=None, verbose=0,\n",
       "            warm_start=False)"
      ]
     },
     "execution_count": 113,
     "metadata": {},
     "output_type": "execute_result"
    }
   ],
   "source": [
    "from sklearn.ensemble import RandomForestClassifier\n",
    "model = RandomForestClassifier(n_estimators=30) #Using 30 random trees has given the best accuracy overall\n",
    "model.fit(X_train, Y_train)"
   ]
  },
  {
   "cell_type": "code",
   "execution_count": 114,
   "metadata": {},
   "outputs": [
    {
     "data": {
      "text/plain": [
       "0.950834326579261"
      ]
     },
     "execution_count": 114,
     "metadata": {},
     "output_type": "execute_result"
    }
   ],
   "source": [
    "model.score(X_test,Y_test) #score of how accurately model has been trained"
   ]
  },
  {
   "cell_type": "code",
   "execution_count": 115,
   "metadata": {},
   "outputs": [],
   "source": [
    "Y_predict = model.predict(X_test)"
   ]
  },
  {
   "cell_type": "code",
   "execution_count": 116,
   "metadata": {},
   "outputs": [],
   "source": [
    "from sklearn.metrics import confusion_matrix\n",
    "cm = confusion_matrix(Y_test,Y_predict)"
   ]
  },
  {
   "cell_type": "code",
   "execution_count": 117,
   "metadata": {},
   "outputs": [],
   "source": [
    "import seaborn\n",
    "import matplotlib.pyplot as plt"
   ]
  },
  {
   "cell_type": "code",
   "execution_count": 118,
   "metadata": {},
   "outputs": [
    {
     "data": {
      "text/plain": [
       "Text(33.0, 0.5, 'Truth')"
      ]
     },
     "execution_count": 118,
     "metadata": {},
     "output_type": "execute_result"
    },
    {
     "data": {
      "image/png": "[encoded data removed]",
      "text/plain": [
       "<Figure size 432x288 with 2 Axes>"
      ]
     },
     "metadata": {
      "needs_background": "light"
     },
     "output_type": "display_data"
    }
   ],
   "source": [
    "seaborn.heatmap(cm, annot=True)\n",
    "plt.xlabel('Predicted')\n",
    "plt.ylabel('Truth')"
   ]
  },
  {
   "cell_type": "code",
   "execution_count": 119,
   "metadata": {},
   "outputs": [
    {
     "name": "stdout",
     "output_type": "stream",
     "text": [
      "Accuracy of Random Forest on Test data:  93.77234803337306\n"
     ]
    }
   ],
   "source": [
    "print(\"Accuracy of Random Forest on Test data: \", accuracy_score(Y_test, Y_pred)*100)"
   ]
  },
  {
   "cell_type": "code",
   "execution_count": 120,
   "metadata": {},
   "outputs": [],
   "source": [
    "#XGBoost Classifier"
   ]
  },
  {
   "cell_type": "code",
   "execution_count": 121,
   "metadata": {},
   "outputs": [],
   "source": [
    "# from xgboost import XGBClassifier"
   ]
  },
  {
   "cell_type": "code",
   "execution_count": 122,
   "metadata": {},
   "outputs": [],
   "source": [
    "# model = XGBClassifier()\n",
    "# model.fit(X_train, Y_train)"
   ]
  },
  {
   "cell_type": "code",
   "execution_count": 123,
   "metadata": {},
   "outputs": [],
   "source": [
    "# Y_pred = model.predict(X_test)"
   ]
  },
  {
   "cell_type": "code",
   "execution_count": 124,
   "metadata": {},
   "outputs": [],
   "source": [
    "# print(\"Accuracy of xgBoost on Test data:\" ,accuracy_score(Y_test, Y_pred))"
   ]
  },
  {
   "cell_type": "code",
   "execution_count": 125,
   "metadata": {},
   "outputs": [],
   "source": [
    "#Multi-Layer Perceptron"
   ]
  },
  {
   "cell_type": "code",
   "execution_count": 126,
   "metadata": {},
   "outputs": [
    {
     "name": "stdout",
     "output_type": "stream",
     "text": [
      "1.14.0\n"
     ]
    }
   ],
   "source": [
    "from __future__ import absolute_import, division, print_function, unicode_literals\n",
    "\n",
    "import tensorflow as tf\n",
    "from tensorflow import keras\n",
    "\n",
    "import numpy as np\n",
    "\n",
    "print(tf.__version__)"
   ]
  },
  {
   "cell_type": "code",
   "execution_count": 127,
   "metadata": {},
   "outputs": [
    {
     "name": "stderr",
     "output_type": "stream",
     "text": [
      "WARNING: Logging before flag parsing goes to stderr.\n",
      "W0801 17:16:58.094153  6628 deprecation.py:506] From C:\\ProgramData\\Anaconda3\\lib\\site-packages\\tensorflow\\python\\keras\\initializers.py:119: calling RandomUniform.__init__ (from tensorflow.python.ops.init_ops) with dtype is deprecated and will be removed in a future version.\n",
      "Instructions for updating:\n",
      "Call initializer instance with the dtype argument instead of passing it to the constructor\n",
      "W0801 17:16:58.152697  6628 deprecation.py:506] From C:\\ProgramData\\Anaconda3\\lib\\site-packages\\tensorflow\\python\\ops\\init_ops.py:1251: calling VarianceScaling.__init__ (from tensorflow.python.ops.init_ops) with dtype is deprecated and will be removed in a future version.\n",
      "Instructions for updating:\n",
      "Call initializer instance with the dtype argument instead of passing it to the constructor\n"
     ]
    },
    {
     "name": "stdout",
     "output_type": "stream",
     "text": [
      "Model: \"sequential\"\n",
      "_________________________________________________________________\n",
      "Layer (type)                 Output Shape              Param #   \n",
      "=================================================================\n",
      "embedding (Embedding)        (None, None, 100)         4143500   \n",
      "_________________________________________________________________\n",
      "global_average_pooling1d (Gl (None, 100)               0         \n",
      "_________________________________________________________________\n",
      "dense (Dense)                (None, 16)                1616      \n",
      "_________________________________________________________________\n",
      "dense_1 (Dense)              (None, 1)                 17        \n",
      "=================================================================\n",
      "Total params: 4,145,133\n",
      "Trainable params: 4,145,133\n",
      "Non-trainable params: 0\n",
      "_________________________________________________________________\n"
     ]
    }
   ],
   "source": [
    "# input shape is the vocabulary count used for the movie reviews (10,000 words)\n",
    "vocab_size = 41435\n",
    "\n",
    "model = keras.Sequential()\n",
    "model.add(keras.layers.Embedding(vocab_size, 100))\n",
    "model.add(keras.layers.GlobalAveragePooling1D())\n",
    "model.add(keras.layers.Dense(16, activation=tf.nn.relu))\n",
    "model.add(keras.layers.Dense(1, activation=tf.nn.sigmoid))\n",
    "\n",
    "model.summary()"
   ]
  },
  {
   "cell_type": "code",
   "execution_count": 128,
   "metadata": {},
   "outputs": [
    {
     "name": "stderr",
     "output_type": "stream",
     "text": [
      "W0801 17:17:00.356142  6628 deprecation.py:323] From C:\\ProgramData\\Anaconda3\\lib\\site-packages\\tensorflow\\python\\ops\\nn_impl.py:180: add_dispatch_support.<locals>.wrapper (from tensorflow.python.ops.array_ops) is deprecated and will be removed in a future version.\n",
      "Instructions for updating:\n",
      "Use tf.where in 2.0, which has the same broadcast rule as np.where\n"
     ]
    }
   ],
   "source": [
    "model.compile(optimizer='adam',\n",
    "              loss='binary_crossentropy',\n",
    "              metrics=['acc'])"
   ]
  },
  {
   "cell_type": "code",
   "execution_count": 130,
   "metadata": {},
   "outputs": [
    {
     "name": "stdout",
     "output_type": "stream",
     "text": [
      "Train on 15661 samples, validate on 6712 samples\n",
      "Epoch 1/40\n",
      " 6656/15661 [===========>..................] - ETA: 26s - loss: 0.4432 - acc: 0.9313"
     ]
    },
    {
     "ename": "KeyboardInterrupt",
     "evalue": "",
     "output_type": "error",
     "traceback": [
      "\u001b[1;31m---------------------------------------------------------------------------\u001b[0m",
      "\u001b[1;31mKeyboardInterrupt\u001b[0m                         Traceback (most recent call last)",
      "\u001b[1;32m<ipython-input-130-d6101e83f414>\u001b[0m in \u001b[0;36m<module>\u001b[1;34m\u001b[0m\n\u001b[0;32m      4\u001b[0m                     \u001b[0mbatch_size\u001b[0m\u001b[1;33m=\u001b[0m\u001b[1;36m512\u001b[0m\u001b[1;33m,\u001b[0m\u001b[1;33m\u001b[0m\u001b[1;33m\u001b[0m\u001b[0m\n\u001b[0;32m      5\u001b[0m                     \u001b[0mvalidation_data\u001b[0m\u001b[1;33m=\u001b[0m\u001b[1;33m(\u001b[0m\u001b[0mX_test\u001b[0m\u001b[1;33m,\u001b[0m \u001b[0mY_test\u001b[0m\u001b[1;33m)\u001b[0m\u001b[1;33m,\u001b[0m\u001b[1;33m\u001b[0m\u001b[1;33m\u001b[0m\u001b[0m\n\u001b[1;32m----> 6\u001b[1;33m                     verbose=1)    \n\u001b[0m",
      "\u001b[1;32mC:\\ProgramData\\Anaconda3\\lib\\site-packages\\tensorflow\\python\\keras\\engine\\training.py\u001b[0m in \u001b[0;36mfit\u001b[1;34m(self, x, y, batch_size, epochs, verbose, callbacks, validation_split, validation_data, shuffle, class_weight, sample_weight, initial_epoch, steps_per_epoch, validation_steps, validation_freq, max_queue_size, workers, use_multiprocessing, **kwargs)\u001b[0m\n\u001b[0;32m    778\u001b[0m           \u001b[0mvalidation_steps\u001b[0m\u001b[1;33m=\u001b[0m\u001b[0mvalidation_steps\u001b[0m\u001b[1;33m,\u001b[0m\u001b[1;33m\u001b[0m\u001b[1;33m\u001b[0m\u001b[0m\n\u001b[0;32m    779\u001b[0m           \u001b[0mvalidation_freq\u001b[0m\u001b[1;33m=\u001b[0m\u001b[0mvalidation_freq\u001b[0m\u001b[1;33m,\u001b[0m\u001b[1;33m\u001b[0m\u001b[1;33m\u001b[0m\u001b[0m\n\u001b[1;32m--> 780\u001b[1;33m           steps_name='steps_per_epoch')\n\u001b[0m\u001b[0;32m    781\u001b[0m \u001b[1;33m\u001b[0m\u001b[0m\n\u001b[0;32m    782\u001b[0m   def evaluate(self,\n",
      "\u001b[1;32mC:\\ProgramData\\Anaconda3\\lib\\site-packages\\tensorflow\\python\\keras\\engine\\training_arrays.py\u001b[0m in \u001b[0;36mmodel_iteration\u001b[1;34m(model, inputs, targets, sample_weights, batch_size, epochs, verbose, callbacks, val_inputs, val_targets, val_sample_weights, shuffle, initial_epoch, steps_per_epoch, validation_steps, validation_freq, mode, validation_in_fit, prepared_feed_values_from_dataset, steps_name, **kwargs)\u001b[0m\n\u001b[0;32m    361\u001b[0m \u001b[1;33m\u001b[0m\u001b[0m\n\u001b[0;32m    362\u001b[0m         \u001b[1;31m# Get outputs.\u001b[0m\u001b[1;33m\u001b[0m\u001b[1;33m\u001b[0m\u001b[1;33m\u001b[0m\u001b[0m\n\u001b[1;32m--> 363\u001b[1;33m         \u001b[0mbatch_outs\u001b[0m \u001b[1;33m=\u001b[0m \u001b[0mf\u001b[0m\u001b[1;33m(\u001b[0m\u001b[0mins_batch\u001b[0m\u001b[1;33m)\u001b[0m\u001b[1;33m\u001b[0m\u001b[1;33m\u001b[0m\u001b[0m\n\u001b[0m\u001b[0;32m    364\u001b[0m         \u001b[1;32mif\u001b[0m \u001b[1;32mnot\u001b[0m \u001b[0misinstance\u001b[0m\u001b[1;33m(\u001b[0m\u001b[0mbatch_outs\u001b[0m\u001b[1;33m,\u001b[0m \u001b[0mlist\u001b[0m\u001b[1;33m)\u001b[0m\u001b[1;33m:\u001b[0m\u001b[1;33m\u001b[0m\u001b[1;33m\u001b[0m\u001b[0m\n\u001b[0;32m    365\u001b[0m           \u001b[0mbatch_outs\u001b[0m \u001b[1;33m=\u001b[0m \u001b[1;33m[\u001b[0m\u001b[0mbatch_outs\u001b[0m\u001b[1;33m]\u001b[0m\u001b[1;33m\u001b[0m\u001b[1;33m\u001b[0m\u001b[0m\n",
      "\u001b[1;32mC:\\ProgramData\\Anaconda3\\lib\\site-packages\\tensorflow\\python\\keras\\backend.py\u001b[0m in \u001b[0;36m__call__\u001b[1;34m(self, inputs)\u001b[0m\n\u001b[0;32m   3290\u001b[0m \u001b[1;33m\u001b[0m\u001b[0m\n\u001b[0;32m   3291\u001b[0m     fetched = self._callable_fn(*array_vals,\n\u001b[1;32m-> 3292\u001b[1;33m                                 run_metadata=self.run_metadata)\n\u001b[0m\u001b[0;32m   3293\u001b[0m     \u001b[0mself\u001b[0m\u001b[1;33m.\u001b[0m\u001b[0m_call_fetch_callbacks\u001b[0m\u001b[1;33m(\u001b[0m\u001b[0mfetched\u001b[0m\u001b[1;33m[\u001b[0m\u001b[1;33m-\u001b[0m\u001b[0mlen\u001b[0m\u001b[1;33m(\u001b[0m\u001b[0mself\u001b[0m\u001b[1;33m.\u001b[0m\u001b[0m_fetches\u001b[0m\u001b[1;33m)\u001b[0m\u001b[1;33m:\u001b[0m\u001b[1;33m]\u001b[0m\u001b[1;33m)\u001b[0m\u001b[1;33m\u001b[0m\u001b[1;33m\u001b[0m\u001b[0m\n\u001b[0;32m   3294\u001b[0m     output_structure = nest.pack_sequence_as(\n",
      "\u001b[1;32mC:\\ProgramData\\Anaconda3\\lib\\site-packages\\tensorflow\\python\\client\\session.py\u001b[0m in \u001b[0;36m__call__\u001b[1;34m(self, *args, **kwargs)\u001b[0m\n\u001b[0;32m   1456\u001b[0m         ret = tf_session.TF_SessionRunCallable(self._session._session,\n\u001b[0;32m   1457\u001b[0m                                                \u001b[0mself\u001b[0m\u001b[1;33m.\u001b[0m\u001b[0m_handle\u001b[0m\u001b[1;33m,\u001b[0m \u001b[0margs\u001b[0m\u001b[1;33m,\u001b[0m\u001b[1;33m\u001b[0m\u001b[1;33m\u001b[0m\u001b[0m\n\u001b[1;32m-> 1458\u001b[1;33m                                                run_metadata_ptr)\n\u001b[0m\u001b[0;32m   1459\u001b[0m         \u001b[1;32mif\u001b[0m \u001b[0mrun_metadata\u001b[0m\u001b[1;33m:\u001b[0m\u001b[1;33m\u001b[0m\u001b[1;33m\u001b[0m\u001b[0m\n\u001b[0;32m   1460\u001b[0m           \u001b[0mproto_data\u001b[0m \u001b[1;33m=\u001b[0m \u001b[0mtf_session\u001b[0m\u001b[1;33m.\u001b[0m\u001b[0mTF_GetBuffer\u001b[0m\u001b[1;33m(\u001b[0m\u001b[0mrun_metadata_ptr\u001b[0m\u001b[1;33m)\u001b[0m\u001b[1;33m\u001b[0m\u001b[1;33m\u001b[0m\u001b[0m\n",
      "\u001b[1;31mKeyboardInterrupt\u001b[0m: "
     ]
    }
   ],
   "source": [
    "history = model.fit(X_train,\n",
    "                    Y_train,\n",
    "                    epochs=40,\n",
    "                    batch_size=512,\n",
    "                    validation_data=(X_test, Y_test),\n",
    "                    verbose=1)    "
   ]
  },
  {
   "cell_type": "code",
   "execution_count": null,
   "metadata": {},
   "outputs": [],
   "source": [
    "results = model.evaluate(X_test, Y_test)\n",
    "\n",
    "print(results)"
   ]
  },
  {
   "cell_type": "code",
   "execution_count": null,
   "metadata": {},
   "outputs": [],
   "source": [
    "#Model has achieved an accuracy of 92.74%"
   ]
  },
  {
   "cell_type": "code",
   "execution_count": null,
   "metadata": {},
   "outputs": [],
   "source": []
  },
  {
   "cell_type": "markdown",
   "metadata": {},
   "source": [
    "# Mihir"
   ]
  },
  {
   "cell_type": "code",
   "execution_count": 131,
   "metadata": {},
   "outputs": [],
   "source": [
    "# Importing libraries for Naive Bayes Classification and for accuracy checking. \n",
    "from sklearn.naive_bayes import GaussianNB\n",
    "from sklearn.naive_bayes import MultinomialNB\n",
    "from sklearn.naive_bayes import BernoulliNB\n",
    "from sklearn.metrics import accuracy_score"
   ]
  },
  {
   "cell_type": "code",
   "execution_count": 132,
   "metadata": {},
   "outputs": [],
   "source": [
    "# GaussianNB model\n",
    "model = GaussianNB()"
   ]
  },
  {
   "cell_type": "code",
   "execution_count": 133,
   "metadata": {},
   "outputs": [],
   "source": [
    "# MultinomialNB model\n",
    "model1 = MultinomialNB()"
   ]
  },
  {
   "cell_type": "code",
   "execution_count": 134,
   "metadata": {},
   "outputs": [],
   "source": [
    "# BernoulliNB model\n",
    "model2 = BernoulliNB()"
   ]
  },
  {
   "cell_type": "code",
   "execution_count": 135,
   "metadata": {},
   "outputs": [],
   "source": [
    "# Setting the training data to be the tweet vectors for presence feature type. \n",
    "x2 = tweetVectorsA[0:25570]\n",
    "# Setting the corresponding sentiment label for each tweet vector.\n",
    "y2 = trainTweetsP[1][0:25570].to_numpy()"
   ]
  },
  {
   "cell_type": "code",
   "execution_count": 136,
   "metadata": {},
   "outputs": [
    {
     "data": {
      "text/plain": [
       "GaussianNB(priors=None, var_smoothing=1e-09)"
      ]
     },
     "execution_count": 136,
     "metadata": {},
     "output_type": "execute_result"
    }
   ],
   "source": [
    "# Using GaussianNB model to train the training data and sentiment labels.\n",
    "model.fit(x2, y2)"
   ]
  },
  {
   "cell_type": "code",
   "execution_count": 137,
   "metadata": {},
   "outputs": [],
   "source": [
    "# Using the GaussianNB model, after training, to predict the sentiment labels of test tweets, whose actual \n",
    "# sentiment labels are known.\n",
    "predicted6 = model.predict(tweetVectorsA[25570:31962])"
   ]
  },
  {
   "cell_type": "code",
   "execution_count": 138,
   "metadata": {},
   "outputs": [
    {
     "data": {
      "text/plain": [
       "78.95807259073842"
      ]
     },
     "execution_count": 138,
     "metadata": {},
     "output_type": "execute_result"
    }
   ],
   "source": [
    "# Checking the accuracy of the model, based on the percentage of test tweets whose sentiment labels were \n",
    "# accurately predicted.\n",
    "accuracy_score(trainTweetsP[1][25570:31962].to_numpy(), predicted6)*100"
   ]
  },
  {
   "cell_type": "code",
   "execution_count": 139,
   "metadata": {},
   "outputs": [],
   "source": [
    "# Repeating the above three steps of training, predicting, and accuracy checking, with MultinomialNB model. "
   ]
  },
  {
   "cell_type": "code",
   "execution_count": 140,
   "metadata": {},
   "outputs": [
    {
     "data": {
      "text/plain": [
       "MultinomialNB(alpha=1.0, class_prior=None, fit_prior=True)"
      ]
     },
     "execution_count": 140,
     "metadata": {},
     "output_type": "execute_result"
    }
   ],
   "source": [
    "model1.fit(x2, y2)"
   ]
  },
  {
   "cell_type": "code",
   "execution_count": 141,
   "metadata": {},
   "outputs": [],
   "source": [
    "predicted7 = model1.predict(tweetVectorsA[25570:31962])"
   ]
  },
  {
   "cell_type": "code",
   "execution_count": 142,
   "metadata": {},
   "outputs": [
    {
     "data": {
      "text/plain": [
       "94.50876095118899"
      ]
     },
     "execution_count": 142,
     "metadata": {},
     "output_type": "execute_result"
    }
   ],
   "source": [
    "accuracy_score(trainTweetsP[1][25570:31962].to_numpy(), predicted7)*100"
   ]
  },
  {
   "cell_type": "code",
   "execution_count": 143,
   "metadata": {},
   "outputs": [],
   "source": [
    "# Repeating the above three steps of training, predicting, and accuracy checking, with BernoulliNB model. "
   ]
  },
  {
   "cell_type": "code",
   "execution_count": 144,
   "metadata": {},
   "outputs": [
    {
     "data": {
      "text/plain": [
       "BernoulliNB(alpha=1.0, binarize=0.0, class_prior=None, fit_prior=True)"
      ]
     },
     "execution_count": 144,
     "metadata": {},
     "output_type": "execute_result"
    }
   ],
   "source": [
    "model2.fit(x2, y2)"
   ]
  },
  {
   "cell_type": "code",
   "execution_count": 145,
   "metadata": {},
   "outputs": [],
   "source": [
    "predicted8 = model2.predict(tweetVectorsA[25570:31962])"
   ]
  },
  {
   "cell_type": "code",
   "execution_count": 146,
   "metadata": {},
   "outputs": [
    {
     "data": {
      "text/plain": [
       "94.55569461827284"
      ]
     },
     "execution_count": 146,
     "metadata": {},
     "output_type": "execute_result"
    }
   ],
   "source": [
    "accuracy_score(trainTweetsP[1][25570:31962].to_numpy(), predicted8)*100"
   ]
  },
  {
   "cell_type": "code",
   "execution_count": 147,
   "metadata": {},
   "outputs": [],
   "source": [
    "# Now, setting the training data to be the tweet vectors for frequency feature type.\n",
    "x3 = idfVectors[0:25570]"
   ]
  },
  {
   "cell_type": "code",
   "execution_count": 148,
   "metadata": {},
   "outputs": [],
   "source": [
    "# Performing the three steps of training, predicting, and accuracy checking, with each of the three \n",
    "# Naive Bayes models, using the frequency vectors for tweets."
   ]
  },
  {
   "cell_type": "code",
   "execution_count": 149,
   "metadata": {},
   "outputs": [
    {
     "data": {
      "text/plain": [
       "GaussianNB(priors=None, var_smoothing=1e-09)"
      ]
     },
     "execution_count": 149,
     "metadata": {},
     "output_type": "execute_result"
    }
   ],
   "source": [
    "model.fit(x3, y2)"
   ]
  },
  {
   "cell_type": "code",
   "execution_count": 150,
   "metadata": {},
   "outputs": [],
   "source": [
    "predicted9 = model.predict(idfVectors[25570:31962])"
   ]
  },
  {
   "cell_type": "code",
   "execution_count": 151,
   "metadata": {},
   "outputs": [
    {
     "data": {
      "text/plain": [
       "78.92678347934918"
      ]
     },
     "execution_count": 151,
     "metadata": {},
     "output_type": "execute_result"
    }
   ],
   "source": [
    "accuracy_score(trainTweetsP[1][25570:31962].to_numpy(), predicted9)*100"
   ]
  },
  {
   "cell_type": "code",
   "execution_count": 152,
   "metadata": {},
   "outputs": [
    {
     "data": {
      "text/plain": [
       "MultinomialNB(alpha=1.0, class_prior=None, fit_prior=True)"
      ]
     },
     "execution_count": 152,
     "metadata": {},
     "output_type": "execute_result"
    }
   ],
   "source": [
    "model1.fit(x3, y2)"
   ]
  },
  {
   "cell_type": "code",
   "execution_count": 153,
   "metadata": {},
   "outputs": [],
   "source": [
    "predicted10 = model1.predict(idfVectors[25570:31962])"
   ]
  },
  {
   "cell_type": "code",
   "execution_count": 154,
   "metadata": {},
   "outputs": [
    {
     "data": {
      "text/plain": [
       "91.80225281602003"
      ]
     },
     "execution_count": 154,
     "metadata": {},
     "output_type": "execute_result"
    }
   ],
   "source": [
    "accuracy_score(trainTweetsP[1][25570:31962].to_numpy(), predicted10)*100"
   ]
  },
  {
   "cell_type": "code",
   "execution_count": 155,
   "metadata": {},
   "outputs": [
    {
     "data": {
      "text/plain": [
       "BernoulliNB(alpha=1.0, binarize=0.0, class_prior=None, fit_prior=True)"
      ]
     },
     "execution_count": 155,
     "metadata": {},
     "output_type": "execute_result"
    }
   ],
   "source": [
    "model2.fit(x3, y2)"
   ]
  },
  {
   "cell_type": "code",
   "execution_count": 156,
   "metadata": {},
   "outputs": [],
   "source": [
    "predicted11 = model2.predict(idfVectors[25570:31962])"
   ]
  },
  {
   "cell_type": "code",
   "execution_count": 157,
   "metadata": {},
   "outputs": [
    {
     "data": {
      "text/plain": [
       "94.55569461827284"
      ]
     },
     "execution_count": 157,
     "metadata": {},
     "output_type": "execute_result"
    }
   ],
   "source": [
    "accuracy_score(trainTweetsP[1][25570:31962].to_numpy(), predicted11)*100"
   ]
  },
  {
   "cell_type": "code",
   "execution_count": null,
   "metadata": {},
   "outputs": [],
   "source": [
    "# Importing libraries for performing sequential Logistic Regression using keras.\n",
    "import keras\n",
    "from keras.models import Sequential\n",
    "from keras.layers import Dense\n",
    "from keras.regularizers import L1L2"
   ]
  },
  {
   "cell_type": "code",
   "execution_count": null,
   "metadata": {},
   "outputs": [],
   "source": [
    "# Setting the relevant training data and actual outputs, similar to those used in Naive Bayes. \n",
    "xTrain1 = tweetVectorsA[0:25570]\n",
    "xTrain2 = idfVectors[0:25570]\n",
    "yTrain = trainTweetsP[1][0:25570].to_numpy()\n",
    "xVal1 = tweetVectorsA[25570:31962]\n",
    "xVal2 = idfVectors[25570:31962]\n",
    "yVal = trainTweetsP[1][25570:31962].to_numpy()"
   ]
  },
  {
   "cell_type": "code",
   "execution_count": null,
   "metadata": {},
   "outputs": [],
   "source": [
    "# Building up the model for sequential Logistic Regression using keras. "
   ]
  },
  {
   "cell_type": "code",
   "execution_count": null,
   "metadata": {},
   "outputs": [],
   "source": [
    "model = Sequential()"
   ]
  },
  {
   "cell_type": "code",
   "execution_count": null,
   "metadata": {},
   "outputs": [],
   "source": [
    "model.add(Dense(1, activation='sigmoid', kernel_regularizer=L1L2(l1=0.0, l2=0.1), input_dim=len(idfVectors[1])))"
   ]
  },
  {
   "cell_type": "code",
   "execution_count": null,
   "metadata": {},
   "outputs": [],
   "source": [
    "model.compile(optimizer='adam',\n",
    "              loss='binary_crossentropy',\n",
    "              metrics=['accuracy'])"
   ]
  },
  {
   "cell_type": "code",
   "execution_count": null,
   "metadata": {},
   "outputs": [],
   "source": [
    "# Using the model to train the data for presence vectors representing tweets.\n",
    "model.fit(xTrain1, yTrain, epochs=100, validation_data=(xVal1, yVal))"
   ]
  },
  {
   "cell_type": "code",
   "execution_count": null,
   "metadata": {},
   "outputs": [],
   "source": [
    "# Using the model, after training, to predict the sentiment labels of the test tweets represented by \n",
    "# presence vectors, whose actual sentiment labels are known. \n",
    "predictions = model.predict(xVal1).round()"
   ]
  },
  {
   "cell_type": "code",
   "execution_count": null,
   "metadata": {},
   "outputs": [],
   "source": [
    "# Checking the accuracy of the model, based on the percentage of test tweets whose sentiment labels were \n",
    "# accurately predicted.\n",
    "accuracy_score(yVal, predictions)*100"
   ]
  },
  {
   "cell_type": "code",
   "execution_count": null,
   "metadata": {},
   "outputs": [],
   "source": [
    "# Importing library for SVM classification.\n",
    "from sklearn import svm"
   ]
  },
  {
   "cell_type": "code",
   "execution_count": null,
   "metadata": {},
   "outputs": [],
   "source": [
    "# Building up the SVM model.\n",
    "clf = svm.SVC(gamma='scale')"
   ]
  },
  {
   "cell_type": "code",
   "execution_count": null,
   "metadata": {},
   "outputs": [],
   "source": [
    "# Setting the training data, tweet vectors for presence, and actual outputs, sentiment labels. \n",
    "xA = tweetVectorsA[0:2000]\n",
    "yA = trainTweetsP[1][0:2000].to_numpy()"
   ]
  },
  {
   "cell_type": "code",
   "execution_count": null,
   "metadata": {},
   "outputs": [],
   "source": [
    "# Using the SVM model to train the data. \n",
    "clf.fit(xA, yA)"
   ]
  },
  {
   "cell_type": "code",
   "execution_count": null,
   "metadata": {},
   "outputs": [],
   "source": [
    "# Using the model, after training, to predict the sentiment labels of test tweets represented by \n",
    "# presence vectors, whose actual sentiment labels are known. Also, checking the accuracy of the model,\n",
    "# based on the percentage of test tweets whose sentiment labels were accurately predicted. To account for \n",
    "# available memory, the test tweets are split into multiple groups and the accuracy of each group is determined. "
   ]
  },
  {
   "cell_type": "code",
   "execution_count": null,
   "metadata": {},
   "outputs": [],
   "source": [
    "A = clf.predict(tweetVectorsA[2000:4000])"
   ]
  },
  {
   "cell_type": "code",
   "execution_count": null,
   "metadata": {},
   "outputs": [],
   "source": [
    "accuracy_score(trainTweetsP[1][2000:4000].to_numpy(), A)*100"
   ]
  },
  {
   "cell_type": "code",
   "execution_count": null,
   "metadata": {},
   "outputs": [],
   "source": [
    "B = clf.predict(tweetVectorsA[4000:6500])\n",
    "accuracy_score(trainTweetsP[1][4000:6500].to_numpy(), B)*100"
   ]
  },
  {
   "cell_type": "code",
   "execution_count": null,
   "metadata": {},
   "outputs": [],
   "source": [
    "C = clf.predict(tweetVectorsA[6500:9000])\n",
    "accuracy_score(trainTweetsP[1][6500:9000].to_numpy(), C)*100"
   ]
  },
  {
   "cell_type": "code",
   "execution_count": null,
   "metadata": {},
   "outputs": [],
   "source": [
    "D = clf.predict(tweetVectorsA[9000:11500])\n",
    "accuracy_score(trainTweetsP[1][9000:11500].to_numpy(), D)*100"
   ]
  },
  {
   "cell_type": "code",
   "execution_count": null,
   "metadata": {},
   "outputs": [],
   "source": [
    "E = clf.predict(tweetVectorsA[11500:14000])\n",
    "accuracy_score(trainTweetsP[1][11500:14000].to_numpy(), E)*100"
   ]
  },
  {
   "cell_type": "code",
   "execution_count": null,
   "metadata": {},
   "outputs": [],
   "source": [
    "F = clf.predict(tweetVectorsA[14000:16500])\n",
    "accuracy_score(trainTweetsP[1][14000:16500].to_numpy(), F)*100"
   ]
  },
  {
   "cell_type": "code",
   "execution_count": null,
   "metadata": {},
   "outputs": [],
   "source": [
    "G = clf.predict(tweetVectorsA[16500:19000])\n",
    "accuracy_score(trainTweetsP[1][16500:19000].to_numpy(), G)*100"
   ]
  },
  {
   "cell_type": "code",
   "execution_count": null,
   "metadata": {},
   "outputs": [],
   "source": [
    "H = clf.predict(tweetVectorsA[19000:21500])\n",
    "accuracy_score(trainTweetsP[1][19000:21500].to_numpy(), H)*100"
   ]
  },
  {
   "cell_type": "code",
   "execution_count": null,
   "metadata": {},
   "outputs": [],
   "source": [
    "I = clf.predict(tweetVectorsA[21500:24000])\n",
    "accuracy_score(trainTweetsP[1][21500:24000].to_numpy(), I)*100"
   ]
  },
  {
   "cell_type": "code",
   "execution_count": null,
   "metadata": {},
   "outputs": [],
   "source": [
    "J = clf.predict(tweetVectorsA[24000:26500])\n",
    "accuracy_score(trainTweetsP[1][24000:26500].to_numpy(), J)*100"
   ]
  },
  {
   "cell_type": "code",
   "execution_count": null,
   "metadata": {},
   "outputs": [],
   "source": [
    "K = clf.predict(tweetVectorsA[26500:29000])\n",
    "accuracy_score(trainTweetsP[1][26500:29000].to_numpy(), K)*100"
   ]
  },
  {
   "cell_type": "code",
   "execution_count": null,
   "metadata": {},
   "outputs": [],
   "source": [
    "L = clf.predict(tweetVectorsA[29000:31962])\n",
    "accuracy_score(trainTweetsP[1][29000:31962].to_numpy(), L)*100"
   ]
  },
  {
   "cell_type": "code",
   "execution_count": null,
   "metadata": {},
   "outputs": [],
   "source": [
    "# Following the above steps, the general accuracy for the all the test tweets is determined manually using a calculator.\n",
    "# This accuracy is determined to be 93.67%, for presence vectors. "
   ]
  },
  {
   "cell_type": "code",
   "execution_count": null,
   "metadata": {},
   "outputs": [],
   "source": [
    "# Setting the training data, tweet vectors for frequency, and actual outputs, sentiment labels. \n",
    "xB = idfVectors[0:2000]\n",
    "yB = trainTweetsP[1][0:2000].to_numpy()"
   ]
  },
  {
   "cell_type": "code",
   "execution_count": null,
   "metadata": {},
   "outputs": [],
   "source": [
    "# Using the SVM model to train the data.\n",
    "clf.fit(xB, yB)"
   ]
  },
  {
   "cell_type": "code",
   "execution_count": null,
   "metadata": {},
   "outputs": [],
   "source": [
    "# Using the model, after training, to predict the sentiment labels of test tweets represented by \n",
    "# frequency vectors, whose actual sentiment labels are known. Also, checking the accuracy of the model,\n",
    "# based on the percentage of test tweets whose sentiment labels were accurately predicted. To account for \n",
    "# available memory, the test tweets are split into multiple groups and the accuracy of each group is determined."
   ]
  },
  {
   "cell_type": "code",
   "execution_count": null,
   "metadata": {},
   "outputs": [],
   "source": [
    "a = clf.predict(idfVectors[2000:4500])\n",
    "accuracy_score(trainTweetsP[1][2000:4500].to_numpy(), a)*100"
   ]
  },
  {
   "cell_type": "code",
   "execution_count": null,
   "metadata": {},
   "outputs": [],
   "source": [
    "b = clf.predict(idfVectors[4500:7000])\n",
    "accuracy_score(trainTweetsP[1][4500:7000].to_numpy(), b)*100"
   ]
  },
  {
   "cell_type": "code",
   "execution_count": null,
   "metadata": {},
   "outputs": [],
   "source": [
    "c = clf.predict(idfVectors[7000:9500])\n",
    "accuracy_score(trainTweetsP[1][7000:9500].to_numpy(), c)*100"
   ]
  },
  {
   "cell_type": "code",
   "execution_count": null,
   "metadata": {},
   "outputs": [],
   "source": [
    "d = clf.predict(idfVectors[9500:12000])\n",
    "accuracy_score(trainTweetsP[1][9500:12000].to_numpy(), d)*100"
   ]
  },
  {
   "cell_type": "code",
   "execution_count": null,
   "metadata": {},
   "outputs": [],
   "source": [
    "e = clf.predict(idfVectors[12000:14500])\n",
    "accuracy_score(trainTweetsP[1][12000:14500].to_numpy(), e)*100"
   ]
  },
  {
   "cell_type": "code",
   "execution_count": null,
   "metadata": {},
   "outputs": [],
   "source": [
    "f = clf.predict(idfVectors[14500:17000])\n",
    "accuracy_score(trainTweetsP[1][14500:17000].to_numpy(), f)*100"
   ]
  },
  {
   "cell_type": "code",
   "execution_count": null,
   "metadata": {},
   "outputs": [],
   "source": [
    "g = clf.predict(idfVectors[17000:19500])\n",
    "accuracy_score(trainTweetsP[1][17000:19500].to_numpy(), g)*100"
   ]
  },
  {
   "cell_type": "code",
   "execution_count": null,
   "metadata": {},
   "outputs": [],
   "source": [
    "h = clf.predict(idfVectors[19500:22000])\n",
    "accuracy_score(trainTweetsP[1][19500:22000].to_numpy(), h)*100"
   ]
  },
  {
   "cell_type": "code",
   "execution_count": null,
   "metadata": {},
   "outputs": [],
   "source": [
    "i = clf.predict(idfVectors[22000:24500])\n",
    "accuracy_score(trainTweetsP[1][22000:24500].to_numpy(), i)*100"
   ]
  },
  {
   "cell_type": "code",
   "execution_count": null,
   "metadata": {},
   "outputs": [],
   "source": [
    "j = clf.predict(idfVectors[24500:27000])\n",
    "accuracy_score(trainTweetsP[1][24500:27000].to_numpy(), j)*100"
   ]
  },
  {
   "cell_type": "code",
   "execution_count": null,
   "metadata": {},
   "outputs": [],
   "source": [
    "k = clf.predict(idfVectors[27000:29500])\n",
    "accuracy_score(trainTweetsP[1][27000:29500].to_numpy(), k)*100"
   ]
  },
  {
   "cell_type": "code",
   "execution_count": null,
   "metadata": {},
   "outputs": [],
   "source": [
    "l = clf.predict(idfVectors[29500:31962])\n",
    "accuracy_score(trainTweetsP[1][29500:31962].to_numpy(), l)*100"
   ]
  },
  {
   "cell_type": "code",
   "execution_count": null,
   "metadata": {},
   "outputs": [],
   "source": [
    "# Following the above steps, the general accuracy for the all the test tweets is determined manually using a calculator.\n",
    "# This accuracy is determined to be 93.66%, for frequency vectors."
   ]
  },
  {
   "cell_type": "code",
   "execution_count": 196,
   "metadata": {},
   "outputs": [],
   "source": [
    "# Random data set\n",
    "pilotTweets = ['the people at the hotel were really nice and friendly but the rooms were dirty and poorly maintained',\n",
    "\n",
    "'i had a great dining experience at this restaurant but its location made it almost impossible to find',\n",
    "\n",
    "'i enjoyed laughing through as i watched the movie it was humorous even though the starting and ending were absolutely terrible',\n",
    "\n",
    " 'i loved the facilities at this hotel however the hotel manager almost ruined my experience through his rude behaviour towards us',\n",
    "\n",
    "'great food lovely people totally stinky toilets', \n",
    "\n",
    "'i loved beating these two terrible human beings i would never recommend that anyone use her lawyer he is a total loser',\n",
    "\n",
    "'dopey im worth 8 billion and youre worth peanuts without my show nobody would even know who you are',\n",
    "\n",
    "\n",
    "'the emmys are soo boring terrible show im going to watch football i already know the winners good night',\n",
    "\n",
    "'i went to wharton made over 8 billion employ thousands of people get insulted by morons who cant get enough of me on twitter',\n",
    "\n",
    "'isnt it crazy im worth billions of dollars employ thousands of people and get libeled by moron bloggers who cant afford a suit wild',\n",
    "\n",
    "'all i wanted after the movie finished was my money back', \n",
    "\n",
    "'i just got ripped off by this coffee place for a small cup of coffee', \n",
    "\n",
    "'one may not like the ambience of shanghai restaurant but its food is still the best in town', \n",
    "\n",
    "'anybody else think avengers is overrated superhero movies are all fake',\n",
    "\n",
    "'the red hen restaurant should focus more on cleaning its filthy canopies doors and windows badly needs a paint job rather than refusing to serve a fine person like sarah huckabee sanders i always had a rule if a restaurant is dirty on the outside it is dirty on the inside', \n",
    "\n",
    "'lowest rated oscars in history problem is we dont have stars anymore except your president', \n",
    "\n",
    "'rex tillerson never threatened to resign this is fake news put out by USER_MENTION low news and reporting standards no verification from me', \n",
    "\n",
    "'maybe ask him if they can build a better spell check that also fixes your random capitalization on your phone', \n",
    "\n",
    "'katy what were you thinking when you married loser russell thats a waste man', \n",
    "\n",
    "'sorry losers and haters but my iq is one of the highest please dont feel so stupid and insecure its not your fault'\n",
    "]"
   ]
  },
  {
   "cell_type": "code",
   "execution_count": 187,
   "metadata": {},
   "outputs": [],
   "source": [
    "# Test data subset\n",
    "pilotTweets = ['first ever time in government buildings oireachtas leinsterhouse dublin parliment', \n",
    "               'USER_MENTION USER_MENTION in many things modi government is doing good but sadly some stupid chamcha guys r heads of impoant bodies',\n",
    "               'USER_MENTION allahsoil remember the good old days when the government was actually running a surplus',\n",
    "               'racism in us amp netanyahu commitment to genocide explain it bbcnews msnbc npr cnn wsj huffpostpol nyt wapoâ',\n",
    "               'really terrible mass terrorist attack in usa night club blackday USER_MENTION USER_MENTION USER_MENTION',\n",
    "               'ways to be more optimistic optimism',\n",
    "               'new adventures fun peace love livelife befree yolo newadventures beautifulâ',\n",
    "               'fathersday fatherday from USER_MENTION team',\n",
    "               'happy fathers day fathers day fathersday dad ilovemydad ilovemyfather love',\n",
    "               'USER_MENTION USER_MENTION bonne fãªte jeff bihday to you happy bihday to you jeff happy bihday happybihdayyhâ']"
   ]
  },
  {
   "cell_type": "code",
   "execution_count": null,
   "metadata": {},
   "outputs": [],
   "source": [
    "# Movie reviews for Spider-Man: Far From Home\n",
    "pilotTweets = [\"its not quite the homerun of homecoming but far from home isnt far from matching it with heaps of humour energetic action and the answers endgame left you craving\", \n",
    "               \"simultaneously humorous and heartfelt entertaining and angsty this actionpacked sequel is an exploration of peter parkers grief and moving on in a postendgame world\", \n",
    "               \"director jon watts ensures spiderman far from home feels bigger in scope than homecoming and not just because it has elementals the size of buildings\", \n",
    "               \"spider man far from home starring tom holland and zendaya hit the screens this week the film is a light and breezy watch consider it as a break after the emotional intensity of avengers endgame\",\n",
    "               \"the high school drama is what makes the film watchable\",\n",
    "               \"few good surprising moments in spiderman far from home makes it a worthy watch\",\n",
    "               \"the best parts of the film arent the action sequences but the teasing banter and peergroup dynamics that are injected with lifeordeath stakes thanks to peters stillkindasecret identity\",\n",
    "               \"spiderman far from home fails to strike a balance and as a result feels altogether too confused to make a lasting impression on the new age fans of this marvel boot up\",\n",
    "               \"far from home is a fine fun serviceable superhero flick but like peter parkers european vacation it contains some unwelcome surprises too\",\n",
    "               \"its more urgent than the last one and should be even bigger at the box office with a richer sense of malevolence\"]"
   ]
  },
  {
   "cell_type": "code",
   "execution_count": null,
   "metadata": {},
   "outputs": [],
   "source": [
    "# Restaurant reviews for Marche Movenpick VivoCity\n",
    "pilotTweets = [\"the service and the food are equally good the service crew lagi shows a lot of patience while we deciding which table to sit\", \n",
    "               \"so glad to see marches discount offer on eatigo you can have a swiss sausage rosti spanish paella italian burrata mexican guacamole and german beer all at one place at half the price on a saturday linner\", \n",
    "               \"good to go during weekdays during lunch no frills set lunch which is at a reasonable pricing with drinks\", \n",
    "               \"food selection was not great and taste was average only only chose this place for the kids play area staff had a difficult time with the time because we bought chope vouchers\",\n",
    "               \"has been such a long time since we visited marche it is still the same as before quality of food is still there food is freshly prepared on the spot juice is also fresh\",\n",
    "               \"disappointed cramped space poor choice n quality of food rude staff at grilled platter asked him how long i need to wait mins he said just wait for buzzer thats whats its for there was no q at all i should have known better\",\n",
    "               \"this place gives you a card and there are various counters of different food courses where you can order receive the food and pay using the card and finally you pay based on your food selections\",\n",
    "               \"came back for the pizza because i really enjoyed it the previous time prawn i was here and again the pizza minced beef was great the rosti was good as well\",\n",
    "               \"their rosti are so nice love their rosti had the pasta as well not bad but the pasta is not cooked al dente too soggy\",\n",
    "               \"we had to queue for dinner on a saturday night but it was not too long given the time of day\"]"
   ]
  },
  {
   "cell_type": "code",
   "execution_count": 197,
   "metadata": {},
   "outputs": [],
   "source": [
    "pilotTweetsFiltered = []\n",
    "for element in pilotTweets:\n",
    "    words = word_tokenize(element)\n",
    "    wordsFiltered = []\n",
    "\n",
    "    for w in words:\n",
    "        if w not in stopWords:\n",
    "            wordsFiltered.append(w)\n",
    "    pilotTweetsFiltered.append(\" \".join(wordsFiltered))"
   ]
  },
  {
   "cell_type": "code",
   "execution_count": 198,
   "metadata": {},
   "outputs": [],
   "source": [
    "tweetVectors = []\n",
    "i = 0\n",
    "while i < len(pilotTweetsFiltered):\n",
    "    tweetWords = pilotTweetsFiltered[i].split()\n",
    "    vector = []\n",
    "    for element in sparseVectorA:\n",
    "        j = 0\n",
    "        k = 0\n",
    "        while j < len(tweetWords):\n",
    "            if tweetWords[j] == element:\n",
    "                k += 1\n",
    "            j += 1\n",
    "        vector.append(k)\n",
    "    for element in sparseVectorB:\n",
    "        bigramWords = element.split()\n",
    "        j = 0\n",
    "        k = 0\n",
    "        while j < len(tweetWords)-1:\n",
    "            if tweetWords[j] == bigramWords[0] and tweetWords[j+1] == bigramWords[1]:\n",
    "                k += 1\n",
    "            j += 1\n",
    "        vector.append(k)\n",
    "    tweetVectors.append(vector)\n",
    "    i += 1\n",
    "# tweetVectors = np.array([])\n",
    "# tweetVectors = np.append(tweetVectors, [1, 3, 4])\n",
    "# tweetVectors = np.append(tweetVectors, [1, 3, 4])\n",
    "# tweetVectors = np.append(tweetVectors, 1)\n",
    "# tweetVectors = np.append(tweetVectors, 2)\n",
    "# tweetVectors.append(1)\n",
    "# tweetVectors"
   ]
  },
  {
   "cell_type": "code",
   "execution_count": 199,
   "metadata": {},
   "outputs": [],
   "source": [
    "numPTweetsWTerm = []\n",
    "for element in sparseVectorA:\n",
    "    m = 0\n",
    "    for tweet in pilotTweetsFiltered:\n",
    "        tweetWords = tweet.split()\n",
    "        if element in tweetWords:\n",
    "            m += 1\n",
    "    numPTweetsWTerm.append(m)\n",
    "for element in sparseVectorB:\n",
    "    m = 0\n",
    "    for tweet in pilotTweetsFiltered:\n",
    "        tweetWords = tweet.split()\n",
    "        big = list(ngrams(tweetWords, 2))\n",
    "        bigrams = []\n",
    "        for part in big:\n",
    "            portion = \" \".join(part)\n",
    "            bigrams.append(portion)\n",
    "        if element in bigrams:\n",
    "            m += 1\n",
    "    numPTweetsWTerm.append(m)"
   ]
  },
  {
   "cell_type": "code",
   "execution_count": 200,
   "metadata": {},
   "outputs": [],
   "source": [
    "tweetPVectorsIDF = []\n",
    "for element in tweetVectors:\n",
    "    i = 0\n",
    "    vector = []\n",
    "    for piece in element:\n",
    "        term = math.log10((1+len(pilotTweetsFiltered))/(1+numPTweetsWTerm[i]))+1\n",
    "        newTerm = piece * term\n",
    "        vector.append(newTerm)\n",
    "        i += 1\n",
    "    tweetPVectorsIDF.append(vector)"
   ]
  },
  {
   "cell_type": "code",
   "execution_count": 201,
   "metadata": {},
   "outputs": [],
   "source": [
    "idfPVectors = np.array(tweetPVectorsIDF)"
   ]
  },
  {
   "cell_type": "code",
   "execution_count": 202,
   "metadata": {},
   "outputs": [],
   "source": [
    "tweetVectors2 = []\n",
    "for tweet in pilotTweetsFiltered:\n",
    "    tweetWords = tweet.split()\n",
    "    bigr = list(ngrams(tweetWords, 2))\n",
    "    bigrams = []\n",
    "    for part in bigr:\n",
    "        portion = \" \".join(part)\n",
    "        bigrams.append(portion)\n",
    "    vector = []\n",
    "    for element in sparseVectorA:\n",
    "        if element in tweetWords:\n",
    "            k = 1\n",
    "        else:\n",
    "            k = 0\n",
    "        vector.append(k)\n",
    "    for element in sparseVectorB:\n",
    "        if element in bigrams:\n",
    "            k = 1\n",
    "        else:\n",
    "            k = 0\n",
    "        vector.append(k)\n",
    "    tweetVectors2.append(vector)"
   ]
  },
  {
   "cell_type": "code",
   "execution_count": 203,
   "metadata": {},
   "outputs": [],
   "source": [
    "tweetVectorsB = np.array(tweetVectors2)"
   ]
  },
  {
   "cell_type": "code",
   "execution_count": 204,
   "metadata": {},
   "outputs": [
    {
     "name": "stdout",
     "output_type": "stream",
     "text": [
      "[0 0 0 0 0 0 0 0 0 0 0 0 0 0 1 1 1 0 0 1]\n"
     ]
    }
   ],
   "source": [
    "print(model2.predict(idfPVectors))"
   ]
  },
  {
   "cell_type": "code",
   "execution_count": null,
   "metadata": {},
   "outputs": [],
   "source": []
  },
  {
   "cell_type": "code",
   "execution_count": null,
   "metadata": {},
   "outputs": [],
   "source": []
  }
 ],
 "metadata": {
  "kernelspec": {
   "display_name": "Python 3",
   "language": "python",
   "name": "python3"
  },
  "language_info": {
   "codemirror_mode": {
    "name": "ipython",
    "version": 3
   },
   "file_extension": ".py",
   "mimetype": "text/x-python",
   "name": "python",
   "nbconvert_exporter": "python",
   "pygments_lexer": "ipython3",
   "version": "3.7.3"
  }
 },
 "nbformat": 4,
 "nbformat_minor": 2
}
