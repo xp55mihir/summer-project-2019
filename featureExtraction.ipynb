{
 "cells": [
  {
   "cell_type": "code",
   "execution_count": 1,
   "metadata": {},
   "outputs": [],
   "source": [
    "#Unigram and bigram code goes here"
   ]
  },
  {
   "cell_type": "code",
   "execution_count": 2,
   "metadata": {},
   "outputs": [
    {
     "name": "stderr",
     "output_type": "stream",
     "text": [
      "[nltk_data] Downloading package punkt to /Users/admin/nltk_data...\n",
      "[nltk_data]   Package punkt is already up-to-date!\n",
      "[nltk_data] Downloading package stopwords to /Users/admin/nltk_data...\n",
      "[nltk_data]   Package stopwords is already up-to-date!\n"
     ]
    }
   ],
   "source": [
    "import pandas as pd\n",
    "import matplotlib.pyplot as plt\n",
    "import nltk\n",
    "nltk.download('punkt')\n",
    "nltk.download('stopwords')\n",
    "from nltk.util import ngrams\n",
    "from nltk.tokenize import sent_tokenize, word_tokenize\n",
    "from nltk.corpus import stopwords\n",
    "from sklearn.feature_extraction.text import CountVectorizer\n",
    "import numpy as np\n",
    "from scipy.sparse import csc_matrix\n",
    "from scipy.sparse import random\n",
    "import math \n",
    "# import re"
   ]
  },
  {
   "cell_type": "code",
   "execution_count": 3,
   "metadata": {},
   "outputs": [],
   "source": [
    "#Importing dataset\n",
    "trainDf = pd.read_csv('train_processed.csv', sep = ',')\n",
    "testDf = pd.read_csv('test_processed.csv', sep = ',')"
   ]
  },
  {
   "cell_type": "code",
   "execution_count": 4,
   "metadata": {},
   "outputs": [
    {
     "data": {
      "text/html": [
       "<div>\n",
       "<style scoped>\n",
       "    .dataframe tbody tr th:only-of-type {\n",
       "        vertical-align: middle;\n",
       "    }\n",
       "\n",
       "    .dataframe tbody tr th {\n",
       "        vertical-align: top;\n",
       "    }\n",
       "\n",
       "    .dataframe thead th {\n",
       "        text-align: right;\n",
       "    }\n",
       "</style>\n",
       "<table border=\"1\" class=\"dataframe\">\n",
       "  <thead>\n",
       "    <tr style=\"text-align: right;\">\n",
       "      <th></th>\n",
       "      <th>Unnamed: 0</th>\n",
       "      <th>0</th>\n",
       "      <th>1</th>\n",
       "      <th>0.1</th>\n",
       "    </tr>\n",
       "  </thead>\n",
       "  <tbody>\n",
       "    <tr>\n",
       "      <th>0</th>\n",
       "      <td>0</td>\n",
       "      <td>1</td>\n",
       "      <td>0</td>\n",
       "      <td>USER_MENTION when a father is dysfunctional an...</td>\n",
       "    </tr>\n",
       "    <tr>\n",
       "      <th>1</th>\n",
       "      <td>1</td>\n",
       "      <td>2</td>\n",
       "      <td>0</td>\n",
       "      <td>USER_MENTION USER_MENTION thanks for lyft cred...</td>\n",
       "    </tr>\n",
       "    <tr>\n",
       "      <th>2</th>\n",
       "      <td>2</td>\n",
       "      <td>3</td>\n",
       "      <td>0</td>\n",
       "      <td>bihday your majesty</td>\n",
       "    </tr>\n",
       "    <tr>\n",
       "      <th>3</th>\n",
       "      <td>3</td>\n",
       "      <td>4</td>\n",
       "      <td>0</td>\n",
       "      <td>model i love u take with u all the time in urð</td>\n",
       "    </tr>\n",
       "    <tr>\n",
       "      <th>4</th>\n",
       "      <td>4</td>\n",
       "      <td>5</td>\n",
       "      <td>0</td>\n",
       "      <td>factsguide society now motivation</td>\n",
       "    </tr>\n",
       "  </tbody>\n",
       "</table>\n",
       "</div>"
      ],
      "text/plain": [
       "   Unnamed: 0  0  1                                                0.1\n",
       "0           0  1  0  USER_MENTION when a father is dysfunctional an...\n",
       "1           1  2  0  USER_MENTION USER_MENTION thanks for lyft cred...\n",
       "2           2  3  0                                bihday your majesty\n",
       "3           3  4  0     model i love u take with u all the time in urð\n",
       "4           4  5  0                  factsguide society now motivation"
      ]
     },
     "execution_count": 4,
     "metadata": {},
     "output_type": "execute_result"
    }
   ],
   "source": [
    "trainDf.head()"
   ]
  },
  {
   "cell_type": "code",
   "execution_count": 5,
   "metadata": {},
   "outputs": [],
   "source": [
    "# c = trainDf[[\"0.1\"]]\n",
    "# c.head()"
   ]
  },
  {
   "cell_type": "code",
   "execution_count": 6,
   "metadata": {},
   "outputs": [
    {
     "data": {
      "text/html": [
       "<div>\n",
       "<style scoped>\n",
       "    .dataframe tbody tr th:only-of-type {\n",
       "        vertical-align: middle;\n",
       "    }\n",
       "\n",
       "    .dataframe tbody tr th {\n",
       "        vertical-align: top;\n",
       "    }\n",
       "\n",
       "    .dataframe thead th {\n",
       "        text-align: right;\n",
       "    }\n",
       "</style>\n",
       "<table border=\"1\" class=\"dataframe\">\n",
       "  <thead>\n",
       "    <tr style=\"text-align: right;\">\n",
       "      <th></th>\n",
       "      <th>Unnamed: 0</th>\n",
       "      <th>0</th>\n",
       "      <th>1</th>\n",
       "      <th>0.1</th>\n",
       "    </tr>\n",
       "  </thead>\n",
       "  <tbody>\n",
       "    <tr>\n",
       "      <th>0</th>\n",
       "      <td>0</td>\n",
       "      <td>1</td>\n",
       "      <td>0</td>\n",
       "      <td>USER_MENTION when a father is dysfunctional an...</td>\n",
       "    </tr>\n",
       "    <tr>\n",
       "      <th>1</th>\n",
       "      <td>1</td>\n",
       "      <td>2</td>\n",
       "      <td>0</td>\n",
       "      <td>USER_MENTION USER_MENTION thanks for lyft cred...</td>\n",
       "    </tr>\n",
       "    <tr>\n",
       "      <th>2</th>\n",
       "      <td>2</td>\n",
       "      <td>3</td>\n",
       "      <td>0</td>\n",
       "      <td>bihday your majesty</td>\n",
       "    </tr>\n",
       "    <tr>\n",
       "      <th>3</th>\n",
       "      <td>3</td>\n",
       "      <td>4</td>\n",
       "      <td>0</td>\n",
       "      <td>model i love u take with u all the time in urð</td>\n",
       "    </tr>\n",
       "    <tr>\n",
       "      <th>4</th>\n",
       "      <td>4</td>\n",
       "      <td>5</td>\n",
       "      <td>0</td>\n",
       "      <td>factsguide society now motivation</td>\n",
       "    </tr>\n",
       "  </tbody>\n",
       "</table>\n",
       "</div>"
      ],
      "text/plain": [
       "   Unnamed: 0  0  1                                                0.1\n",
       "0           0  1  0  USER_MENTION when a father is dysfunctional an...\n",
       "1           1  2  0  USER_MENTION USER_MENTION thanks for lyft cred...\n",
       "2           2  3  0                                bihday your majesty\n",
       "3           3  4  0     model i love u take with u all the time in urð\n",
       "4           4  5  0                  factsguide society now motivation"
      ]
     },
     "execution_count": 6,
     "metadata": {},
     "output_type": "execute_result"
    }
   ],
   "source": [
    "tweetsTrain = pd.DataFrame(trainDf)\n",
    "tweetsTrain.head()"
   ]
  },
  {
   "cell_type": "code",
   "execution_count": 7,
   "metadata": {},
   "outputs": [
    {
     "data": {
      "text/html": [
       "<div>\n",
       "<style scoped>\n",
       "    .dataframe tbody tr th:only-of-type {\n",
       "        vertical-align: middle;\n",
       "    }\n",
       "\n",
       "    .dataframe tbody tr th {\n",
       "        vertical-align: top;\n",
       "    }\n",
       "\n",
       "    .dataframe thead th {\n",
       "        text-align: right;\n",
       "    }\n",
       "</style>\n",
       "<table border=\"1\" class=\"dataframe\">\n",
       "  <thead>\n",
       "    <tr style=\"text-align: right;\">\n",
       "      <th></th>\n",
       "      <th>0</th>\n",
       "      <th>1</th>\n",
       "      <th>2</th>\n",
       "    </tr>\n",
       "  </thead>\n",
       "  <tbody>\n",
       "    <tr>\n",
       "      <th>0</th>\n",
       "      <td>1</td>\n",
       "      <td>0</td>\n",
       "      <td>USER_MENTION when a father is dysfunctional an...</td>\n",
       "    </tr>\n",
       "    <tr>\n",
       "      <th>1</th>\n",
       "      <td>2</td>\n",
       "      <td>0</td>\n",
       "      <td>USER_MENTION USER_MENTION thanks for lyft cred...</td>\n",
       "    </tr>\n",
       "    <tr>\n",
       "      <th>2</th>\n",
       "      <td>3</td>\n",
       "      <td>0</td>\n",
       "      <td>bihday your majesty</td>\n",
       "    </tr>\n",
       "    <tr>\n",
       "      <th>3</th>\n",
       "      <td>4</td>\n",
       "      <td>0</td>\n",
       "      <td>model i love u take with u all the time in urð</td>\n",
       "    </tr>\n",
       "    <tr>\n",
       "      <th>4</th>\n",
       "      <td>5</td>\n",
       "      <td>0</td>\n",
       "      <td>factsguide society now motivation</td>\n",
       "    </tr>\n",
       "  </tbody>\n",
       "</table>\n",
       "</div>"
      ],
      "text/plain": [
       "   0  1                                                  2\n",
       "0  1  0  USER_MENTION when a father is dysfunctional an...\n",
       "1  2  0  USER_MENTION USER_MENTION thanks for lyft cred...\n",
       "2  3  0                                bihday your majesty\n",
       "3  4  0     model i love u take with u all the time in urð\n",
       "4  5  0                  factsguide society now motivation"
      ]
     },
     "execution_count": 7,
     "metadata": {},
     "output_type": "execute_result"
    }
   ],
   "source": [
    "trainTweetsProc = [] # Creating an empty list to store the data set above.\n",
    "i = 0\n",
    "while i < tweetsTrain.shape[0]:\n",
    "    trainTweetsProc.append([tweetsTrain.iloc[i,1], tweetsTrain.iloc[i,2], tweetsTrain.iloc[i,3]]) # Adds each row to the list, excluding the first column of the data set.\n",
    "    i += 1\n",
    "\n",
    "trainTweetsP = pd.DataFrame(trainTweetsProc) # Casts the list to a data frame, which is cleaned.\n",
    "trainTweetsP.head()"
   ]
  },
  {
   "cell_type": "code",
   "execution_count": 8,
   "metadata": {},
   "outputs": [
    {
     "data": {
      "text/html": [
       "<div>\n",
       "<style scoped>\n",
       "    .dataframe tbody tr th:only-of-type {\n",
       "        vertical-align: middle;\n",
       "    }\n",
       "\n",
       "    .dataframe tbody tr th {\n",
       "        vertical-align: top;\n",
       "    }\n",
       "\n",
       "    .dataframe thead th {\n",
       "        text-align: right;\n",
       "    }\n",
       "</style>\n",
       "<table border=\"1\" class=\"dataframe\">\n",
       "  <thead>\n",
       "    <tr style=\"text-align: right;\">\n",
       "      <th></th>\n",
       "      <th>2</th>\n",
       "    </tr>\n",
       "  </thead>\n",
       "  <tbody>\n",
       "    <tr>\n",
       "      <th>0</th>\n",
       "      <td>USER_MENTION when a father is dysfunctional an...</td>\n",
       "    </tr>\n",
       "    <tr>\n",
       "      <th>1</th>\n",
       "      <td>USER_MENTION USER_MENTION thanks for lyft cred...</td>\n",
       "    </tr>\n",
       "    <tr>\n",
       "      <th>2</th>\n",
       "      <td>bihday your majesty</td>\n",
       "    </tr>\n",
       "    <tr>\n",
       "      <th>3</th>\n",
       "      <td>model i love u take with u all the time in urð</td>\n",
       "    </tr>\n",
       "    <tr>\n",
       "      <th>4</th>\n",
       "      <td>factsguide society now motivation</td>\n",
       "    </tr>\n",
       "  </tbody>\n",
       "</table>\n",
       "</div>"
      ],
      "text/plain": [
       "                                                   2\n",
       "0  USER_MENTION when a father is dysfunctional an...\n",
       "1  USER_MENTION USER_MENTION thanks for lyft cred...\n",
       "2                                bihday your majesty\n",
       "3     model i love u take with u all the time in urð\n",
       "4                  factsguide society now motivation"
      ]
     },
     "execution_count": 8,
     "metadata": {},
     "output_type": "execute_result"
    }
   ],
   "source": [
    "tweetsTraining = trainTweetsP[[2]] # Extracts the tweets column from the clean data frame above.\n",
    "tweetsTraining.head()"
   ]
  },
  {
   "cell_type": "code",
   "execution_count": 9,
   "metadata": {},
   "outputs": [],
   "source": [
    "tweetTrainingList = [] # Creating an empty list to store the tweets.\n",
    "i = 0\n",
    "while i < tweetsTraining.shape[0]:\n",
    "    tweetTrainingList.append(tweetsTraining.iloc[i,0]) # Adds each tweet to the list.\n",
    "    i += 1"
   ]
  },
  {
   "cell_type": "code",
   "execution_count": 10,
   "metadata": {},
   "outputs": [],
   "source": [
    "stringOfTrainTweets = \" \".join(tweetTrainingList) # Joins the tweets together into one giant string, with a space between every two consecutive tweets."
   ]
  },
  {
   "cell_type": "code",
   "execution_count": 11,
   "metadata": {},
   "outputs": [],
   "source": [
    "stopWords = set(stopwords.words('english'))\n",
    "tokens = word_tokenize(stringOfTrainTweets)\n",
    "wordsFiltered = []\n",
    "\n",
    "for w in tokens:\n",
    "    if w not in stopWords:\n",
    "        wordsFiltered.append(w)"
   ]
  },
  {
   "cell_type": "code",
   "execution_count": 12,
   "metadata": {},
   "outputs": [],
   "source": [
    "#Creating Unigram"
   ]
  },
  {
   "cell_type": "code",
   "execution_count": 13,
   "metadata": {},
   "outputs": [
    {
     "data": {
      "image/png": "[encoded data removed]",
      "text/plain": [
       "<Figure size 432x288 with 1 Axes>"
      ]
     },
     "metadata": {
      "needs_background": "light"
     },
     "output_type": "display_data"
    }
   ],
   "source": [
    "#Plotting unigram\n",
    "# r = trainDf[[\"0.1\"]]\n",
    "# trainDf_string = trainDf.to_string()\n",
    "#creating tokens\n",
    "# tokens = word_tokenize(stringOfTrainTweets)\n",
    "vocab = set(wordsFiltered)\n",
    "frequencyDist = nltk.FreqDist(wordsFiltered)\n",
    "data = sorted(frequencyDist,key=frequencyDist.__getitem__, reverse=True)\n",
    "data[0:20]\n",
    "frequencyDist.plot(20, cumulative=False)"
   ]
  },
  {
   "cell_type": "code",
   "execution_count": 14,
   "metadata": {},
   "outputs": [
    {
     "data": {
      "text/plain": [
       "41435"
      ]
     },
     "execution_count": 14,
     "metadata": {},
     "output_type": "execute_result"
    }
   ],
   "source": [
    "len(vocab) \n",
    "# So, proportionally num. of sparse vector = 3440\n",
    "#and num of dense vector = 20,650"
   ]
  },
  {
   "cell_type": "code",
   "execution_count": 15,
   "metadata": {},
   "outputs": [
    {
     "data": {
      "text/plain": [
       "['USER_MENTION',\n",
       " 'love',\n",
       " 'day',\n",
       " 'happy',\n",
       " 'amp',\n",
       " 'im',\n",
       " 'u',\n",
       " 'time',\n",
       " 'life',\n",
       " 'like']"
      ]
     },
     "execution_count": 15,
     "metadata": {},
     "output_type": "execute_result"
    }
   ],
   "source": [
    "sparseVector = data[0:3430]\n",
    "denseVector = data[0:20580]\n",
    "denseVector[0:10]"
   ]
  },
  {
   "cell_type": "code",
   "execution_count": 16,
   "metadata": {},
   "outputs": [],
   "source": [
    "# def generate_ngrams(s, n):\n",
    "    \n",
    "#     # Replace all none alphanumeric characters with spaces\n",
    "#     s = re.sub(r'[^a-zA-Z0-9\\s]', ' ', s)\n",
    "    \n",
    "#     # Break sentence in the token, remove empty tokens\n",
    "#     tokens = [token for token in s.split(\" \") if token != \"\"]\n",
    "    \n",
    "#     # Use the zip function to help us generate n-grams\n",
    "#     # Concatentate the tokens into ngrams and return\n",
    "#     ngrams = zip(*[token[i:] for i in range(n)])\n",
    "#     return [\" \".join(ngram) for ngram in ngrams]"
   ]
  },
  {
   "cell_type": "code",
   "execution_count": 17,
   "metadata": {},
   "outputs": [],
   "source": [
    "# a = 'today was so cool. i did nothing. amazing, right?'"
   ]
  },
  {
   "cell_type": "code",
   "execution_count": 18,
   "metadata": {},
   "outputs": [],
   "source": [
    "# generate_ngrams(a, n=2)"
   ]
  },
  {
   "cell_type": "code",
   "execution_count": 19,
   "metadata": {},
   "outputs": [],
   "source": [
    "# b = 'time to go home! next time, we will go to the cinema. how does that sound? do you want to go to the cinema?'"
   ]
  },
  {
   "cell_type": "code",
   "execution_count": 20,
   "metadata": {},
   "outputs": [],
   "source": [
    "# #Trial : To be del.\n",
    "# tokens = [token for token in stringOfTrainTweets.split(\" \") if token != \"\"]\n",
    "# output = list(ngrams(tokens, 2))"
   ]
  },
  {
   "cell_type": "code",
   "execution_count": 21,
   "metadata": {},
   "outputs": [],
   "source": [
    "output = []\n",
    "i = 0\n",
    "while i < len(tweetTrainingList):\n",
    "    tokens1 = word_tokenize(tweetTrainingList[i])\n",
    "    tweetFil = []\n",
    "    for w in tokens1:\n",
    "        if w not in stopWords:\n",
    "            tweetFil.append(w)\n",
    "    output.extend(list(ngrams(tweetFil, 2)))\n",
    "    i += 1"
   ]
  },
  {
   "cell_type": "code",
   "execution_count": 22,
   "metadata": {},
   "outputs": [],
   "source": [
    "# a = \"the weather today is pleasant\"\n",
    "# b = a.split(\" \")\n",
    "# print(b)"
   ]
  },
  {
   "cell_type": "code",
   "execution_count": 23,
   "metadata": {},
   "outputs": [],
   "source": [
    "# output = []\n",
    "# i = 0\n",
    "# while i < len(tweetTrainingList):\n",
    "#     tokens = [token for token in tweetTrainingList[i].split(\" \") if token != \"\"]\n",
    "#     output.extend(list(ngrams(tokens, 2)))\n",
    "#     i += 1"
   ]
  },
  {
   "cell_type": "code",
   "execution_count": 24,
   "metadata": {},
   "outputs": [
    {
     "data": {
      "text/plain": [
       "[('USER_MENTION', 'father'),\n",
       " ('father', 'dysfunctional'),\n",
       " ('dysfunctional', 'selfish'),\n",
       " ('selfish', 'drags'),\n",
       " ('drags', 'kids'),\n",
       " ('kids', 'dysfunction'),\n",
       " ('dysfunction', 'run'),\n",
       " ('USER_MENTION', 'USER_MENTION'),\n",
       " ('USER_MENTION', 'thanks'),\n",
       " ('thanks', 'lyft')]"
      ]
     },
     "execution_count": 24,
     "metadata": {},
     "output_type": "execute_result"
    }
   ],
   "source": [
    "output[0:10]"
   ]
  },
  {
   "cell_type": "code",
   "execution_count": 25,
   "metadata": {},
   "outputs": [
    {
     "data": {
      "text/plain": [
       "[('USER_MENTION', 'USER_MENTION'),\n",
       " ('fathers', 'day'),\n",
       " ('thankful', 'positive'),\n",
       " ('positive', 'affirmation'),\n",
       " ('love', 'u'),\n",
       " ('cant', 'wait'),\n",
       " ('u', 'take'),\n",
       " ('take', 'u'),\n",
       " ('u', 'time'),\n",
       " ('model', 'love'),\n",
       " ('time', 'urð'),\n",
       " ('i_am', 'positive'),\n",
       " ('blog', 'silver'),\n",
       " ('silver', 'gold'),\n",
       " ('gold', 'forex'),\n",
       " ('altwaystoheal', 'healthy'),\n",
       " ('via', 'USER_MENTION'),\n",
       " ('polar', 'bear'),\n",
       " ('whatever', 'want'),\n",
       " ('bull', 'dominate')]"
      ]
     },
     "execution_count": 25,
     "metadata": {},
     "output_type": "execute_result"
    }
   ],
   "source": [
    "bigrams = set(output)\n",
    "frequency_dist = nltk.FreqDist(output)\n",
    "data1 = sorted(frequency_dist,key=frequency_dist.__getitem__, reverse=True)\n",
    "data1[0:20]"
   ]
  },
  {
   "cell_type": "code",
   "execution_count": 26,
   "metadata": {},
   "outputs": [
    {
     "data": {
      "text/plain": [
       "161278"
      ]
     },
     "execution_count": 26,
     "metadata": {},
     "output_type": "execute_result"
    }
   ],
   "source": [
    "len(data1)"
   ]
  },
  {
   "cell_type": "code",
   "execution_count": 27,
   "metadata": {},
   "outputs": [
    {
     "data": {
      "text/plain": [
       "161278"
      ]
     },
     "execution_count": 27,
     "metadata": {},
     "output_type": "execute_result"
    }
   ],
   "source": [
    "len(bigrams)"
   ]
  },
  {
   "cell_type": "code",
   "execution_count": 28,
   "metadata": {},
   "outputs": [
    {
     "data": {
      "text/plain": [
       "[('USER_MENTION', 'USER_MENTION'),\n",
       " ('fathers', 'day'),\n",
       " ('thankful', 'positive'),\n",
       " ('positive', 'affirmation'),\n",
       " ('love', 'u'),\n",
       " ('cant', 'wait'),\n",
       " ('u', 'take'),\n",
       " ('take', 'u'),\n",
       " ('u', 'time'),\n",
       " ('model', 'love')]"
      ]
     },
     "execution_count": 28,
     "metadata": {},
     "output_type": "execute_result"
    }
   ],
   "source": [
    "bigramsVocab = data1[0:830]\n",
    "bigramsVocab[0:10]"
   ]
  },
  {
   "cell_type": "code",
   "execution_count": 29,
   "metadata": {},
   "outputs": [
    {
     "data": {
      "image/png": "[encoded data removed]",
      "text/plain": [
       "<Figure size 432x288 with 1 Axes>"
      ]
     },
     "metadata": {
      "needs_background": "light"
     },
     "output_type": "display_data"
    }
   ],
   "source": [
    "frequency_dist.plot(20, cumulative=False)"
   ]
  },
  {
   "cell_type": "code",
   "execution_count": 30,
   "metadata": {},
   "outputs": [
    {
     "data": {
      "text/plain": [
       "CountVectorizer(analyzer='word', binary=False, decode_error='strict',\n",
       "                dtype=<class 'numpy.int64'>, encoding='utf-8', input='content',\n",
       "                lowercase=True, max_df=1.0, max_features=None, min_df=1,\n",
       "                ngram_range=(1, 1), preprocessor=None, stop_words=None,\n",
       "                strip_accents=None, token_pattern='(?u)\\\\b\\\\w\\\\w+\\\\b',\n",
       "                tokenizer=None, vocabulary=None)"
      ]
     },
     "execution_count": 30,
     "metadata": {},
     "output_type": "execute_result"
    }
   ],
   "source": [
    "vectorizer = CountVectorizer()\n",
    ">>> vectorizer   "
   ]
  },
  {
   "cell_type": "code",
   "execution_count": 31,
   "metadata": {},
   "outputs": [],
   "source": [
    "# corpus = [\n",
    "# ...     'This is the first document.',\n",
    "# ...     'This is the second second document.',\n",
    "# ...     'And the third one.',\n",
    "# ...     'Is this the first document?',\n",
    "# ... ]\n",
    "# X = vectorizer.fit_transform(corpus)\n",
    "# >>> X     "
   ]
  },
  {
   "cell_type": "code",
   "execution_count": 32,
   "metadata": {},
   "outputs": [],
   "source": [
    "# vectorizer.get_feature_names() == (\n",
    "# ...     ['and', 'document', 'first', 'is', 'one',\n",
    "# ...      'second', 'the', 'third', 'this'])"
   ]
  },
  {
   "cell_type": "code",
   "execution_count": 33,
   "metadata": {},
   "outputs": [],
   "source": [
    "# vectorizer.get_feature_names()"
   ]
  },
  {
   "cell_type": "code",
   "execution_count": 34,
   "metadata": {},
   "outputs": [],
   "source": [
    "# extract = ['he went to the mall to watch a movie', 'he watched a movie', 'he went cycling with his friends', 'he cooks delicious food']\n",
    "# extractFil = []\n",
    "# i = 0\n",
    "# while i < len(extract):\n",
    "#     tokens1 = word_tokenize(extract[i])\n",
    "#     tweetFil = []\n",
    "#     for w in tokens1:\n",
    "#         if w not in stopWords:\n",
    "#             tweetFil.append(w)\n",
    "#     extractFil.append(\" \".join(tweetFil))\n",
    "#     i += 1\n",
    "# outputA = []\n",
    "# i = 0\n",
    "# while i < len(extract):\n",
    "#     tokens1 = word_tokenize(extract[i])\n",
    "#     tweetFil = []\n",
    "#     for w in tokens1:\n",
    "#         if w not in stopWords:\n",
    "#             tweetFil.append(w)\n",
    "#     outputA.extend(list(ngrams(tweetFil, 1)))\n",
    "#     i += 1\n",
    "# setA = set(outputA)\n",
    "# outputB = []\n",
    "# i = 0\n",
    "# while i < len(extract):\n",
    "#     tokens1 = word_tokenize(extract[i])\n",
    "#     tweetFil = []\n",
    "#     for w in tokens1:\n",
    "#         if w not in stopWords:\n",
    "#             tweetFil.append(w)\n",
    "#     outputB.extend(list(ngrams(tweetFil, 2)))\n",
    "#     i += 1\n",
    "# setB = set(outputB)\n",
    "# # len(set(outputA))+len(vectorizer.get_feature_names())\n",
    "# len(setA)+len(setB)"
   ]
  },
  {
   "cell_type": "code",
   "execution_count": 35,
   "metadata": {},
   "outputs": [],
   "source": [
    "# words = ['he', 'went', 'to', 'the', 'mall', 'watch', 'a', 'movie', 'the mall']\n",
    "# M = vectorizer.fit_transform(words)\n",
    "# vectorizer.get_feature_names()"
   ]
  },
  {
   "cell_type": "code",
   "execution_count": 36,
   "metadata": {},
   "outputs": [],
   "source": [
    "# A = M.toarray()"
   ]
  },
  {
   "cell_type": "code",
   "execution_count": 37,
   "metadata": {},
   "outputs": [],
   "source": [
    "# M.toarray()"
   ]
  },
  {
   "cell_type": "code",
   "execution_count": 38,
   "metadata": {},
   "outputs": [],
   "source": [
    "# print(A[2])"
   ]
  },
  {
   "cell_type": "code",
   "execution_count": 39,
   "metadata": {},
   "outputs": [],
   "source": [
    "# X.toarray()"
   ]
  },
  {
   "cell_type": "code",
   "execution_count": 40,
   "metadata": {},
   "outputs": [],
   "source": [
    "# vectorizer.vocabulary_.get('document')"
   ]
  },
  {
   "cell_type": "code",
   "execution_count": 41,
   "metadata": {},
   "outputs": [],
   "source": [
    "# vectorizer.transform(['Something completely new.']).toarray()"
   ]
  },
  {
   "cell_type": "code",
   "execution_count": 42,
   "metadata": {},
   "outputs": [
    {
     "data": {
      "text/plain": [
       "'i will never msg him first if he dun msg me firstdisappointed'"
      ]
     },
     "execution_count": 42,
     "metadata": {},
     "output_type": "execute_result"
    }
   ],
   "source": [
    "tweetTrainingList[30000]"
   ]
  },
  {
   "cell_type": "code",
   "execution_count": 43,
   "metadata": {},
   "outputs": [],
   "source": [
    "tweetListFiltered = []\n",
    "for element in tweetTrainingList:\n",
    "    words = word_tokenize(element)\n",
    "    wordsFiltered = []\n",
    "\n",
    "    for w in words:\n",
    "        if w not in stopWords:\n",
    "            wordsFiltered.append(w)\n",
    "    tweetListFiltered.append(\" \".join(wordsFiltered))"
   ]
  },
  {
   "cell_type": "code",
   "execution_count": 44,
   "metadata": {},
   "outputs": [
    {
     "data": {
      "text/plain": [
       "'never msg first dun msg firstdisappointed'"
      ]
     },
     "execution_count": 44,
     "metadata": {},
     "output_type": "execute_result"
    }
   ],
   "source": [
    "tweetListFiltered[30000]"
   ]
  },
  {
   "cell_type": "code",
   "execution_count": 45,
   "metadata": {},
   "outputs": [],
   "source": [
    "from scipy import sparse \n",
    "# >>> bigram_vectorizer = CountVectorizer(ngram_range=(1, 2),\n",
    "# ...                                     token_pattern=r'\\b\\w+\\b', min_df=1)\n",
    "# >>> analyze = bigram_vectorizer.build_analyzer()\n",
    "# # tweetListVectors = bigram_vectorizer.fit_transform(tweetListFiltered).toarray()\n",
    "# tweetVectorsA = sparse.lil_matrix(bigram_vectorizer.fit_transform(tweetListFiltered[0:5000]).toarray())\n",
    "\n",
    "# # tweetListVectors\n",
    "# # >>> analyze('Bi-grams are cool!') == (\n",
    "# # ...     ['bi', 'grams', 'are', 'cool', 'bi grams', 'grams are', 'are cool'])"
   ]
  },
  {
   "cell_type": "code",
   "execution_count": 46,
   "metadata": {},
   "outputs": [
    {
     "name": "stdout",
     "output_type": "stream",
     "text": [
      "[ 7  9 11 13 15]\n"
     ]
    }
   ],
   "source": [
    "a = np.array([1,2,3,4,5])\n",
    "b = np.array([6,7,8,9,10])\n",
    "print(a+b)"
   ]
  },
  {
   "cell_type": "code",
   "execution_count": 47,
   "metadata": {},
   "outputs": [
    {
     "data": {
      "text/plain": [
       "array([[0, 0, 0, 0],\n",
       "       [0, 0, 0, 0],\n",
       "       [0, 0, 0, 0]], dtype=int8)"
      ]
     },
     "execution_count": 47,
     "metadata": {},
     "output_type": "execute_result"
    }
   ],
   "source": [
    "csc_matrix((3, 4), dtype=np.int8).toarray()"
   ]
  },
  {
   "cell_type": "code",
   "execution_count": 48,
   "metadata": {},
   "outputs": [],
   "source": [
    "def get_sparse_size(matrix):\n",
    "    # get size of a sparse matrix\n",
    "    return int((matrix.data.nbytes + matrix.indptr.nbytes + matrix.indices.nbytes) / 1024.)"
   ]
  },
  {
   "cell_type": "code",
   "execution_count": 49,
   "metadata": {},
   "outputs": [],
   "source": [
    "# create a sparse matrix, 1000 x 100000\n",
    "sparse_mat = random(10 ** 3, 10 ** 5, format='csr')"
   ]
  },
  {
   "cell_type": "code",
   "execution_count": 50,
   "metadata": {},
   "outputs": [],
   "source": [
    "# get size of a sparse matrix\n",
    "sparse_size = get_sparse_size(sparse_mat)"
   ]
  },
  {
   "cell_type": "code",
   "execution_count": 51,
   "metadata": {},
   "outputs": [],
   "source": [
    "# convert sparse matrix to a regular matrix and get its size\n",
    "regular_size = sparse_mat.toarray().nbytes / 1024."
   ]
  },
  {
   "cell_type": "code",
   "execution_count": 52,
   "metadata": {},
   "outputs": [
    {
     "name": "stdout",
     "output_type": "stream",
     "text": [
      "The size of sparse matrix is 11722 KiB\n",
      "The size of regular matrix is 781250.0 KiB\n",
      "Data compression ratio is 66.6481829039413\n"
     ]
    }
   ],
   "source": [
    "print(\"The size of sparse matrix is %s KiB\" % sparse_size)\n",
    "print(\"The size of regular matrix is %s KiB\" % regular_size)\n",
    "print(\"Data compression ratio is %s\" % (regular_size / sparse_size))"
   ]
  },
  {
   "cell_type": "code",
   "execution_count": 53,
   "metadata": {},
   "outputs": [
    {
     "data": {
      "text/plain": [
       "array([[0.        , 0.08833981, 0.16911084],\n",
       "       [0.        , 0.        , 0.        ],\n",
       "       [0.19806286, 0.76053071, 0.22479665]])"
      ]
     },
     "execution_count": 53,
     "metadata": {},
     "output_type": "execute_result"
    }
   ],
   "source": [
    "np.random.seed(10)\n",
    "matrix = random(3, 3, format='lil', density=0.6)\n",
    "matrix.toarray()"
   ]
  },
  {
   "cell_type": "code",
   "execution_count": 54,
   "metadata": {},
   "outputs": [
    {
     "data": {
      "text/plain": [
       "array([list([0.08833981417401027, 0.16911083656253545]), list([]),\n",
       "       list([0.19806286475962398, 0.7605307121989587, 0.22479664553084766])],\n",
       "      dtype=object)"
      ]
     },
     "execution_count": 54,
     "metadata": {},
     "output_type": "execute_result"
    }
   ],
   "source": [
    "matrix.data"
   ]
  },
  {
   "cell_type": "code",
   "execution_count": 55,
   "metadata": {},
   "outputs": [
    {
     "data": {
      "text/plain": [
       "array([list([1, 2]), list([]), list([0, 1, 2])], dtype=object)"
      ]
     },
     "execution_count": 55,
     "metadata": {},
     "output_type": "execute_result"
    }
   ],
   "source": [
    "matrix.rows"
   ]
  },
  {
   "cell_type": "code",
   "execution_count": 56,
   "metadata": {},
   "outputs": [],
   "source": [
    "def get_item(row_index, column_index, matrix):\n",
    "    row_values = matrix.data[row_index]\n",
    "    row_indices = matrix.rows[row_index]\n",
    "\n",
    "    value_index = row_indices.index(column_index)\n",
    "    if value_index >= 0:\n",
    "        return row_values[value_index]\n",
    "    else:\n",
    "        return 0"
   ]
  },
  {
   "cell_type": "code",
   "execution_count": 57,
   "metadata": {},
   "outputs": [
    {
     "name": "stdout",
     "output_type": "stream",
     "text": [
      "0.22479664553084766\n"
     ]
    }
   ],
   "source": [
    "print(matrix[2, 2])"
   ]
  },
  {
   "cell_type": "code",
   "execution_count": 58,
   "metadata": {},
   "outputs": [],
   "source": [
    "# analyze(extract[0])"
   ]
  },
  {
   "cell_type": "code",
   "execution_count": 59,
   "metadata": {},
   "outputs": [],
   "source": [
    "# bigr_vectorizer = CountVectorizer(ngram_range=(1, 2), token_pattern=r'\\b\\w+\\b', min_df=1)\n",
    "# analyz = bigr_vectorizer.build_analyzer()\n",
    "# wordSet = []\n",
    "# for element in extract:\n",
    "#     wordSet.extend(analyze(element))\n",
    "# wordSet"
   ]
  },
  {
   "cell_type": "code",
   "execution_count": 60,
   "metadata": {},
   "outputs": [],
   "source": [
    "# X_2 = bigram_vectorizer.fit_transform(corpus).toarray()\n",
    "# >>> X_2"
   ]
  },
  {
   "cell_type": "code",
   "execution_count": 61,
   "metadata": {},
   "outputs": [
    {
     "data": {
      "text/plain": [
       "[1, 1, 1, 1, 1, 0]"
      ]
     },
     "execution_count": 61,
     "metadata": {},
     "output_type": "execute_result"
    }
   ],
   "source": [
    "corpus = [\n",
    "...     'this is the first document',\n",
    "...     'this is the second second document',\n",
    "...     'and the third one',\n",
    "...     'is this the first document',\n",
    "... ]\n",
    "    \n",
    "listOfTokens = ['this', 'is', 'the', 'first', 'first document', 'second document']\n",
    "[1,1,1,1,1,0]"
   ]
  },
  {
   "cell_type": "code",
   "execution_count": 62,
   "metadata": {},
   "outputs": [],
   "source": [
    "# feature_index = bigram_vectorizer.vocabulary_.get('is this')\n",
    "# >>> X_2[:, feature_index] "
   ]
  },
  {
   "cell_type": "code",
   "execution_count": 63,
   "metadata": {},
   "outputs": [],
   "source": [
    "sparseVector.extend(bigramsVocab)"
   ]
  },
  {
   "cell_type": "code",
   "execution_count": 64,
   "metadata": {},
   "outputs": [
    {
     "data": {
      "text/plain": [
       "[('fathers', 'day'),\n",
       " ('thankful', 'positive'),\n",
       " ('positive', 'affirmation'),\n",
       " ('love', 'u')]"
      ]
     },
     "execution_count": 64,
     "metadata": {},
     "output_type": "execute_result"
    }
   ],
   "source": [
    "sparseVector[3431:3435]"
   ]
  },
  {
   "cell_type": "code",
   "execution_count": 65,
   "metadata": {},
   "outputs": [],
   "source": [
    "sparseVectorMod = sparseVector"
   ]
  },
  {
   "cell_type": "code",
   "execution_count": 66,
   "metadata": {},
   "outputs": [],
   "source": [
    "i = 3430\n",
    "while i < len(sparseVectorMod):\n",
    "    element = \" \".join(sparseVectorMod[i])\n",
    "    sparseVectorMod[i] = element\n",
    "    i += 1"
   ]
  },
  {
   "cell_type": "code",
   "execution_count": 67,
   "metadata": {},
   "outputs": [
    {
     "data": {
      "text/plain": [
       "['fathers day', 'thankful positive', 'positive affirmation', 'love u']"
      ]
     },
     "execution_count": 67,
     "metadata": {},
     "output_type": "execute_result"
    }
   ],
   "source": [
    "sparseVectorMod[3431:3435]"
   ]
  },
  {
   "cell_type": "code",
   "execution_count": 68,
   "metadata": {},
   "outputs": [],
   "source": [
    "sparseVectorA = sparseVectorMod[0:3430]"
   ]
  },
  {
   "cell_type": "code",
   "execution_count": 69,
   "metadata": {},
   "outputs": [
    {
     "name": "stdout",
     "output_type": "stream",
     "text": [
      "USER_MENTION\n",
      "instalikeâ\n"
     ]
    }
   ],
   "source": [
    "print(sparseVectorA[0])\n",
    "print(sparseVectorA[3429])"
   ]
  },
  {
   "cell_type": "code",
   "execution_count": 70,
   "metadata": {},
   "outputs": [],
   "source": [
    "sparseVectorB = sparseVectorMod[3430:4260]"
   ]
  },
  {
   "cell_type": "code",
   "execution_count": 71,
   "metadata": {},
   "outputs": [
    {
     "name": "stdout",
     "output_type": "stream",
     "text": [
      "USER_MENTION USER_MENTION\n",
      "love summer\n"
     ]
    }
   ],
   "source": [
    "print(sparseVectorB[0])\n",
    "print(sparseVectorB[829])"
   ]
  },
  {
   "cell_type": "code",
   "execution_count": 72,
   "metadata": {},
   "outputs": [],
   "source": [
    "tweetVectors = []\n",
    "i = 0\n",
    "while i < len(tweetListFiltered):\n",
    "    tweetWords = tweetListFiltered[i].split()\n",
    "    vector = []\n",
    "    for element in sparseVectorA:\n",
    "        j = 0\n",
    "        k = 0\n",
    "        while j < len(tweetWords):\n",
    "            if tweetWords[j] == element:\n",
    "                k += 1\n",
    "            j += 1\n",
    "        vector.append(k)\n",
    "    for element in sparseVectorB:\n",
    "        bigramWords = element.split()\n",
    "        j = 0\n",
    "        k = 0\n",
    "        while j < len(tweetWords)-1:\n",
    "            if tweetWords[j] == bigramWords[0] and tweetWords[j+1] == bigramWords[1]:\n",
    "                k += 1\n",
    "            j += 1\n",
    "        vector.append(k)\n",
    "    tweetVectors.append(vector)\n",
    "    i += 1\n",
    "# tweetVectors = np.array([])\n",
    "# tweetVectors = np.append(tweetVectors, [1, 3, 4])\n",
    "# tweetVectors = np.append(tweetVectors, [1, 3, 4])\n",
    "# tweetVectors = np.append(tweetVectors, 1)\n",
    "# tweetVectors = np.append(tweetVectors, 2)\n",
    "# tweetVectors.append(1)\n",
    "# tweetVectors\n"
   ]
  },
  {
   "cell_type": "code",
   "execution_count": 73,
   "metadata": {},
   "outputs": [],
   "source": [
    "numTweetsWTerm = []\n",
    "for element in sparseVectorA:\n",
    "    m = 0\n",
    "    for tweet in tweetListFiltered:\n",
    "        tweetWords = tweet.split()\n",
    "        if element in tweetWords:\n",
    "            m += 1\n",
    "    numTweetsWTerm.append(m)\n",
    "for element in sparseVectorB:\n",
    "    m = 0\n",
    "    for tweet in tweetListFiltered:\n",
    "        tweetWords = tweet.split()\n",
    "        big = list(ngrams(tweetWords, 2))\n",
    "        bigrams = []\n",
    "        for part in big:\n",
    "            portion = \" \".join(part)\n",
    "            bigrams.append(portion)\n",
    "        if element in bigrams:\n",
    "            m += 1\n",
    "    numTweetsWTerm.append(m)\n"
   ]
  },
  {
   "cell_type": "code",
   "execution_count": 74,
   "metadata": {},
   "outputs": [
    {
     "data": {
      "text/plain": [
       "4260"
      ]
     },
     "execution_count": 74,
     "metadata": {},
     "output_type": "execute_result"
    }
   ],
   "source": [
    "len(numTweetsWTerm)"
   ]
  },
  {
   "cell_type": "code",
   "execution_count": 75,
   "metadata": {},
   "outputs": [
    {
     "data": {
      "text/plain": [
       "[11098, 2515, 2062, 1593, 1428, 1077, 717, 1090, 1016, 994]"
      ]
     },
     "execution_count": 75,
     "metadata": {},
     "output_type": "execute_result"
    }
   ],
   "source": [
    "numTweetsWTerm[0:10]"
   ]
  },
  {
   "cell_type": "code",
   "execution_count": 76,
   "metadata": {},
   "outputs": [
    {
     "data": {
      "text/plain": [
       "[12, 12, 12, 12, 12, 12, 12, 12, 12, 12]"
      ]
     },
     "execution_count": 76,
     "metadata": {},
     "output_type": "execute_result"
    }
   ],
   "source": [
    "numTweetsWTerm[4250:4260]"
   ]
  },
  {
   "cell_type": "code",
   "execution_count": 77,
   "metadata": {},
   "outputs": [],
   "source": [
    "# svB = ['cute kitten', 'to all']\n",
    "# texts = ['hello how are you', 'hello to all whats up', 'hello to all the people out there', 'thats a cute kitten']\n",
    "# numTexts = []\n",
    "# for element in svB:\n",
    "#     m = 0\n",
    "#     for text in texts:\n",
    "#         words = text.split()\n",
    "#         big = list(ngrams(words, 2))\n",
    "#         bigrams = []\n",
    "#         for part in big:\n",
    "#             portion = \" \".join(part)\n",
    "#             bigrams.append(portion)\n",
    "#         if element in bigrams:\n",
    "#             m += 1\n",
    "#     numTexts.append(m)\n",
    "# print(numTexts)"
   ]
  },
  {
   "cell_type": "code",
   "execution_count": 78,
   "metadata": {},
   "outputs": [],
   "source": [
    "# svA = ['hello', 'to', 'kitten']\n",
    "# numTxts = []\n",
    "# for element in svA:\n",
    "#     m = 0\n",
    "#     for text in texts:\n",
    "#         words = text.split()\n",
    "#         if element in words:\n",
    "#             m += 1\n",
    "#     numTxts.append(m)\n",
    "# print(numTxts)"
   ]
  },
  {
   "cell_type": "code",
   "execution_count": 79,
   "metadata": {},
   "outputs": [],
   "source": [
    "\n",
    "# big = list(ngrams(texts[0].split(), 2))\n",
    "# for part in big:\n",
    "#     portion = \" \".join(part)\n",
    "#     part = portion\n",
    "# big"
   ]
  },
  {
   "cell_type": "code",
   "execution_count": 80,
   "metadata": {},
   "outputs": [],
   "source": [
    "tweetVectorsIDF = []\n",
    "for element in tweetVectors:\n",
    "    i = 0\n",
    "    vector = []\n",
    "    for piece in element:\n",
    "        term = math.log10((1+len(tweetListFiltered))/(1+numTweetsWTerm[i]))+1\n",
    "        newTerm = piece * term\n",
    "        vector.append(newTerm)\n",
    "        i += 1\n",
    "    tweetVectorsIDF.append(vector)"
   ]
  },
  {
   "cell_type": "code",
   "execution_count": 81,
   "metadata": {},
   "outputs": [],
   "source": [
    "# vectorsAA = [[1,2,3],[1,5,9],[1,1,8]]\n",
    "# numTextsAppears = [50,21,3]\n",
    "# vectorsIDF = []\n",
    "# for element in vectorsAA:\n",
    "#     i = 0\n",
    "#     vector = []\n",
    "#     for piece in element:\n",
    "#         term = math.log10((1+800)/(1+numTextsAppears[i]))+1\n",
    "#         newTerm = piece * term\n",
    "#         vector.append(newTerm)\n",
    "#         i += 1\n",
    "#     vectorsIDF.append(vector)\n",
    "# print(vectorsIDF)"
   ]
  },
  {
   "cell_type": "code",
   "execution_count": 82,
   "metadata": {},
   "outputs": [],
   "source": [
    "# tweetVectorsIDF[5][0:20]"
   ]
  },
  {
   "cell_type": "code",
   "execution_count": 83,
   "metadata": {},
   "outputs": [],
   "source": [
    "# tweetVectors[5]"
   ]
  },
  {
   "cell_type": "code",
   "execution_count": 84,
   "metadata": {},
   "outputs": [],
   "source": [
    "# len(tweetVectorsIDF)"
   ]
  },
  {
   "cell_type": "code",
   "execution_count": 85,
   "metadata": {},
   "outputs": [],
   "source": [
    "idfVectors = np.array(tweetVectorsIDF)"
   ]
  },
  {
   "cell_type": "code",
   "execution_count": 86,
   "metadata": {},
   "outputs": [],
   "source": [
    "# idfVectors[5][0:20]"
   ]
  },
  {
   "cell_type": "code",
   "execution_count": 87,
   "metadata": {},
   "outputs": [],
   "source": [
    "tweetVectors1 = []\n",
    "for tweet in tweetListFiltered:\n",
    "    tweetWords = tweet.split()\n",
    "    bigr = list(ngrams(tweetWords, 2))\n",
    "    bigrams = []\n",
    "    for part in bigr:\n",
    "        portion = \" \".join(part)\n",
    "        bigrams.append(portion)\n",
    "    vector = []\n",
    "    for element in sparseVectorA:\n",
    "        if element in tweetWords:\n",
    "            k = 1\n",
    "        else:\n",
    "            k = 0\n",
    "        vector.append(k)\n",
    "    for element in sparseVectorB:\n",
    "        if element in bigrams:\n",
    "            k = 1\n",
    "        else:\n",
    "            k = 0\n",
    "        vector.append(k)\n",
    "    tweetVectors1.append(vector)\n"
   ]
  },
  {
   "cell_type": "code",
   "execution_count": 88,
   "metadata": {},
   "outputs": [
    {
     "data": {
      "text/plain": [
       "31962"
      ]
     },
     "execution_count": 88,
     "metadata": {},
     "output_type": "execute_result"
    }
   ],
   "source": [
    "len(tweetVectors1)"
   ]
  },
  {
   "cell_type": "code",
   "execution_count": 89,
   "metadata": {},
   "outputs": [
    {
     "data": {
      "text/plain": [
       "[0, 0, 0]"
      ]
     },
     "execution_count": 89,
     "metadata": {},
     "output_type": "execute_result"
    }
   ],
   "source": [
    "tweetVectors1[500][5:8]"
   ]
  },
  {
   "cell_type": "code",
   "execution_count": 90,
   "metadata": {},
   "outputs": [
    {
     "data": {
      "text/plain": [
       "'today'"
      ]
     },
     "execution_count": 90,
     "metadata": {},
     "output_type": "execute_result"
    }
   ],
   "source": [
    "sparseVectorA[10]"
   ]
  },
  {
   "cell_type": "code",
   "execution_count": 91,
   "metadata": {},
   "outputs": [
    {
     "data": {
      "text/plain": [
       "572"
      ]
     },
     "execution_count": 91,
     "metadata": {},
     "output_type": "execute_result"
    }
   ],
   "source": [
    "sparseVectorA.index('talking')"
   ]
  },
  {
   "cell_type": "code",
   "execution_count": 92,
   "metadata": {},
   "outputs": [],
   "source": [
    "tweetVectorsA = np.array(tweetVectors1)"
   ]
  },
  {
   "cell_type": "code",
   "execution_count": 93,
   "metadata": {},
   "outputs": [],
   "source": [
    "# svA = ['hello', 'how', 'all', 'people']\n",
    "# svB = ['cute kitten', 'to all']\n",
    "# texts = ['hello how are you', 'hello to all whats up', 'hello to all the people out there', 'thats a cute kitten']\n",
    "# vectors = []\n",
    "# for tweet in texts:\n",
    "#     tweetWords = tweet.split()\n",
    "#     bigr = list(ngrams(tweetWords, 2))\n",
    "#     bigrams = []\n",
    "#     for part in bigr:\n",
    "#         portion = \" \".join(part)\n",
    "#         bigrams.append(portion)\n",
    "#     vector = []\n",
    "#     for element in svA:\n",
    "#         if element in tweetWords:\n",
    "#             k = 1\n",
    "#         else:\n",
    "#             k = 0\n",
    "#         vector.append(k)\n",
    "#     for element in svB:\n",
    "#         if element in bigrams:\n",
    "#             k = 1\n",
    "#         else:\n",
    "#             k = 0\n",
    "#         vector.append(k)\n",
    "#     vectors.append(vector)\n",
    "# print(vectors)"
   ]
  },
  {
   "cell_type": "markdown",
   "metadata": {},
   "source": [
    "# Classification Techniques"
   ]
  },
  {
   "cell_type": "markdown",
   "metadata": {},
   "source": [
    "# Vaibhav"
   ]
  },
  {
   "cell_type": "code",
   "execution_count": 94,
   "metadata": {},
   "outputs": [],
   "source": [
    "# Decison Tree Classifier"
   ]
  },
  {
   "cell_type": "code",
   "execution_count": 95,
   "metadata": {},
   "outputs": [],
   "source": [
    "# tweetVectorA: sparse vector rep. in terms of presence\n",
    "# trainTweetsP: dataframe containing all training tweet and their sentiment"
   ]
  },
  {
   "cell_type": "code",
   "execution_count": 96,
   "metadata": {},
   "outputs": [],
   "source": [
    "#Libraries\n",
    "import sklearn\n",
    "from sklearn.model_selection import train_test_split\n",
    "from sklearn.tree import DecisionTreeClassifier\n",
    "from sklearn.metrics import accuracy_score\n",
    "from sklearn import tree"
   ]
  },
  {
   "cell_type": "code",
   "execution_count": 97,
   "metadata": {},
   "outputs": [],
   "source": [
    "# tweetVectorsA?"
   ]
  },
  {
   "cell_type": "code",
   "execution_count": 98,
   "metadata": {},
   "outputs": [],
   "source": [
    "# trainTweetsP?"
   ]
  },
  {
   "cell_type": "code",
   "execution_count": 99,
   "metadata": {},
   "outputs": [],
   "source": [
    "#70:30 Train:Test"
   ]
  },
  {
   "cell_type": "code",
   "execution_count": 100,
   "metadata": {},
   "outputs": [],
   "source": [
    "# len(tweetVectorsA) = 31962"
   ]
  },
  {
   "cell_type": "code",
   "execution_count": 101,
   "metadata": {},
   "outputs": [],
   "source": [
    "x = tweetVectorsA[0:22373] #Independent variable\n",
    "y = trainTweetsP[1][0:22373].to_numpy() #Dependent variable"
   ]
  },
  {
   "cell_type": "code",
   "execution_count": 102,
   "metadata": {},
   "outputs": [],
   "source": [
    "X_train, X_test, Y_train, Y_test = train_test_split( x, \n",
    "                                                     y, \n",
    "                                                    test_size = 0.3, \n",
    "                                                    random_state = 100)"
   ]
  },
  {
   "cell_type": "code",
   "execution_count": 103,
   "metadata": {},
   "outputs": [],
   "source": [
    "#Descision Tree Classifier "
   ]
  },
  {
   "cell_type": "code",
   "execution_count": 104,
   "metadata": {},
   "outputs": [],
   "source": [
    "dtc_gini = DecisionTreeClassifier(criterion='gini',random_state=100, max_depth=5)"
   ]
  },
  {
   "cell_type": "code",
   "execution_count": 105,
   "metadata": {},
   "outputs": [
    {
     "data": {
      "text/plain": [
       "DecisionTreeClassifier(class_weight=None, criterion='gini', max_depth=5,\n",
       "                       max_features=None, max_leaf_nodes=None,\n",
       "                       min_impurity_decrease=0.0, min_impurity_split=None,\n",
       "                       min_samples_leaf=1, min_samples_split=2,\n",
       "                       min_weight_fraction_leaf=0.0, presort=False,\n",
       "                       random_state=100, splitter='best')"
      ]
     },
     "execution_count": 105,
     "metadata": {},
     "output_type": "execute_result"
    }
   ],
   "source": [
    "dtc_gini.fit(X_train,Y_train)"
   ]
  },
  {
   "cell_type": "code",
   "execution_count": 106,
   "metadata": {},
   "outputs": [],
   "source": [
    "Y_pred = dtc_gini.predict(X_test)"
   ]
  },
  {
   "cell_type": "code",
   "execution_count": 107,
   "metadata": {},
   "outputs": [
    {
     "data": {
      "text/plain": [
       "array([0, 0, 0, ..., 0, 0, 0])"
      ]
     },
     "execution_count": 107,
     "metadata": {},
     "output_type": "execute_result"
    }
   ],
   "source": [
    "Y_pred"
   ]
  },
  {
   "cell_type": "code",
   "execution_count": 109,
   "metadata": {},
   "outputs": [
    {
     "name": "stdout",
     "output_type": "stream",
     "text": [
      "Accuracy of Decision Tree (gini index) on test data:  93.77234803337306\n"
     ]
    }
   ],
   "source": [
    "print(\"Accuracy of Decision Tree (gini index) on test data: \", accuracy_score(Y_test, Y_pred)*100)"
   ]
  },
  {
   "cell_type": "code",
   "execution_count": 110,
   "metadata": {},
   "outputs": [],
   "source": [
    "#Conclusion: DTC accuracy is largely unaffected by different ratios for test and train data"
   ]
  },
  {
   "cell_type": "code",
   "execution_count": 111,
   "metadata": {},
   "outputs": [],
   "source": [
    "#Goal: Random Forest + xgBoost"
   ]
  },
  {
   "cell_type": "code",
   "execution_count": 112,
   "metadata": {},
   "outputs": [],
   "source": [
    "#Random Forest Classifier"
   ]
  },
  {
   "cell_type": "code",
   "execution_count": 113,
   "metadata": {},
   "outputs": [
    {
     "data": {
      "text/plain": [
       "RandomForestClassifier(bootstrap=True, class_weight=None, criterion='gini',\n",
       "                       max_depth=None, max_features='auto', max_leaf_nodes=None,\n",
       "                       min_impurity_decrease=0.0, min_impurity_split=None,\n",
       "                       min_samples_leaf=1, min_samples_split=2,\n",
       "                       min_weight_fraction_leaf=0.0, n_estimators=30,\n",
       "                       n_jobs=None, oob_score=False, random_state=None,\n",
       "                       verbose=0, warm_start=False)"
      ]
     },
     "execution_count": 113,
     "metadata": {},
     "output_type": "execute_result"
    }
   ],
   "source": [
    "from sklearn.ensemble import RandomForestClassifier\n",
    "model = RandomForestClassifier(n_estimators=30) #Using 30 random trees has given the best accuracy overall\n",
    "model.fit(X_train, Y_train)"
   ]
  },
  {
   "cell_type": "code",
   "execution_count": 114,
   "metadata": {},
   "outputs": [
    {
     "data": {
      "text/plain": [
       "0.950834326579261"
      ]
     },
     "execution_count": 114,
     "metadata": {},
     "output_type": "execute_result"
    }
   ],
   "source": [
    "model.score(X_test,Y_test) #score of how accurately model has been trained"
   ]
  },
  {
   "cell_type": "code",
   "execution_count": 115,
   "metadata": {},
   "outputs": [],
   "source": [
    "Y_predict = model.predict(X_test)"
   ]
  },
  {
   "cell_type": "code",
   "execution_count": 116,
   "metadata": {},
   "outputs": [],
   "source": [
    "from sklearn.metrics import confusion_matrix\n",
    "cm = confusion_matrix(Y_test,Y_predict)"
   ]
  },
  {
   "cell_type": "code",
   "execution_count": 117,
   "metadata": {},
   "outputs": [],
   "source": [
    "import seaborn\n",
    "import matplotlib.pyplot as plt"
   ]
  },
  {
   "cell_type": "code",
   "execution_count": 118,
   "metadata": {},
   "outputs": [
    {
     "data": {
      "text/plain": [
       "Text(33.0, 0.5, 'Truth')"
      ]
     },
     "execution_count": 118,
     "metadata": {},
     "output_type": "execute_result"
    },
    {
     "data": {
      "image/png": "[encoded data removed]",
      "text/plain": [
       "<Figure size 432x288 with 2 Axes>"
      ]
     },
     "metadata": {
      "needs_background": "light"
     },
     "output_type": "display_data"
    }
   ],
   "source": [
    "seaborn.heatmap(cm, annot=True)\n",
    "plt.xlabel('Predicted')\n",
    "plt.ylabel('Truth')"
   ]
  },
  {
   "cell_type": "code",
   "execution_count": 119,
   "metadata": {},
   "outputs": [
    {
     "name": "stdout",
     "output_type": "stream",
     "text": [
      "Accuracy of Random Forest on Test data:  93.77234803337306\n"
     ]
    }
   ],
   "source": [
    "print(\"Accuracy of Random Forest on Test data: \", accuracy_score(Y_test, Y_pred)*100)"
   ]
  },
  {
   "cell_type": "code",
   "execution_count": 120,
   "metadata": {},
   "outputs": [],
   "source": [
    "#XGBoost Classifier"
   ]
  },
  {
   "cell_type": "code",
   "execution_count": 121,
   "metadata": {},
   "outputs": [],
   "source": [
    "from xgboost import XGBClassifier"
   ]
  },
  {
   "cell_type": "code",
   "execution_count": 122,
   "metadata": {},
   "outputs": [
    {
     "data": {
      "text/plain": [
       "XGBClassifier(base_score=0.5, booster='gbtree', colsample_bylevel=1,\n",
       "              colsample_bynode=1, colsample_bytree=1, gamma=0,\n",
       "              learning_rate=0.1, max_delta_step=0, max_depth=3,\n",
       "              min_child_weight=1, missing=None, n_estimators=100, n_jobs=1,\n",
       "              nthread=None, objective='binary:logistic', random_state=0,\n",
       "              reg_alpha=0, reg_lambda=1, scale_pos_weight=1, seed=None,\n",
       "              silent=None, subsample=1, verbosity=1)"
      ]
     },
     "execution_count": 122,
     "metadata": {},
     "output_type": "execute_result"
    }
   ],
   "source": [
    "model = XGBClassifier()\n",
    "model.fit(X_train, Y_train)"
   ]
  },
  {
   "cell_type": "code",
   "execution_count": 123,
   "metadata": {},
   "outputs": [],
   "source": [
    "Y_pred = model.predict(X_test)"
   ]
  },
  {
   "cell_type": "code",
   "execution_count": 124,
   "metadata": {},
   "outputs": [
    {
     "name": "stdout",
     "output_type": "stream",
     "text": [
      "Accuracy of xgBoost on Test data: 0.9405542312276519\n"
     ]
    }
   ],
   "source": [
    "print(\"Accuracy of xgBoost on Test data:\" ,accuracy_score(Y_test, Y_pred))"
   ]
  },
  {
   "cell_type": "code",
   "execution_count": 125,
   "metadata": {},
   "outputs": [],
   "source": [
    "#Multi-Layer Perceptron"
   ]
  },
  {
   "cell_type": "code",
   "execution_count": 126,
   "metadata": {},
   "outputs": [
    {
     "name": "stdout",
     "output_type": "stream",
     "text": [
      "2.0.0-alpha0\n"
     ]
    }
   ],
   "source": [
    "from __future__ import absolute_import, division, print_function, unicode_literals\n",
    "\n",
    "import tensorflow as tf\n",
    "from tensorflow import keras\n",
    "\n",
    "import numpy as np\n",
    "\n",
    "print(tf.__version__)"
   ]
  },
  {
   "cell_type": "code",
   "execution_count": 138,
   "metadata": {},
   "outputs": [
    {
     "name": "stdout",
     "output_type": "stream",
     "text": [
      "Model: \"sequential_1\"\n",
      "_________________________________________________________________\n",
      "Layer (type)                 Output Shape              Param #   \n",
      "=================================================================\n",
      "embedding_1 (Embedding)      (None, None, 100)         4143500   \n",
      "_________________________________________________________________\n",
      "global_average_pooling1d_1 ( (None, 100)               0         \n",
      "_________________________________________________________________\n",
      "dense_2 (Dense)              (None, 16)                1616      \n",
      "_________________________________________________________________\n",
      "dense_3 (Dense)              (None, 1)                 17        \n",
      "=================================================================\n",
      "Total params: 4,145,133\n",
      "Trainable params: 4,145,133\n",
      "Non-trainable params: 0\n",
      "_________________________________________________________________\n"
     ]
    }
   ],
   "source": [
    "# input shape is the vocabulary count used for the movie reviews (10,000 words)\n",
    "vocab_size = 41435\n",
    "\n",
    "model = keras.Sequential()\n",
    "model.add(keras.layers.Embedding(vocab_size, 100))\n",
    "model.add(keras.layers.GlobalAveragePooling1D())\n",
    "model.add(keras.layers.Dense(16, activation=tf.nn.relu))\n",
    "model.add(keras.layers.Dense(1, activation=tf.nn.sigmoid))\n",
    "\n",
    "model.summary()"
   ]
  },
  {
   "cell_type": "code",
   "execution_count": 139,
   "metadata": {},
   "outputs": [],
   "source": [
    "model.compile(optimizer='adam',\n",
    "              loss='binary_crossentropy',\n",
    "              metrics=['acc'])"
   ]
  },
  {
   "cell_type": "code",
   "execution_count": 140,
   "metadata": {},
   "outputs": [
    {
     "name": "stdout",
     "output_type": "stream",
     "text": [
      "Train on 15661 samples, validate on 6712 samples\n",
      "Epoch 1/40\n",
      "15661/15661 [==============================] - 25s 2ms/sample - loss: 0.6470 - acc: 0.9023 - val_loss: 0.5913 - val_acc: 0.9274\n",
      "Epoch 2/40\n",
      "15661/15661 [==============================] - 23s 1ms/sample - loss: 0.5191 - acc: 0.9314 - val_loss: 0.4307 - val_acc: 0.9274\n",
      "Epoch 3/40\n",
      "15661/15661 [==============================] - 22s 1ms/sample - loss: 0.3453 - acc: 0.9314 - val_loss: 0.2844 - val_acc: 0.9274\n",
      "Epoch 4/40\n",
      "15661/15661 [==============================] - 23s 1ms/sample - loss: 0.2579 - acc: 0.9314 - val_loss: 0.2602 - val_acc: 0.9274\n",
      "Epoch 5/40\n",
      "15661/15661 [==============================] - 22s 1ms/sample - loss: 0.2501 - acc: 0.9314 - val_loss: 0.2605 - val_acc: 0.9274\n",
      "Epoch 6/40\n",
      "15661/15661 [==============================] - 22s 1ms/sample - loss: 0.2500 - acc: 0.9314 - val_loss: 0.2603 - val_acc: 0.9274\n",
      "Epoch 7/40\n",
      "15661/15661 [==============================] - 25s 2ms/sample - loss: 0.2500 - acc: 0.9314 - val_loss: 0.2603 - val_acc: 0.9274\n",
      "Epoch 8/40\n",
      "15661/15661 [==============================] - 23s 1ms/sample - loss: 0.2500 - acc: 0.9314 - val_loss: 0.2603 - val_acc: 0.9274\n",
      "Epoch 9/40\n",
      "15661/15661 [==============================] - 25s 2ms/sample - loss: 0.2500 - acc: 0.9314 - val_loss: 0.2603 - val_acc: 0.9274\n",
      "Epoch 10/40\n",
      "15661/15661 [==============================] - 21s 1ms/sample - loss: 0.2500 - acc: 0.9314 - val_loss: 0.2603 - val_acc: 0.9274\n",
      "Epoch 11/40\n",
      "15661/15661 [==============================] - 25s 2ms/sample - loss: 0.2500 - acc: 0.9314 - val_loss: 0.2603 - val_acc: 0.9274\n",
      "Epoch 12/40\n",
      "15661/15661 [==============================] - 24s 2ms/sample - loss: 0.2500 - acc: 0.9314 - val_loss: 0.2603 - val_acc: 0.9274\n",
      "Epoch 13/40\n",
      "15661/15661 [==============================] - 26s 2ms/sample - loss: 0.2500 - acc: 0.9314 - val_loss: 0.2604 - val_acc: 0.9274\n",
      "Epoch 14/40\n",
      "15661/15661 [==============================] - 23s 1ms/sample - loss: 0.2500 - acc: 0.9314 - val_loss: 0.2603 - val_acc: 0.9274\n",
      "Epoch 15/40\n",
      "15661/15661 [==============================] - 25s 2ms/sample - loss: 0.2500 - acc: 0.9314 - val_loss: 0.2603 - val_acc: 0.9274\n",
      "Epoch 16/40\n",
      "15661/15661 [==============================] - 24s 2ms/sample - loss: 0.2500 - acc: 0.9314 - val_loss: 0.2603 - val_acc: 0.9274\n",
      "Epoch 17/40\n",
      "15661/15661 [==============================] - 24s 2ms/sample - loss: 0.2500 - acc: 0.9314 - val_loss: 0.2603 - val_acc: 0.9274\n",
      "Epoch 18/40\n",
      "15661/15661 [==============================] - 23s 1ms/sample - loss: 0.2500 - acc: 0.9314 - val_loss: 0.2603 - val_acc: 0.9274\n",
      "Epoch 19/40\n",
      "15661/15661 [==============================] - 25s 2ms/sample - loss: 0.2500 - acc: 0.9314 - val_loss: 0.2603 - val_acc: 0.9274\n",
      "Epoch 20/40\n",
      "15661/15661 [==============================] - 24s 2ms/sample - loss: 0.2500 - acc: 0.9314 - val_loss: 0.2603 - val_acc: 0.9274\n",
      "Epoch 21/40\n",
      "15661/15661 [==============================] - 25s 2ms/sample - loss: 0.2500 - acc: 0.9314 - val_loss: 0.2603 - val_acc: 0.9274\n",
      "Epoch 22/40\n",
      "15661/15661 [==============================] - 24s 2ms/sample - loss: 0.2500 - acc: 0.9314 - val_loss: 0.2603 - val_acc: 0.9274\n",
      "Epoch 23/40\n",
      "15661/15661 [==============================] - 21s 1ms/sample - loss: 0.2500 - acc: 0.9314 - val_loss: 0.2603 - val_acc: 0.9274\n",
      "Epoch 24/40\n",
      "15661/15661 [==============================] - 22s 1ms/sample - loss: 0.2500 - acc: 0.9314 - val_loss: 0.2603 - val_acc: 0.9274\n",
      "Epoch 25/40\n",
      "15661/15661 [==============================] - 23s 1ms/sample - loss: 0.2500 - acc: 0.9314 - val_loss: 0.2603 - val_acc: 0.9274\n",
      "Epoch 26/40\n",
      "15661/15661 [==============================] - 26s 2ms/sample - loss: 0.2500 - acc: 0.9314 - val_loss: 0.2604 - val_acc: 0.9274\n",
      "Epoch 27/40\n",
      "15661/15661 [==============================] - 28s 2ms/sample - loss: 0.2500 - acc: 0.9314 - val_loss: 0.2603 - val_acc: 0.9274\n",
      "Epoch 28/40\n",
      "15661/15661 [==============================] - 27s 2ms/sample - loss: 0.2500 - acc: 0.9314 - val_loss: 0.2604 - val_acc: 0.9274\n",
      "Epoch 29/40\n",
      "15661/15661 [==============================] - 24s 2ms/sample - loss: 0.2500 - acc: 0.9314 - val_loss: 0.2603 - val_acc: 0.9274\n",
      "Epoch 30/40\n",
      "15661/15661 [==============================] - 25s 2ms/sample - loss: 0.2500 - acc: 0.9314 - val_loss: 0.2604 - val_acc: 0.9274\n",
      "Epoch 31/40\n",
      "15661/15661 [==============================] - 27s 2ms/sample - loss: 0.2500 - acc: 0.9314 - val_loss: 0.2603 - val_acc: 0.9274\n",
      "Epoch 32/40\n",
      "15661/15661 [==============================] - 26s 2ms/sample - loss: 0.2500 - acc: 0.9314 - val_loss: 0.2604 - val_acc: 0.9274\n",
      "Epoch 33/40\n",
      "15661/15661 [==============================] - 25s 2ms/sample - loss: 0.2500 - acc: 0.9314 - val_loss: 0.2602 - val_acc: 0.9274\n",
      "Epoch 34/40\n",
      "15661/15661 [==============================] - 29s 2ms/sample - loss: 0.2500 - acc: 0.9314 - val_loss: 0.2604 - val_acc: 0.9274\n",
      "Epoch 35/40\n",
      "15661/15661 [==============================] - 27s 2ms/sample - loss: 0.2500 - acc: 0.9314 - val_loss: 0.2602 - val_acc: 0.9274\n",
      "Epoch 36/40\n",
      "15661/15661 [==============================] - 27s 2ms/sample - loss: 0.2500 - acc: 0.9314 - val_loss: 0.2604 - val_acc: 0.9274\n",
      "Epoch 37/40\n",
      "15661/15661 [==============================] - 26s 2ms/sample - loss: 0.2500 - acc: 0.9314 - val_loss: 0.2602 - val_acc: 0.9274\n",
      "Epoch 38/40\n",
      "15661/15661 [==============================] - 26s 2ms/sample - loss: 0.2502 - acc: 0.9314 - val_loss: 0.2606 - val_acc: 0.9274\n",
      "Epoch 39/40\n",
      "15661/15661 [==============================] - 27s 2ms/sample - loss: 0.2501 - acc: 0.9314 - val_loss: 0.2604 - val_acc: 0.9274\n",
      "Epoch 40/40\n",
      "15661/15661 [==============================] - 26s 2ms/sample - loss: 0.2500 - acc: 0.9314 - val_loss: 0.2602 - val_acc: 0.9274\n"
     ]
    }
   ],
   "source": [
    "history = model.fit(X_train,\n",
    "                    Y_train,\n",
    "                    epochs=40,\n",
    "                    batch_size=512,\n",
    "                    validation_data=(X_test, Y_test),\n",
    "                    verbose=1)    "
   ]
  },
  {
   "cell_type": "code",
   "execution_count": 141,
   "metadata": {},
   "outputs": [
    {
     "name": "stdout",
     "output_type": "stream",
     "text": [
      "6712/6712 [==============================] - 4s 547us/sample - loss: 0.2602 - acc: 0.9274\n",
      "[0.2602483466871447, 0.9274434]\n"
     ]
    }
   ],
   "source": [
    "results = model.evaluate(X_test, Y_test)\n",
    "\n",
    "print(results)"
   ]
  },
  {
   "cell_type": "code",
   "execution_count": 142,
   "metadata": {},
   "outputs": [],
   "source": [
    "#Model has achieved an accuracy of 92.74%"
   ]
  },
  {
   "cell_type": "code",
   "execution_count": 143,
   "metadata": {},
   "outputs": [],
   "source": [
    "#Viewing graphs of training accuracy and loss: Remove these graphs later"
   ]
  },
  {
   "cell_type": "code",
   "execution_count": 144,
   "metadata": {},
   "outputs": [
    {
     "data": {
      "text/plain": [
       "dict_keys(['loss', 'acc', 'val_loss', 'val_acc'])"
      ]
     },
     "execution_count": 144,
     "metadata": {},
     "output_type": "execute_result"
    }
   ],
   "source": [
    "history_dict = history.history\n",
    "history_dict.keys()"
   ]
  },
  {
   "cell_type": "code",
   "execution_count": 145,
   "metadata": {},
   "outputs": [
    {
     "data": {
      "image/png": "[encoded data removed]",
      "text/plain": [
       "<Figure size 432x288 with 1 Axes>"
      ]
     },
     "metadata": {
      "needs_background": "light"
     },
     "output_type": "display_data"
    }
   ],
   "source": [
    "import matplotlib.pyplot as plt\n",
    "\n",
    "acc = history_dict['acc']\n",
    "val_acc = history_dict['val_acc']\n",
    "loss = history_dict['loss']\n",
    "val_loss = history_dict['val_loss']\n",
    "\n",
    "epochs = range(1, len(acc) + 1)\n",
    "\n",
    "# \"bo\" is for \"blue dot\"\n",
    "plt.plot(epochs, loss, 'bo', label='Training loss')\n",
    "# b is for \"solid blue line\"\n",
    "plt.plot(epochs, val_loss, 'b', label='Validation loss')\n",
    "plt.title('Training & validation loss')\n",
    "plt.xlabel('Epochs')\n",
    "plt.ylabel('Loss')\n",
    "plt.legend()\n",
    "\n",
    "plt.show()"
   ]
  },
  {
   "cell_type": "code",
   "execution_count": 146,
   "metadata": {},
   "outputs": [
    {
     "data": {
      "image/png": "[encoded data removed]",
      "text/plain": [
       "<Figure size 432x288 with 1 Axes>"
      ]
     },
     "metadata": {
      "needs_background": "light"
     },
     "output_type": "display_data"
    }
   ],
   "source": [
    "plt.clf()   # clear figure\n",
    "\n",
    "plt.plot(epochs, acc, 'bo', label='Training acc')\n",
    "plt.plot(epochs, val_acc, 'b', label='Validation acc')\n",
    "plt.title('Training & validation accuracy')\n",
    "plt.xlabel('Epochs')\n",
    "plt.ylabel('Accuracy')\n",
    "plt.legend()\n",
    "\n",
    "plt.show()"
   ]
  },
  {
   "cell_type": "code",
   "execution_count": null,
   "metadata": {},
   "outputs": [],
   "source": [
    "#Need to be resolved:  Why training accuracy is a straight line?"
   ]
  },
  {
   "cell_type": "code",
   "execution_count": null,
   "metadata": {},
   "outputs": [],
   "source": []
  },
  {
   "cell_type": "markdown",
   "metadata": {},
   "source": [
    "# Mihir"
   ]
  },
  {
   "cell_type": "code",
   "execution_count": null,
   "metadata": {},
   "outputs": [],
   "source": []
  },
  {
   "cell_type": "code",
   "execution_count": null,
   "metadata": {},
   "outputs": [],
   "source": []
  },
  {
   "cell_type": "code",
   "execution_count": null,
   "metadata": {},
   "outputs": [],
   "source": []
  },
  {
   "cell_type": "code",
   "execution_count": null,
   "metadata": {},
   "outputs": [],
   "source": []
  },
  {
   "cell_type": "code",
   "execution_count": null,
   "metadata": {},
   "outputs": [],
   "source": []
  },
  {
   "cell_type": "code",
   "execution_count": null,
   "metadata": {},
   "outputs": [],
   "source": []
  },
  {
   "cell_type": "code",
   "execution_count": null,
   "metadata": {},
   "outputs": [],
   "source": []
  },
  {
   "cell_type": "code",
   "execution_count": null,
   "metadata": {},
   "outputs": [],
   "source": []
  },
  {
   "cell_type": "code",
   "execution_count": null,
   "metadata": {},
   "outputs": [],
   "source": []
  },
  {
   "cell_type": "code",
   "execution_count": null,
   "metadata": {},
   "outputs": [],
   "source": []
  },
  {
   "cell_type": "code",
   "execution_count": null,
   "metadata": {},
   "outputs": [],
   "source": []
  }
 ],
 "metadata": {
  "kernelspec": {
   "display_name": "Python 3",
   "language": "python",
   "name": "python3"
  },
  "language_info": {
   "codemirror_mode": {
    "name": "ipython",
    "version": 3
   },
   "file_extension": ".py",
   "mimetype": "text/x-python",
   "name": "python",
   "nbconvert_exporter": "python",
   "pygments_lexer": "ipython3",
   "version": "3.7.3"
  }
 },
 "nbformat": 4,
 "nbformat_minor": 2
}
