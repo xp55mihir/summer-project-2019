{
 "cells": [
  {
   "cell_type": "code",
   "execution_count": 1,
   "metadata": {},
   "outputs": [],
   "source": [
    "# Importing libraries for getting tweet data, feature extraction, and further processing of tweets."
   ]
  },
  {
   "cell_type": "code",
   "execution_count": 2,
   "metadata": {},
   "outputs": [
    {
     "name": "stderr",
     "output_type": "stream",
     "text": [
      "[nltk_data] Downloading package punkt to\n",
      "[nltk_data]     C:\\Users\\Mihir\\AppData\\Roaming\\nltk_data...\n",
      "[nltk_data]   Package punkt is already up-to-date!\n",
      "[nltk_data] Downloading package stopwords to\n",
      "[nltk_data]     C:\\Users\\Mihir\\AppData\\Roaming\\nltk_data...\n",
      "[nltk_data]   Package stopwords is already up-to-date!\n"
     ]
    }
   ],
   "source": [
    "import pandas as pd\n",
    "import matplotlib.pyplot as plt\n",
    "import nltk\n",
    "nltk.download('punkt')\n",
    "nltk.download('stopwords')\n",
    "from nltk.util import ngrams\n",
    "from nltk.tokenize import sent_tokenize, word_tokenize\n",
    "from nltk.corpus import stopwords\n",
    "import numpy as np\n",
    "import math "
   ]
  },
  {
   "cell_type": "code",
   "execution_count": 3,
   "metadata": {},
   "outputs": [],
   "source": [
    "#Importing dataset\n",
    "trainDf = pd.read_csv('train_processed.csv', sep = ',')\n",
    "testDf = pd.read_csv('test_processed.csv', sep = ',')"
   ]
  },
  {
   "cell_type": "code",
   "execution_count": 4,
   "metadata": {},
   "outputs": [
    {
     "data": {
      "text/html": [
       "<div>\n",
       "<style scoped>\n",
       "    .dataframe tbody tr th:only-of-type {\n",
       "        vertical-align: middle;\n",
       "    }\n",
       "\n",
       "    .dataframe tbody tr th {\n",
       "        vertical-align: top;\n",
       "    }\n",
       "\n",
       "    .dataframe thead th {\n",
       "        text-align: right;\n",
       "    }\n",
       "</style>\n",
       "<table border=\"1\" class=\"dataframe\">\n",
       "  <thead>\n",
       "    <tr style=\"text-align: right;\">\n",
       "      <th></th>\n",
       "      <th>Unnamed: 0</th>\n",
       "      <th>0</th>\n",
       "      <th>1</th>\n",
       "      <th>0.1</th>\n",
       "    </tr>\n",
       "  </thead>\n",
       "  <tbody>\n",
       "    <tr>\n",
       "      <th>0</th>\n",
       "      <td>0</td>\n",
       "      <td>1</td>\n",
       "      <td>0</td>\n",
       "      <td>USER_MENTION when a father is dysfunctional an...</td>\n",
       "    </tr>\n",
       "    <tr>\n",
       "      <th>1</th>\n",
       "      <td>1</td>\n",
       "      <td>2</td>\n",
       "      <td>0</td>\n",
       "      <td>USER_MENTION USER_MENTION thanks for lyft cred...</td>\n",
       "    </tr>\n",
       "    <tr>\n",
       "      <th>2</th>\n",
       "      <td>2</td>\n",
       "      <td>3</td>\n",
       "      <td>0</td>\n",
       "      <td>bihday your majesty</td>\n",
       "    </tr>\n",
       "    <tr>\n",
       "      <th>3</th>\n",
       "      <td>3</td>\n",
       "      <td>4</td>\n",
       "      <td>0</td>\n",
       "      <td>model i love u take with u all the time in urð</td>\n",
       "    </tr>\n",
       "    <tr>\n",
       "      <th>4</th>\n",
       "      <td>4</td>\n",
       "      <td>5</td>\n",
       "      <td>0</td>\n",
       "      <td>factsguide society now motivation</td>\n",
       "    </tr>\n",
       "  </tbody>\n",
       "</table>\n",
       "</div>"
      ],
      "text/plain": [
       "   Unnamed: 0  0  1                                                0.1\n",
       "0           0  1  0  USER_MENTION when a father is dysfunctional an...\n",
       "1           1  2  0  USER_MENTION USER_MENTION thanks for lyft cred...\n",
       "2           2  3  0                                bihday your majesty\n",
       "3           3  4  0     model i love u take with u all the time in urð\n",
       "4           4  5  0                  factsguide society now motivation"
      ]
     },
     "execution_count": 4,
     "metadata": {},
     "output_type": "execute_result"
    }
   ],
   "source": [
    "trainDf.head()"
   ]
  },
  {
   "cell_type": "code",
   "execution_count": 6,
   "metadata": {},
   "outputs": [
    {
     "data": {
      "text/html": [
       "<div>\n",
       "<style scoped>\n",
       "    .dataframe tbody tr th:only-of-type {\n",
       "        vertical-align: middle;\n",
       "    }\n",
       "\n",
       "    .dataframe tbody tr th {\n",
       "        vertical-align: top;\n",
       "    }\n",
       "\n",
       "    .dataframe thead th {\n",
       "        text-align: right;\n",
       "    }\n",
       "</style>\n",
       "<table border=\"1\" class=\"dataframe\">\n",
       "  <thead>\n",
       "    <tr style=\"text-align: right;\">\n",
       "      <th></th>\n",
       "      <th>Unnamed: 0</th>\n",
       "      <th>0</th>\n",
       "      <th>1</th>\n",
       "      <th>0.1</th>\n",
       "    </tr>\n",
       "  </thead>\n",
       "  <tbody>\n",
       "    <tr>\n",
       "      <th>0</th>\n",
       "      <td>0</td>\n",
       "      <td>1</td>\n",
       "      <td>0</td>\n",
       "      <td>USER_MENTION when a father is dysfunctional an...</td>\n",
       "    </tr>\n",
       "    <tr>\n",
       "      <th>1</th>\n",
       "      <td>1</td>\n",
       "      <td>2</td>\n",
       "      <td>0</td>\n",
       "      <td>USER_MENTION USER_MENTION thanks for lyft cred...</td>\n",
       "    </tr>\n",
       "    <tr>\n",
       "      <th>2</th>\n",
       "      <td>2</td>\n",
       "      <td>3</td>\n",
       "      <td>0</td>\n",
       "      <td>bihday your majesty</td>\n",
       "    </tr>\n",
       "    <tr>\n",
       "      <th>3</th>\n",
       "      <td>3</td>\n",
       "      <td>4</td>\n",
       "      <td>0</td>\n",
       "      <td>model i love u take with u all the time in urð</td>\n",
       "    </tr>\n",
       "    <tr>\n",
       "      <th>4</th>\n",
       "      <td>4</td>\n",
       "      <td>5</td>\n",
       "      <td>0</td>\n",
       "      <td>factsguide society now motivation</td>\n",
       "    </tr>\n",
       "  </tbody>\n",
       "</table>\n",
       "</div>"
      ],
      "text/plain": [
       "   Unnamed: 0  0  1                                                0.1\n",
       "0           0  1  0  USER_MENTION when a father is dysfunctional an...\n",
       "1           1  2  0  USER_MENTION USER_MENTION thanks for lyft cred...\n",
       "2           2  3  0                                bihday your majesty\n",
       "3           3  4  0     model i love u take with u all the time in urð\n",
       "4           4  5  0                  factsguide society now motivation"
      ]
     },
     "execution_count": 6,
     "metadata": {},
     "output_type": "execute_result"
    }
   ],
   "source": [
    "tweetsTrain = pd.DataFrame(trainDf)\n",
    "tweetsTrain.head()"
   ]
  },
  {
   "cell_type": "code",
   "execution_count": 7,
   "metadata": {},
   "outputs": [
    {
     "data": {
      "text/html": [
       "<div>\n",
       "<style scoped>\n",
       "    .dataframe tbody tr th:only-of-type {\n",
       "        vertical-align: middle;\n",
       "    }\n",
       "\n",
       "    .dataframe tbody tr th {\n",
       "        vertical-align: top;\n",
       "    }\n",
       "\n",
       "    .dataframe thead th {\n",
       "        text-align: right;\n",
       "    }\n",
       "</style>\n",
       "<table border=\"1\" class=\"dataframe\">\n",
       "  <thead>\n",
       "    <tr style=\"text-align: right;\">\n",
       "      <th></th>\n",
       "      <th>0</th>\n",
       "      <th>1</th>\n",
       "      <th>2</th>\n",
       "    </tr>\n",
       "  </thead>\n",
       "  <tbody>\n",
       "    <tr>\n",
       "      <th>0</th>\n",
       "      <td>1</td>\n",
       "      <td>0</td>\n",
       "      <td>USER_MENTION when a father is dysfunctional an...</td>\n",
       "    </tr>\n",
       "    <tr>\n",
       "      <th>1</th>\n",
       "      <td>2</td>\n",
       "      <td>0</td>\n",
       "      <td>USER_MENTION USER_MENTION thanks for lyft cred...</td>\n",
       "    </tr>\n",
       "    <tr>\n",
       "      <th>2</th>\n",
       "      <td>3</td>\n",
       "      <td>0</td>\n",
       "      <td>bihday your majesty</td>\n",
       "    </tr>\n",
       "    <tr>\n",
       "      <th>3</th>\n",
       "      <td>4</td>\n",
       "      <td>0</td>\n",
       "      <td>model i love u take with u all the time in urð</td>\n",
       "    </tr>\n",
       "    <tr>\n",
       "      <th>4</th>\n",
       "      <td>5</td>\n",
       "      <td>0</td>\n",
       "      <td>factsguide society now motivation</td>\n",
       "    </tr>\n",
       "  </tbody>\n",
       "</table>\n",
       "</div>"
      ],
      "text/plain": [
       "   0  1                                                  2\n",
       "0  1  0  USER_MENTION when a father is dysfunctional an...\n",
       "1  2  0  USER_MENTION USER_MENTION thanks for lyft cred...\n",
       "2  3  0                                bihday your majesty\n",
       "3  4  0     model i love u take with u all the time in urð\n",
       "4  5  0                  factsguide society now motivation"
      ]
     },
     "execution_count": 7,
     "metadata": {},
     "output_type": "execute_result"
    }
   ],
   "source": [
    "trainTweetsProc = [] # Creating an empty list to store the data set above.\n",
    "i = 0\n",
    "while i < tweetsTrain.shape[0]:\n",
    "    trainTweetsProc.append([tweetsTrain.iloc[i,1], tweetsTrain.iloc[i,2], tweetsTrain.iloc[i,3]]) # Adds each row to the list, excluding the first column of the data set.\n",
    "    i += 1\n",
    "\n",
    "trainTweetsP = pd.DataFrame(trainTweetsProc) # Casts the list to a data frame, which is cleaned.\n",
    "trainTweetsP.head()"
   ]
  },
  {
   "cell_type": "code",
   "execution_count": 8,
   "metadata": {},
   "outputs": [
    {
     "data": {
      "text/html": [
       "<div>\n",
       "<style scoped>\n",
       "    .dataframe tbody tr th:only-of-type {\n",
       "        vertical-align: middle;\n",
       "    }\n",
       "\n",
       "    .dataframe tbody tr th {\n",
       "        vertical-align: top;\n",
       "    }\n",
       "\n",
       "    .dataframe thead th {\n",
       "        text-align: right;\n",
       "    }\n",
       "</style>\n",
       "<table border=\"1\" class=\"dataframe\">\n",
       "  <thead>\n",
       "    <tr style=\"text-align: right;\">\n",
       "      <th></th>\n",
       "      <th>2</th>\n",
       "    </tr>\n",
       "  </thead>\n",
       "  <tbody>\n",
       "    <tr>\n",
       "      <th>0</th>\n",
       "      <td>USER_MENTION when a father is dysfunctional an...</td>\n",
       "    </tr>\n",
       "    <tr>\n",
       "      <th>1</th>\n",
       "      <td>USER_MENTION USER_MENTION thanks for lyft cred...</td>\n",
       "    </tr>\n",
       "    <tr>\n",
       "      <th>2</th>\n",
       "      <td>bihday your majesty</td>\n",
       "    </tr>\n",
       "    <tr>\n",
       "      <th>3</th>\n",
       "      <td>model i love u take with u all the time in urð</td>\n",
       "    </tr>\n",
       "    <tr>\n",
       "      <th>4</th>\n",
       "      <td>factsguide society now motivation</td>\n",
       "    </tr>\n",
       "  </tbody>\n",
       "</table>\n",
       "</div>"
      ],
      "text/plain": [
       "                                                   2\n",
       "0  USER_MENTION when a father is dysfunctional an...\n",
       "1  USER_MENTION USER_MENTION thanks for lyft cred...\n",
       "2                                bihday your majesty\n",
       "3     model i love u take with u all the time in urð\n",
       "4                  factsguide society now motivation"
      ]
     },
     "execution_count": 8,
     "metadata": {},
     "output_type": "execute_result"
    }
   ],
   "source": [
    "tweetsTraining = trainTweetsP[[2]] # Extracts the tweets column from the clean data frame above.\n",
    "tweetsTraining.head()"
   ]
  },
  {
   "cell_type": "code",
   "execution_count": 9,
   "metadata": {},
   "outputs": [],
   "source": [
    "tweetTrainingList = [] # Creating an empty list to store the tweets.\n",
    "i = 0\n",
    "while i < tweetsTraining.shape[0]:\n",
    "    tweetTrainingList.append(tweetsTraining.iloc[i,0]) # Adds each tweet to the list.\n",
    "    i += 1"
   ]
  },
  {
   "cell_type": "code",
   "execution_count": 10,
   "metadata": {},
   "outputs": [],
   "source": [
    "stringOfTrainTweets = \" \".join(tweetTrainingList) # Joins the tweets together into one giant string, with a space between every two consecutive tweets."
   ]
  },
  {
   "cell_type": "code",
   "execution_count": 11,
   "metadata": {},
   "outputs": [],
   "source": [
    "# Creating a list of all single words found in the tweets, excluding stop words.\n",
    "stopWords = set(stopwords.words('english'))\n",
    "tokens = word_tokenize(stringOfTrainTweets)\n",
    "wordsFiltered = []\n",
    "\n",
    "for w in tokens:\n",
    "    if w not in stopWords:\n",
    "        wordsFiltered.append(w)"
   ]
  },
  {
   "cell_type": "code",
   "execution_count": 13,
   "metadata": {},
   "outputs": [
    {
     "data": {
      "image/png": "[encoded data removed]",
      "text/plain": [
       "<Figure size 432x288 with 1 Axes>"
      ]
     },
     "metadata": {
      "needs_background": "light"
     },
     "output_type": "display_data"
    }
   ],
   "source": [
    "# Creating a set of all the unique unigrams and sorting them in order of decreasing frequency of occurence.\n",
    "vocab = set(wordsFiltered)\n",
    "frequencyDist = nltk.FreqDist(wordsFiltered)\n",
    "data = sorted(frequencyDist,key=frequencyDist.__getitem__, reverse=True)\n",
    "# Plotting frequencies of the 20 most frequently occuring unigrams.\n",
    "frequencyDist.plot(20, cumulative=False)"
   ]
  },
  {
   "cell_type": "code",
   "execution_count": 15,
   "metadata": {},
   "outputs": [
    {
     "data": {
      "text/plain": [
       "['USER_MENTION',\n",
       " 'love',\n",
       " 'day',\n",
       " 'happy',\n",
       " 'amp',\n",
       " 'im',\n",
       " 'u',\n",
       " 'time',\n",
       " 'life',\n",
       " 'like']"
      ]
     },
     "execution_count": 15,
     "metadata": {},
     "output_type": "execute_result"
    }
   ],
   "source": [
    "# Creating a list of the 3430 most frequently occuring unigrams. \n",
    "sparseVector = data[0:3430]"
   ]
  },
  {
   "cell_type": "code",
   "execution_count": 21,
   "metadata": {},
   "outputs": [],
   "source": [
    "# Creating a list of bigrams.\n",
    "output = []\n",
    "i = 0\n",
    "while i < len(tweetTrainingList):\n",
    "    tokens1 = word_tokenize(tweetTrainingList[i])\n",
    "    tweetFil = []\n",
    "    for w in tokens1:\n",
    "        if w not in stopWords:\n",
    "            tweetFil.append(w)\n",
    "    output.extend(list(ngrams(tweetFil, 2)))\n",
    "    i += 1"
   ]
  },
  {
   "cell_type": "code",
   "execution_count": 25,
   "metadata": {},
   "outputs": [
    {
     "data": {
      "text/plain": [
       "[('USER_MENTION', 'USER_MENTION'),\n",
       " ('fathers', 'day'),\n",
       " ('thankful', 'positive'),\n",
       " ('positive', 'affirmation'),\n",
       " ('love', 'u'),\n",
       " ('cant', 'wait'),\n",
       " ('u', 'take'),\n",
       " ('take', 'u'),\n",
       " ('u', 'time'),\n",
       " ('model', 'love'),\n",
       " ('time', 'urð'),\n",
       " ('i_am', 'positive'),\n",
       " ('blog', 'silver'),\n",
       " ('silver', 'gold'),\n",
       " ('gold', 'forex'),\n",
       " ('altwaystoheal', 'healthy'),\n",
       " ('via', 'USER_MENTION'),\n",
       " ('polar', 'bear'),\n",
       " ('whatever', 'want'),\n",
       " ('bull', 'dominate')]"
      ]
     },
     "execution_count": 25,
     "metadata": {},
     "output_type": "execute_result"
    }
   ],
   "source": [
    "# Creating a set of all the unique bigrams and sorting them in order of decreasing frequency of occurence.\n",
    "bigrams = set(output)\n",
    "frequency_dist = nltk.FreqDist(output)\n",
    "data1 = sorted(frequency_dist,key=frequency_dist.__getitem__, reverse=True)"
   ]
  },
  {
   "cell_type": "code",
   "execution_count": 28,
   "metadata": {},
   "outputs": [
    {
     "data": {
      "text/plain": [
       "[('USER_MENTION', 'USER_MENTION'),\n",
       " ('fathers', 'day'),\n",
       " ('thankful', 'positive'),\n",
       " ('positive', 'affirmation'),\n",
       " ('love', 'u'),\n",
       " ('cant', 'wait'),\n",
       " ('u', 'take'),\n",
       " ('take', 'u'),\n",
       " ('u', 'time'),\n",
       " ('model', 'love')]"
      ]
     },
     "execution_count": 28,
     "metadata": {},
     "output_type": "execute_result"
    }
   ],
   "source": [
    "# Creating a list of the 830 most frequently occuring bigrams. \n",
    "bigramsVocab = data1[0:830]"
   ]
  },
  {
   "cell_type": "code",
   "execution_count": 29,
   "metadata": {},
   "outputs": [
    {
     "data": {
      "image/png": "[encoded data removed]",
      "text/plain": [
       "<Figure size 432x288 with 1 Axes>"
      ]
     },
     "metadata": {
      "needs_background": "light"
     },
     "output_type": "display_data"
    }
   ],
   "source": [
    "# Plotting frequencies of the 20 most frequently occuring bigrams.\n",
    "frequency_dist.plot(20, cumulative=False)"
   ]
  },
  {
   "cell_type": "code",
   "execution_count": 43,
   "metadata": {},
   "outputs": [],
   "source": [
    "# Creating a list of filtered tweets from the original tweets, with the stop words removed. \n",
    "tweetListFiltered = []\n",
    "for element in tweetTrainingList:\n",
    "    words = word_tokenize(element)\n",
    "    wordsFiltered = []\n",
    "\n",
    "    for w in words:\n",
    "        if w not in stopWords:\n",
    "            wordsFiltered.append(w)\n",
    "    tweetListFiltered.append(\" \".join(wordsFiltered))"
   ]
  },
  {
   "cell_type": "code",
   "execution_count": 63,
   "metadata": {},
   "outputs": [],
   "source": [
    "# Extending the list of top unigrams with the list of top bigrams at the end.\n",
    "sparseVector.extend(bigramsVocab)"
   ]
  },
  {
   "cell_type": "code",
   "execution_count": 65,
   "metadata": {},
   "outputs": [],
   "source": [
    "sparseVectorMod = sparseVector"
   ]
  },
  {
   "cell_type": "code",
   "execution_count": 66,
   "metadata": {},
   "outputs": [],
   "source": [
    "# Converting the bigrams in the combined list to the appropriate string format.\n",
    "i = 3430\n",
    "while i < len(sparseVectorMod):\n",
    "    element = \" \".join(sparseVectorMod[i])\n",
    "    sparseVectorMod[i] = element\n",
    "    i += 1"
   ]
  },
  {
   "cell_type": "code",
   "execution_count": 68,
   "metadata": {},
   "outputs": [],
   "source": [
    "# List of most frequently occuring unigrams.\n",
    "sparseVectorA = sparseVectorMod[0:3430]"
   ]
  },
  {
   "cell_type": "code",
   "execution_count": 70,
   "metadata": {},
   "outputs": [],
   "source": [
    "# List of most frequently occuring bigrams, in appropriate string format. \n",
    "sparseVectorB = sparseVectorMod[3430:4260]"
   ]
  },
  {
   "cell_type": "code",
   "execution_count": 87,
   "metadata": {},
   "outputs": [],
   "source": [
    "# Creating presence vectors to represent the tweets. \n",
    "tweetVectors1 = []\n",
    "for tweet in tweetListFiltered:\n",
    "    tweetWords = tweet.split()\n",
    "    bigr = list(ngrams(tweetWords, 2))\n",
    "    bigrams = []\n",
    "    for part in bigr:\n",
    "        portion = \" \".join(part)\n",
    "        bigrams.append(portion)\n",
    "    vector = []\n",
    "    for element in sparseVectorA:\n",
    "        if element in tweetWords:\n",
    "            k = 1\n",
    "        else:\n",
    "            k = 0\n",
    "        vector.append(k)\n",
    "    for element in sparseVectorB:\n",
    "        if element in bigrams:\n",
    "            k = 1\n",
    "        else:\n",
    "            k = 0\n",
    "        vector.append(k)\n",
    "    tweetVectors1.append(vector)"
   ]
  },
  {
   "cell_type": "code",
   "execution_count": 92,
   "metadata": {},
   "outputs": [],
   "source": [
    "# Converting the list of presence vectors into an array of presence vectors.\n",
    "tweetVectorsA = np.array(tweetVectors1)"
   ]
  },
  {
   "cell_type": "markdown",
   "metadata": {},
   "source": [
    "# Random Forest Classifier"
   ]
  },
  {
   "cell_type": "code",
   "execution_count": null,
   "metadata": {},
   "outputs": [],
   "source": [
    "# Importing libraries for Random Forest Classifier and accuracy checking.\n",
    "from sklearn.ensemble import RandomForestClassifier\n",
    "from sklearn import tree\n",
    "from sklearn.metrics import accuracy_score"
   ]
  },
  {
   "cell_type": "code",
   "execution_count": 101,
   "metadata": {},
   "outputs": [],
   "source": [
    "#Independent variable\n",
    "x = tweetVectorsA[0:25570]\n",
    "x1 = tweetVectorsA[25570:31962]\n",
    "#Dependent variable\n",
    "y = trainTweetsP[1][0:25570].to_numpy() \n",
    "y1 = trainTweetsP[1][25570:31962].to_numpy() "
   ]
  },
  {
   "cell_type": "code",
   "execution_count": 111,
   "metadata": {},
   "outputs": [],
   "source": [
    "#Random Forest Classifier"
   ]
  },
  {
   "cell_type": "code",
   "execution_count": 112,
   "metadata": {},
   "outputs": [
    {
     "data": {
      "text/plain": [
       "RandomForestClassifier(bootstrap=True, class_weight=None, criterion='gini',\n",
       "            max_depth=None, max_features='auto', max_leaf_nodes=None,\n",
       "            min_impurity_decrease=0.0, min_impurity_split=None,\n",
       "            min_samples_leaf=1, min_samples_split=2,\n",
       "            min_weight_fraction_leaf=0.0, n_estimators=30, n_jobs=None,\n",
       "            oob_score=False, random_state=None, verbose=0,\n",
       "            warm_start=False)"
      ]
     },
     "execution_count": 112,
     "metadata": {},
     "output_type": "execute_result"
    }
   ],
   "source": [
    "model = RandomForestClassifier(n_estimators=30) #Using 30 random trees has given the best accuracy overall\n",
    "model.fit(x, y)"
   ]
  },
  {
   "cell_type": "code",
   "execution_count": 113,
   "metadata": {},
   "outputs": [
    {
     "data": {
      "text/plain": [
       "0.9983053056967801"
      ]
     },
     "execution_count": 113,
     "metadata": {},
     "output_type": "execute_result"
    }
   ],
   "source": [
    "model.score(X_test,Y_test) #score of how accurately model has been trained"
   ]
  },
  {
   "cell_type": "code",
   "execution_count": 114,
   "metadata": {},
   "outputs": [],
   "source": [
    "Y_predict = model.predict(x1)"
   ]
  },
  {
   "cell_type": "code",
   "execution_count": 120,
   "metadata": {},
   "outputs": [
    {
     "name": "stdout",
     "output_type": "stream",
     "text": [
      "Accuracy of Random Forest on Test data:  95.22841051314143\n"
     ]
    }
   ],
   "source": [
    "print(\"Accuracy of Random Forest on Test data: \", accuracy_score(y1, Y_predict)*100)"
   ]
  },
  {
   "cell_type": "markdown",
   "metadata": {},
   "source": [
    "# General Sentiment Predictor Model (Random Forest)"
   ]
  },
  {
   "cell_type": "code",
   "execution_count": null,
   "metadata": {},
   "outputs": [],
   "source": [
    "# Insert any tweet between the quotations\n",
    "# Add/delete tweets if necessary. \n",
    "# Follow and maintain the format seen here. \n",
    "\n",
    "pilotTweets = ['',\n",
    "               '',\n",
    "               '',\n",
    "               ''] "
   ]
  },
  {
   "cell_type": "code",
   "execution_count": null,
   "metadata": {},
   "outputs": [],
   "source": [
    "# Removing stop words from the tweets.\n",
    "pilotTweetsFiltered = []\n",
    "for element in pilotTweets:\n",
    "    words = word_tokenize(element)\n",
    "    wordsFiltered = []\n",
    "\n",
    "    for w in words:\n",
    "        if w not in stopWords:\n",
    "            wordsFiltered.append(w)\n",
    "    pilotTweetsFiltered.append(\" \".join(wordsFiltered))"
   ]
  },
  {
   "cell_type": "code",
   "execution_count": null,
   "metadata": {},
   "outputs": [],
   "source": [
    "# Creating an array of presence vectors to represent the tweets."
   ]
  },
  {
   "cell_type": "code",
   "execution_count": null,
   "metadata": {},
   "outputs": [],
   "source": [
    "tweetVectors2 = []\n",
    "for tweet in pilotTweetsFiltered:\n",
    "    tweetWords = tweet.split()\n",
    "    bigr = list(ngrams(tweetWords, 2))\n",
    "    bigrams = []\n",
    "    for part in bigr:\n",
    "        portion = \" \".join(part)\n",
    "        bigrams.append(portion)\n",
    "    vector = []\n",
    "    for element in sparseVectorA:\n",
    "        if element in tweetWords:\n",
    "            k = 1\n",
    "        else:\n",
    "            k = 0\n",
    "        vector.append(k)\n",
    "    for element in sparseVectorB:\n",
    "        if element in bigrams:\n",
    "            k = 1\n",
    "        else:\n",
    "            k = 0\n",
    "        vector.append(k)\n",
    "    tweetVectors2.append(vector)"
   ]
  },
  {
   "cell_type": "code",
   "execution_count": null,
   "metadata": {},
   "outputs": [],
   "source": [
    "tweetVectorsB = np.array(tweetVectors2)"
   ]
  },
  {
   "cell_type": "code",
   "execution_count": null,
   "metadata": {},
   "outputs": [],
   "source": [
    "# Predicting the sentiments of the tweets represented by presence vectors.\n",
    "predictions = model.predict(tweetVectorsB)"
   ]
  },
  {
   "cell_type": "code",
   "execution_count": 154,
   "metadata": {},
   "outputs": [
    {
     "name": "stdout",
     "output_type": "stream",
     "text": [
      "7.714285714285714\n"
     ]
    }
   ],
   "source": [
    "# Determining the average sentiment value from the particular set of tweets.\n",
    "averageSentiment = np.mean(predictions)\n",
    "print(averageSentiment)"
   ]
  },
  {
   "cell_type": "code",
   "execution_count": null,
   "metadata": {},
   "outputs": [],
   "source": [
    "# With new data, the classification is expected to have an accuracy of around 60-80%. \n",
    "# Hence, some caution and judgement should be exercised when interpreting the results.\n",
    "# Keeping in mind the above, the following are very likely:\n",
    "# Average sentiment of 0 - positive or mixed or neutral sentiment, or some combination of the three.\n",
    "# Average sentiment of 0.5 - mixed sentiment.\n",
    "# Average sentiment of 1 - negative sentiment, or political or racial content in tweets, or some combination of these."
   ]
  }
 ],
 "metadata": {
  "kernelspec": {
   "display_name": "Python 3",
   "language": "python",
   "name": "python3"
  },
  "language_info": {
   "codemirror_mode": {
    "name": "ipython",
    "version": 3
   },
   "file_extension": ".py",
   "mimetype": "text/x-python",
   "name": "python",
   "nbconvert_exporter": "python",
   "pygments_lexer": "ipython3",
   "version": "3.7.3"
  }
 },
 "nbformat": 4,
 "nbformat_minor": 2
}
