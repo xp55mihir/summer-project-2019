{
 "cells": [
  {
   "cell_type": "code",
   "execution_count": 1,
   "metadata": {},
   "outputs": [],
   "source": [
    "#Importing libraries (will need to import more in future)\n",
    "import io\n",
    "import pandas as pd\n",
    "import numpy as np\n",
    "import re\n",
    "import string\n",
    "from string import punctuation\n",
    "from re import sub"
   ]
  },
  {
   "cell_type": "code",
   "execution_count": 2,
   "metadata": {},
   "outputs": [],
   "source": [
    "trainData = pd.read_csv(\"train_E6oV3lV.csv\")"
   ]
  },
  {
   "cell_type": "code",
   "execution_count": 3,
   "metadata": {},
   "outputs": [],
   "source": [
    "testData = pd.read_csv(\"test_tweets_anuFYb8.csv\")"
   ]
  },
  {
   "cell_type": "code",
   "execution_count": 4,
   "metadata": {},
   "outputs": [
    {
     "data": {
      "text/html": [
       "<div>\n",
       "<style scoped>\n",
       "    .dataframe tbody tr th:only-of-type {\n",
       "        vertical-align: middle;\n",
       "    }\n",
       "\n",
       "    .dataframe tbody tr th {\n",
       "        vertical-align: top;\n",
       "    }\n",
       "\n",
       "    .dataframe thead th {\n",
       "        text-align: right;\n",
       "    }\n",
       "</style>\n",
       "<table border=\"1\" class=\"dataframe\">\n",
       "  <thead>\n",
       "    <tr style=\"text-align: right;\">\n",
       "      <th></th>\n",
       "      <th>id</th>\n",
       "      <th>label</th>\n",
       "      <th>tweet</th>\n",
       "    </tr>\n",
       "  </thead>\n",
       "  <tbody>\n",
       "    <tr>\n",
       "      <th>0</th>\n",
       "      <td>1</td>\n",
       "      <td>0</td>\n",
       "      <td>@user when a father is dysfunctional and is s...</td>\n",
       "    </tr>\n",
       "    <tr>\n",
       "      <th>1</th>\n",
       "      <td>2</td>\n",
       "      <td>0</td>\n",
       "      <td>@user @user thanks for #lyft credit i can't us...</td>\n",
       "    </tr>\n",
       "    <tr>\n",
       "      <th>2</th>\n",
       "      <td>3</td>\n",
       "      <td>0</td>\n",
       "      <td>bihday your majesty</td>\n",
       "    </tr>\n",
       "    <tr>\n",
       "      <th>3</th>\n",
       "      <td>4</td>\n",
       "      <td>0</td>\n",
       "      <td>#model   i love u take with u all the time in ...</td>\n",
       "    </tr>\n",
       "    <tr>\n",
       "      <th>4</th>\n",
       "      <td>5</td>\n",
       "      <td>0</td>\n",
       "      <td>factsguide: society now    #motivation</td>\n",
       "    </tr>\n",
       "  </tbody>\n",
       "</table>\n",
       "</div>"
      ],
      "text/plain": [
       "   id  label                                              tweet\n",
       "0   1      0   @user when a father is dysfunctional and is s...\n",
       "1   2      0  @user @user thanks for #lyft credit i can't us...\n",
       "2   3      0                                bihday your majesty\n",
       "3   4      0  #model   i love u take with u all the time in ...\n",
       "4   5      0             factsguide: society now    #motivation"
      ]
     },
     "execution_count": 4,
     "metadata": {},
     "output_type": "execute_result"
    }
   ],
   "source": [
    "#Visualising data\n",
    "trainData.head()"
   ]
  },
  {
   "cell_type": "markdown",
   "metadata": {},
   "source": [
    "# Cleaning the data"
   ]
  },
  {
   "cell_type": "code",
   "execution_count": 5,
   "metadata": {},
   "outputs": [],
   "source": [
    "#cleanTweetsTrain"
   ]
  },
  {
   "cell_type": "code",
   "execution_count": 6,
   "metadata": {},
   "outputs": [],
   "source": [
    "trainDataClean = pd.DataFrame(trainData)"
   ]
  },
  {
   "cell_type": "code",
   "execution_count": 7,
   "metadata": {},
   "outputs": [
    {
     "data": {
      "text/html": [
       "<div>\n",
       "<style scoped>\n",
       "    .dataframe tbody tr th:only-of-type {\n",
       "        vertical-align: middle;\n",
       "    }\n",
       "\n",
       "    .dataframe tbody tr th {\n",
       "        vertical-align: top;\n",
       "    }\n",
       "\n",
       "    .dataframe thead th {\n",
       "        text-align: right;\n",
       "    }\n",
       "</style>\n",
       "<table border=\"1\" class=\"dataframe\">\n",
       "  <thead>\n",
       "    <tr style=\"text-align: right;\">\n",
       "      <th></th>\n",
       "      <th>id</th>\n",
       "      <th>label</th>\n",
       "      <th>tweet</th>\n",
       "    </tr>\n",
       "  </thead>\n",
       "  <tbody>\n",
       "    <tr>\n",
       "      <th>0</th>\n",
       "      <td>1</td>\n",
       "      <td>0</td>\n",
       "      <td>@user when a father is dysfunctional and is s...</td>\n",
       "    </tr>\n",
       "    <tr>\n",
       "      <th>1</th>\n",
       "      <td>2</td>\n",
       "      <td>0</td>\n",
       "      <td>@user @user thanks for #lyft credit i can't us...</td>\n",
       "    </tr>\n",
       "    <tr>\n",
       "      <th>2</th>\n",
       "      <td>3</td>\n",
       "      <td>0</td>\n",
       "      <td>bihday your majesty</td>\n",
       "    </tr>\n",
       "    <tr>\n",
       "      <th>3</th>\n",
       "      <td>4</td>\n",
       "      <td>0</td>\n",
       "      <td>#model   i love u take with u all the time in ...</td>\n",
       "    </tr>\n",
       "    <tr>\n",
       "      <th>4</th>\n",
       "      <td>5</td>\n",
       "      <td>0</td>\n",
       "      <td>factsguide: society now    #motivation</td>\n",
       "    </tr>\n",
       "  </tbody>\n",
       "</table>\n",
       "</div>"
      ],
      "text/plain": [
       "   id  label                                              tweet\n",
       "0   1      0   @user when a father is dysfunctional and is s...\n",
       "1   2      0  @user @user thanks for #lyft credit i can't us...\n",
       "2   3      0                                bihday your majesty\n",
       "3   4      0  #model   i love u take with u all the time in ...\n",
       "4   5      0             factsguide: society now    #motivation"
      ]
     },
     "execution_count": 7,
     "metadata": {},
     "output_type": "execute_result"
    }
   ],
   "source": [
    "trainDataClean.head()"
   ]
  },
  {
   "cell_type": "code",
   "execution_count": 8,
   "metadata": {},
   "outputs": [
    {
     "data": {
      "text/plain": [
       "31962"
      ]
     },
     "execution_count": 8,
     "metadata": {},
     "output_type": "execute_result"
    }
   ],
   "source": [
    "trainDataClean.shape[0]"
   ]
  },
  {
   "cell_type": "code",
   "execution_count": 9,
   "metadata": {},
   "outputs": [],
   "source": [
    "trainDataCl = []\n",
    "i = 0\n",
    "while i < trainDataClean.shape[0]:\n",
    "    trainDataCl.append([trainDataClean.iloc[i,0], trainDataClean.iloc[i,1], trainDataClean.iloc[i,2]])\n",
    "    i += 1\n",
    "\n",
    "trainDataCleaned = pd.DataFrame(trainDataCl)"
   ]
  },
  {
   "cell_type": "code",
   "execution_count": 10,
   "metadata": {},
   "outputs": [
    {
     "data": {
      "text/html": [
       "<div>\n",
       "<style scoped>\n",
       "    .dataframe tbody tr th:only-of-type {\n",
       "        vertical-align: middle;\n",
       "    }\n",
       "\n",
       "    .dataframe tbody tr th {\n",
       "        vertical-align: top;\n",
       "    }\n",
       "\n",
       "    .dataframe thead th {\n",
       "        text-align: right;\n",
       "    }\n",
       "</style>\n",
       "<table border=\"1\" class=\"dataframe\">\n",
       "  <thead>\n",
       "    <tr style=\"text-align: right;\">\n",
       "      <th></th>\n",
       "      <th>0</th>\n",
       "      <th>1</th>\n",
       "      <th>2</th>\n",
       "    </tr>\n",
       "  </thead>\n",
       "  <tbody>\n",
       "    <tr>\n",
       "      <th>0</th>\n",
       "      <td>1</td>\n",
       "      <td>0</td>\n",
       "      <td>@user when a father is dysfunctional and is s...</td>\n",
       "    </tr>\n",
       "    <tr>\n",
       "      <th>1</th>\n",
       "      <td>2</td>\n",
       "      <td>0</td>\n",
       "      <td>@user @user thanks for #lyft credit i can't us...</td>\n",
       "    </tr>\n",
       "    <tr>\n",
       "      <th>2</th>\n",
       "      <td>3</td>\n",
       "      <td>0</td>\n",
       "      <td>bihday your majesty</td>\n",
       "    </tr>\n",
       "    <tr>\n",
       "      <th>3</th>\n",
       "      <td>4</td>\n",
       "      <td>0</td>\n",
       "      <td>#model   i love u take with u all the time in ...</td>\n",
       "    </tr>\n",
       "    <tr>\n",
       "      <th>4</th>\n",
       "      <td>5</td>\n",
       "      <td>0</td>\n",
       "      <td>factsguide: society now    #motivation</td>\n",
       "    </tr>\n",
       "  </tbody>\n",
       "</table>\n",
       "</div>"
      ],
      "text/plain": [
       "   0  1                                                  2\n",
       "0  1  0   @user when a father is dysfunctional and is s...\n",
       "1  2  0  @user @user thanks for #lyft credit i can't us...\n",
       "2  3  0                                bihday your majesty\n",
       "3  4  0  #model   i love u take with u all the time in ...\n",
       "4  5  0             factsguide: society now    #motivation"
      ]
     },
     "execution_count": 10,
     "metadata": {},
     "output_type": "execute_result"
    }
   ],
   "source": [
    "trainDataCleaned.head()"
   ]
  },
  {
   "cell_type": "code",
   "execution_count": 11,
   "metadata": {},
   "outputs": [
    {
     "data": {
      "text/html": [
       "<div>\n",
       "<style scoped>\n",
       "    .dataframe tbody tr th:only-of-type {\n",
       "        vertical-align: middle;\n",
       "    }\n",
       "\n",
       "    .dataframe tbody tr th {\n",
       "        vertical-align: top;\n",
       "    }\n",
       "\n",
       "    .dataframe thead th {\n",
       "        text-align: right;\n",
       "    }\n",
       "</style>\n",
       "<table border=\"1\" class=\"dataframe\">\n",
       "  <thead>\n",
       "    <tr style=\"text-align: right;\">\n",
       "      <th></th>\n",
       "      <th>0</th>\n",
       "      <th>1</th>\n",
       "      <th>2</th>\n",
       "    </tr>\n",
       "  </thead>\n",
       "  <tbody>\n",
       "    <tr>\n",
       "      <th>31957</th>\n",
       "      <td>31958</td>\n",
       "      <td>0</td>\n",
       "      <td>ate @user isz that youuu?ðððððð...</td>\n",
       "    </tr>\n",
       "    <tr>\n",
       "      <th>31958</th>\n",
       "      <td>31959</td>\n",
       "      <td>0</td>\n",
       "      <td>to see nina turner on the airwaves trying to...</td>\n",
       "    </tr>\n",
       "    <tr>\n",
       "      <th>31959</th>\n",
       "      <td>31960</td>\n",
       "      <td>0</td>\n",
       "      <td>listening to sad songs on a monday morning otw...</td>\n",
       "    </tr>\n",
       "    <tr>\n",
       "      <th>31960</th>\n",
       "      <td>31961</td>\n",
       "      <td>1</td>\n",
       "      <td>@user #sikh #temple vandalised in in #calgary,...</td>\n",
       "    </tr>\n",
       "    <tr>\n",
       "      <th>31961</th>\n",
       "      <td>31962</td>\n",
       "      <td>0</td>\n",
       "      <td>thank you @user for you follow</td>\n",
       "    </tr>\n",
       "  </tbody>\n",
       "</table>\n",
       "</div>"
      ],
      "text/plain": [
       "           0  1                                                  2\n",
       "31957  31958  0  ate @user isz that youuu?ðððððð...\n",
       "31958  31959  0    to see nina turner on the airwaves trying to...\n",
       "31959  31960  0  listening to sad songs on a monday morning otw...\n",
       "31960  31961  1  @user #sikh #temple vandalised in in #calgary,...\n",
       "31961  31962  0                   thank you @user for you follow  "
      ]
     },
     "execution_count": 11,
     "metadata": {},
     "output_type": "execute_result"
    }
   ],
   "source": [
    "trainDataCleaned.tail()"
   ]
  },
  {
   "cell_type": "code",
   "execution_count": 12,
   "metadata": {},
   "outputs": [],
   "source": [
    "#train dataset is clean. Next, cleaning test dataset"
   ]
  },
  {
   "cell_type": "code",
   "execution_count": 13,
   "metadata": {},
   "outputs": [],
   "source": [
    "#testData.head()"
   ]
  },
  {
   "cell_type": "code",
   "execution_count": 14,
   "metadata": {},
   "outputs": [],
   "source": [
    "# with open(\"test_tweets_anuFYb8.csv\") as r:\n",
    "    # readObj = csv.reader(r)\n",
    "    # next(readObj) \n",
    "    # cleanTweetsTest = []\n",
    "    # for row in readObj:\n",
    "        # cleanTweetsTest.append(row)"
   ]
  },
  {
   "cell_type": "code",
   "execution_count": 15,
   "metadata": {},
   "outputs": [],
   "source": [
    "#cleanTweetsTest"
   ]
  },
  {
   "cell_type": "code",
   "execution_count": 16,
   "metadata": {},
   "outputs": [],
   "source": [
    "testDataClean = pd.DataFrame(testData)"
   ]
  },
  {
   "cell_type": "code",
   "execution_count": 17,
   "metadata": {},
   "outputs": [
    {
     "data": {
      "text/plain": [
       "17197"
      ]
     },
     "execution_count": 17,
     "metadata": {},
     "output_type": "execute_result"
    }
   ],
   "source": [
    "testDataClean.shape[0]"
   ]
  },
  {
   "cell_type": "code",
   "execution_count": 18,
   "metadata": {},
   "outputs": [],
   "source": [
    "testDataCl = []\n",
    "i = 0\n",
    "while i < testDataClean.shape[0]:\n",
    "    testDataCl.append([testDataClean.iloc[i,0], testDataClean.iloc[i,1]])\n",
    "    i += 1\n",
    "\n",
    "testDataCleaned = pd.DataFrame(testDataCl)"
   ]
  },
  {
   "cell_type": "code",
   "execution_count": 19,
   "metadata": {},
   "outputs": [
    {
     "data": {
      "text/html": [
       "<div>\n",
       "<style scoped>\n",
       "    .dataframe tbody tr th:only-of-type {\n",
       "        vertical-align: middle;\n",
       "    }\n",
       "\n",
       "    .dataframe tbody tr th {\n",
       "        vertical-align: top;\n",
       "    }\n",
       "\n",
       "    .dataframe thead th {\n",
       "        text-align: right;\n",
       "    }\n",
       "</style>\n",
       "<table border=\"1\" class=\"dataframe\">\n",
       "  <thead>\n",
       "    <tr style=\"text-align: right;\">\n",
       "      <th></th>\n",
       "      <th>0</th>\n",
       "      <th>1</th>\n",
       "    </tr>\n",
       "  </thead>\n",
       "  <tbody>\n",
       "    <tr>\n",
       "      <th>0</th>\n",
       "      <td>31963</td>\n",
       "      <td>#studiolife #aislife #requires #passion #dedic...</td>\n",
       "    </tr>\n",
       "    <tr>\n",
       "      <th>1</th>\n",
       "      <td>31964</td>\n",
       "      <td>@user #white #supremacists want everyone to s...</td>\n",
       "    </tr>\n",
       "    <tr>\n",
       "      <th>2</th>\n",
       "      <td>31965</td>\n",
       "      <td>safe ways to heal your #acne!!    #altwaystohe...</td>\n",
       "    </tr>\n",
       "    <tr>\n",
       "      <th>3</th>\n",
       "      <td>31966</td>\n",
       "      <td>is the hp and the cursed child book up for res...</td>\n",
       "    </tr>\n",
       "    <tr>\n",
       "      <th>4</th>\n",
       "      <td>31967</td>\n",
       "      <td>3rd #bihday to my amazing, hilarious #nephew...</td>\n",
       "    </tr>\n",
       "  </tbody>\n",
       "</table>\n",
       "</div>"
      ],
      "text/plain": [
       "       0                                                  1\n",
       "0  31963  #studiolife #aislife #requires #passion #dedic...\n",
       "1  31964   @user #white #supremacists want everyone to s...\n",
       "2  31965  safe ways to heal your #acne!!    #altwaystohe...\n",
       "3  31966  is the hp and the cursed child book up for res...\n",
       "4  31967    3rd #bihday to my amazing, hilarious #nephew..."
      ]
     },
     "execution_count": 19,
     "metadata": {},
     "output_type": "execute_result"
    }
   ],
   "source": [
    "testDataCleaned.head()"
   ]
  },
  {
   "cell_type": "code",
   "execution_count": 20,
   "metadata": {},
   "outputs": [
    {
     "data": {
      "text/html": [
       "<div>\n",
       "<style scoped>\n",
       "    .dataframe tbody tr th:only-of-type {\n",
       "        vertical-align: middle;\n",
       "    }\n",
       "\n",
       "    .dataframe tbody tr th {\n",
       "        vertical-align: top;\n",
       "    }\n",
       "\n",
       "    .dataframe thead th {\n",
       "        text-align: right;\n",
       "    }\n",
       "</style>\n",
       "<table border=\"1\" class=\"dataframe\">\n",
       "  <thead>\n",
       "    <tr style=\"text-align: right;\">\n",
       "      <th></th>\n",
       "      <th>0</th>\n",
       "      <th>1</th>\n",
       "    </tr>\n",
       "  </thead>\n",
       "  <tbody>\n",
       "    <tr>\n",
       "      <th>17192</th>\n",
       "      <td>49155</td>\n",
       "      <td>thought factory: left-right polarisation! #tru...</td>\n",
       "    </tr>\n",
       "    <tr>\n",
       "      <th>17193</th>\n",
       "      <td>49156</td>\n",
       "      <td>feeling like a mermaid ð #hairflip #neverre...</td>\n",
       "    </tr>\n",
       "    <tr>\n",
       "      <th>17194</th>\n",
       "      <td>49157</td>\n",
       "      <td>#hillary #campaigned today in #ohio((omg)) &amp;am...</td>\n",
       "    </tr>\n",
       "    <tr>\n",
       "      <th>17195</th>\n",
       "      <td>49158</td>\n",
       "      <td>happy, at work conference: right mindset leads...</td>\n",
       "    </tr>\n",
       "    <tr>\n",
       "      <th>17196</th>\n",
       "      <td>49159</td>\n",
       "      <td>my   song \"so glad\" free download!  #shoegaze ...</td>\n",
       "    </tr>\n",
       "  </tbody>\n",
       "</table>\n",
       "</div>"
      ],
      "text/plain": [
       "           0                                                  1\n",
       "17192  49155  thought factory: left-right polarisation! #tru...\n",
       "17193  49156  feeling like a mermaid ð #hairflip #neverre...\n",
       "17194  49157  #hillary #campaigned today in #ohio((omg)) &am...\n",
       "17195  49158  happy, at work conference: right mindset leads...\n",
       "17196  49159  my   song \"so glad\" free download!  #shoegaze ..."
      ]
     },
     "execution_count": 20,
     "metadata": {},
     "output_type": "execute_result"
    }
   ],
   "source": [
    "testDataCleaned.tail()"
   ]
  },
  {
   "cell_type": "code",
   "execution_count": 21,
   "metadata": {},
   "outputs": [],
   "source": [
    "#Test data now clean!"
   ]
  },
  {
   "cell_type": "markdown",
   "metadata": {},
   "source": [
    "# Data Pre-Processing"
   ]
  },
  {
   "cell_type": "code",
   "execution_count": 22,
   "metadata": {},
   "outputs": [],
   "source": [
    "#Convert the tweet to lower case. \n",
    "#Replace 2 or more dots (.) with space. \n",
    "#URL\n",
    "#User mention"
   ]
  },
  {
   "cell_type": "code",
   "execution_count": 23,
   "metadata": {},
   "outputs": [
    {
     "data": {
      "text/html": [
       "<div>\n",
       "<style scoped>\n",
       "    .dataframe tbody tr th:only-of-type {\n",
       "        vertical-align: middle;\n",
       "    }\n",
       "\n",
       "    .dataframe tbody tr th {\n",
       "        vertical-align: top;\n",
       "    }\n",
       "\n",
       "    .dataframe thead th {\n",
       "        text-align: right;\n",
       "    }\n",
       "</style>\n",
       "<table border=\"1\" class=\"dataframe\">\n",
       "  <thead>\n",
       "    <tr style=\"text-align: right;\">\n",
       "      <th></th>\n",
       "      <th>2</th>\n",
       "    </tr>\n",
       "  </thead>\n",
       "  <tbody>\n",
       "    <tr>\n",
       "      <th>0</th>\n",
       "      <td>@user when a father is dysfunctional and is s...</td>\n",
       "    </tr>\n",
       "    <tr>\n",
       "      <th>1</th>\n",
       "      <td>@user @user thanks for #lyft credit i can't us...</td>\n",
       "    </tr>\n",
       "    <tr>\n",
       "      <th>2</th>\n",
       "      <td>bihday your majesty</td>\n",
       "    </tr>\n",
       "    <tr>\n",
       "      <th>3</th>\n",
       "      <td>#model   i love u take with u all the time in ...</td>\n",
       "    </tr>\n",
       "    <tr>\n",
       "      <th>4</th>\n",
       "      <td>factsguide: society now    #motivation</td>\n",
       "    </tr>\n",
       "  </tbody>\n",
       "</table>\n",
       "</div>"
      ],
      "text/plain": [
       "                                                   2\n",
       "0   @user when a father is dysfunctional and is s...\n",
       "1  @user @user thanks for #lyft credit i can't us...\n",
       "2                                bihday your majesty\n",
       "3  #model   i love u take with u all the time in ...\n",
       "4             factsguide: society now    #motivation"
      ]
     },
     "execution_count": 23,
     "metadata": {},
     "output_type": "execute_result"
    }
   ],
   "source": [
    "# tweet column extracted from Training Data.\n",
    "tweetTrain = trainDataCleaned[[2]]\n",
    "tweetTrain.head()"
   ]
  },
  {
   "cell_type": "code",
   "execution_count": 24,
   "metadata": {},
   "outputs": [
    {
     "data": {
      "text/plain": [
       "31962"
      ]
     },
     "execution_count": 24,
     "metadata": {},
     "output_type": "execute_result"
    }
   ],
   "source": [
    "tweetTrain.shape[0] # Checking the number of rows in the Tweet column"
   ]
  },
  {
   "cell_type": "code",
   "execution_count": 25,
   "metadata": {},
   "outputs": [
    {
     "name": "stdout",
     "output_type": "stream",
     "text": [
      "#model   i love u take with u all the time in urð±!!! ðððð",
      "ð¦ð¦ð¦  \n"
     ]
    }
   ],
   "source": [
    "print(tweetTrain.iloc[3,0]) # Prints 4th entry in the Tweet column"
   ]
  },
  {
   "cell_type": "code",
   "execution_count": 26,
   "metadata": {},
   "outputs": [],
   "source": [
    "# Converting tweets to lower case\n",
    "tweetTrainList = []\n",
    "i = 0\n",
    "while i < tweetTrain.shape[0]:\n",
    "    tweetTrainList.append(tweetTrain.iloc[i,0].lower()) # Converts each tweet to lower case and adds the lower case tweet to the array that was initially empty.\n",
    "    i += 1\n",
    "tweetTrainV1 = pd.DataFrame(tweetTrainList)\n"
   ]
  },
  {
   "cell_type": "code",
   "execution_count": 27,
   "metadata": {},
   "outputs": [],
   "source": [
    "# tweet training data converted to lower case."
   ]
  },
  {
   "cell_type": "code",
   "execution_count": 28,
   "metadata": {},
   "outputs": [],
   "source": [
    "# tweet training data: Replacing 2+ dots w/ space"
   ]
  },
  {
   "cell_type": "code",
   "execution_count": 29,
   "metadata": {},
   "outputs": [
    {
     "name": "stdout",
     "output_type": "stream",
     "text": [
      "31962\n"
     ]
    }
   ],
   "source": [
    "print(tweetTrainV1.shape[0])"
   ]
  },
  {
   "cell_type": "code",
   "execution_count": 30,
   "metadata": {},
   "outputs": [],
   "source": [
    "import re"
   ]
  },
  {
   "cell_type": "code",
   "execution_count": 31,
   "metadata": {},
   "outputs": [],
   "source": [
    "tweetTrainL1 = []\n",
    "i = 0\n",
    "while i < tweetTrainV1.shape[0]:\n",
    "    tweetTrainL1.append(tweetTrainV1.iloc[i,0]) # Adds each tweet to the array, following first modification.\n",
    "    i += 1\n",
    "tweetTrainL1a = []\n",
    "for element in tweetTrainL1: \n",
    "    elem = re.sub(r'\\.\\.+',' ',element) # Substitutes 2+ dots w/ space\n",
    "    tweetTrainL1a.append(elem) # Adds each modified tweet to the array.\n",
    "\n",
    "tweetTrainV2 = pd.DataFrame(tweetTrainL1a)"
   ]
  },
  {
   "cell_type": "code",
   "execution_count": 32,
   "metadata": {},
   "outputs": [
    {
     "name": "stdout",
     "output_type": "stream",
     "text": [
      "thank you @user for you follow  \n"
     ]
    }
   ],
   "source": [
    "print(tweetTrainV2.iloc[31961,0])"
   ]
  },
  {
   "cell_type": "code",
   "execution_count": 33,
   "metadata": {},
   "outputs": [],
   "source": [
    "# 2+ dots in each training tweet replaced w/ space"
   ]
  },
  {
   "cell_type": "code",
   "execution_count": 34,
   "metadata": {},
   "outputs": [],
   "source": [
    "# Replacing each URL in tweet training data w/ the word 'URL'."
   ]
  },
  {
   "cell_type": "code",
   "execution_count": 35,
   "metadata": {},
   "outputs": [],
   "source": [
    "tweetTrainL2 = []\n",
    "i = 0\n",
    "while i < tweetTrainV2.shape[0]:\n",
    "    tweetTrainL2.append(tweetTrainV2.iloc[i,0]) # Adds each tweet to the array, following first two modifications.\n",
    "    i += 1\n",
    "tweetTrainL2a = []\n",
    "for element in tweetTrainL2:\n",
    "    elem = re.sub(r'((www\\.[\\S]+)|(https?://[\\S]+))','URL',element) # Substitutes URLs w/ the term 'URL'\n",
    "    tweetTrainL2a.append(elem) # Adds each modified tweet to the array.\n",
    "\n",
    "tweetTrainV3 = pd.DataFrame(tweetTrainL2a)"
   ]
  },
  {
   "cell_type": "code",
   "execution_count": 36,
   "metadata": {},
   "outputs": [
    {
     "name": "stdout",
     "output_type": "stream",
     "text": [
      "so glad my #workout includes smoke breaks URL #weed #bacon #fitness #sex #health #marijuana   #strength #living\n"
     ]
    }
   ],
   "source": [
    "print(tweetTrainV3.iloc[8484,0])"
   ]
  },
  {
   "cell_type": "code",
   "execution_count": 37,
   "metadata": {},
   "outputs": [],
   "source": [
    "# Each URL in tweet training data replaced w/ the word 'URL'"
   ]
  },
  {
   "cell_type": "code",
   "execution_count": 38,
   "metadata": {},
   "outputs": [],
   "source": [
    "# Replacing each user mention in tweet training data with the term 'USER_MENTION'"
   ]
  },
  {
   "cell_type": "code",
   "execution_count": 39,
   "metadata": {},
   "outputs": [],
   "source": [
    "tweetTrainL3 = []\n",
    "i = 0\n",
    "while i < tweetTrainV3.shape[0]:\n",
    "    tweetTrainL3.append(tweetTrainV3.iloc[i,0]) # Adds each tweet to the array, following first three modifications.\n",
    "    i += 1\n",
    "tweetTrainL3a = []\n",
    "for element in tweetTrainL3:\n",
    "    elem = re.sub(r'@[\\S]+','USER_MENTION',element) # Substitutes user mentions w/ the term 'USER_MENTION'\n",
    "    tweetTrainL3a.append(elem) # Adds each modified tweet to the array.\n",
    "\n",
    "tweetTrainV4 = pd.DataFrame(tweetTrainL3a) "
   ]
  },
  {
   "cell_type": "code",
   "execution_count": 40,
   "metadata": {},
   "outputs": [
    {
     "name": "stdout",
     "output_type": "stream",
     "text": [
      "all the best ummii do your bestððð \n"
     ]
    }
   ],
   "source": [
    "print(tweetTrainV4.iloc[8695,0])"
   ]
  },
  {
   "cell_type": "code",
   "execution_count": 41,
   "metadata": {},
   "outputs": [
    {
     "name": "stdout",
     "output_type": "stream",
     "text": [
      " USER_MENTION just run 10kms for USER_MENTION USER_MENTION   #loveisall  pour donner: URL \n"
     ]
    }
   ],
   "source": [
    "print(tweetTrainV4.iloc[8660,0])"
   ]
  },
  {
   "cell_type": "code",
   "execution_count": 42,
   "metadata": {},
   "outputs": [],
   "source": [
    "# Each user mention in tweet training data replaced w/ the term 'USER_MENTION'"
   ]
  },
  {
   "cell_type": "markdown",
   "metadata": {},
   "source": [
    "# Mihir Ravishankar"
   ]
  },
  {
   "cell_type": "code",
   "execution_count": null,
   "metadata": {},
   "outputs": [],
   "source": []
  },
  {
   "cell_type": "code",
   "execution_count": null,
   "metadata": {},
   "outputs": [],
   "source": []
  },
  {
   "cell_type": "markdown",
   "metadata": {},
   "source": [
    "# Vaibhav Kumar"
   ]
  },
  {
   "cell_type": "code",
   "execution_count": 43,
   "metadata": {},
   "outputs": [],
   "source": [
    "# df1 = pd.read_fwf(io.StringIO(tweetString), colspecs='infer', widths=None, infer_nrows=150)"
   ]
  },
  {
   "cell_type": "code",
   "execution_count": 44,
   "metadata": {},
   "outputs": [],
   "source": [
    "#Data-Pre processing\n",
    "#tweet 812, 821, 6053"
   ]
  },
  {
   "cell_type": "code",
   "execution_count": 45,
   "metadata": {},
   "outputs": [],
   "source": [
    "#Strip spaces and quotes (\"\" and '') from the ends of tweet."
   ]
  },
  {
   "cell_type": "code",
   "execution_count": 46,
   "metadata": {},
   "outputs": [],
   "source": [
    "tweetString = trainData.tweet.to_string()"
   ]
  },
  {
   "cell_type": "code",
   "execution_count": 47,
   "metadata": {},
   "outputs": [],
   "source": [
    "#my pre-processing function\n",
    "# def wordProcessing(a):\n",
    "#     a = re.sub(' +', ' ', a) #reduces 2 or more spaces into one space\n",
    "#     a = a.strip(' \"\\'') #removes quotes from the ends\n",
    "#     a = re.sub(r'#',\"\",a) #removes hash-symbol from hashtag\n",
    "#     a = re.sub(r'RT',\"\\b\",a)#removes RT from retweets\n",
    "#     a = re.sub(r'-',\"\",a) #removes -\n",
    "#     a = re.sub(r'\\'',\"\",a) #removes ' \n",
    "#     return a\n",
    "#     if a is None:\n",
    "#         a = str"
   ]
  },
  {
   "cell_type": "code",
   "execution_count": 48,
   "metadata": {},
   "outputs": [
    {
     "name": "stdout",
     "output_type": "stream",
     "text": [
      "Today is a great day. Today is a great day. \n",
      "Today is a great day.Today is a great day.\n"
     ]
    }
   ],
   "source": [
    "a = \"Today is a great day. \"\n",
    "print(a+a)\n",
    "a = a.strip('  \\'')\n",
    "print(a+a)"
   ]
  },
  {
   "cell_type": "code",
   "execution_count": 49,
   "metadata": {},
   "outputs": [
    {
     "name": "stdout",
     "output_type": "stream",
     "text": [
      "'Hello world!'''\n",
      "Hello world!\n"
     ]
    }
   ],
   "source": [
    "a = r\"'Hello world!'''\"\n",
    "print(a)\n",
    "a = a.strip(' \"\\'') #removes quotes from the ends\n",
    "print(a)"
   ]
  },
  {
   "cell_type": "code",
   "execution_count": 50,
   "metadata": {},
   "outputs": [
    {
     "name": "stdout",
     "output_type": "stream",
     "text": [
      "RT Hello people!\n",
      "Hello people!\n"
     ]
    }
   ],
   "source": [
    "a = 'RT Hello people!'\n",
    "print(a)\n",
    "a = re.sub(r'RT ','',a)#removes RT from retweets\n",
    "print(a)"
   ]
  },
  {
   "cell_type": "code",
   "execution_count": 51,
   "metadata": {},
   "outputs": [
    {
     "name": "stdout",
     "output_type": "stream",
     "text": [
      "RT Hello people!\n",
      "\b Hello people!\n"
     ]
    }
   ],
   "source": [
    "a = 'RT Hello people!'\n",
    "print(a)\n",
    "a = re.sub(r'RT',\"\\b\",a)#removes RT from retweets\n",
    "print(a)"
   ]
  },
  {
   "cell_type": "code",
   "execution_count": 52,
   "metadata": {},
   "outputs": [],
   "source": [
    "# s = \"#Wendy's-world\"\n",
    "# wordProcessing(s)"
   ]
  },
  {
   "cell_type": "code",
   "execution_count": 53,
   "metadata": {},
   "outputs": [],
   "source": [
    "#Classifying emojis as positve or negative"
   ]
  },
  {
   "cell_type": "code",
   "execution_count": 54,
   "metadata": {},
   "outputs": [],
   "source": [
    "def emojiHandler(a):\n",
    "    a = re.sub(r'(:\\s?\\)|:-\\)|\\(\\s?:|\\(-:|:\\'\\))', 'EMO_POS', a) #Smile-emoji\n",
    "    a = re.sub(r'(:\\s?D|:-D|x-?D|X-?D)', 'EMO_POS', a) #Laugh-emoji\n",
    "    a = re.sub(r'(<3|:\\*)' ,'EMO_POS', a) #Love-emoji\n",
    "    a = re.sub(r'(;-?\\)|;-?D|\\(-?;)' ,'EMO_POS', a) #Wink-emoji\n",
    "    a = re.sub(r'(:\\s?\\(|:-\\(|\\)\\s?:|\\)-:)' ,'EMO_NEG', a) #Sad-emoji\n",
    "    a = re.sub(r'(:,\\(|:\\'\\(|:\"\\()' ,'EMO_NEG', a) #Cry-emoji\n",
    "    return a\n",
    "    "
   ]
  },
  {
   "cell_type": "code",
   "execution_count": 55,
   "metadata": {},
   "outputs": [],
   "source": [
    "def removeQuotes(a):\n",
    "        \n",
    "        return a"
   ]
  },
  {
   "cell_type": "code",
   "execution_count": 56,
   "metadata": {},
   "outputs": [],
   "source": [
    "#Testing real tweets on pre-Processing function"
   ]
  },
  {
   "cell_type": "code",
   "execution_count": 57,
   "metadata": {},
   "outputs": [],
   "source": [
    "# x = wordProcessing(n)\n",
    "# print(x)\n",
    "# y = emojiHandler(x)\n",
    "# print(y)\n",
    "# z = ppFunction(n)\n",
    "# print(z)"
   ]
  },
  {
   "cell_type": "code",
   "execution_count": 58,
   "metadata": {},
   "outputs": [],
   "source": [
    "# def ppFunction(s):\n",
    "#     r = emojiHandler(wordProcessing(s))\n",
    "#     s = removeQuotes(r)\n",
    "#     return s"
   ]
  },
  {
   "cell_type": "code",
   "execution_count": 59,
   "metadata": {},
   "outputs": [],
   "source": [
    "# n = \"i have begun something #new on this page &amp; am super   about it :)  it's daily tarot guidance with a... \"\n",
    "# z = ppFunction(n)\n",
    "# print(z)"
   ]
  },
  {
   "cell_type": "code",
   "execution_count": 60,
   "metadata": {},
   "outputs": [],
   "source": [
    "#More pre-processing to be done:\n",
    "# 1) Strip punctuations from words\n",
    "# 2) Convert two or more letter repetitions to 2 letters.\n",
    "# 3) Remove -  and '\n",
    "# 4) check if word is valid"
   ]
  },
  {
   "cell_type": "code",
   "execution_count": 61,
   "metadata": {},
   "outputs": [],
   "source": [
    "s = \"I'm soooooo happpppy! I love foodddd; I also lik_e to work-out.\""
   ]
  },
  {
   "cell_type": "code",
   "execution_count": 62,
   "metadata": {},
   "outputs": [],
   "source": [
    "def removePunctuation(s):\n",
    "    translator = str.maketrans('', '', sub('\\_', '', punctuation))\n",
    "    return s.translate(translator)\n",
    "    return repeatWords.sub(r\"\\1\\1\", s)"
   ]
  },
  {
   "cell_type": "code",
   "execution_count": 63,
   "metadata": {},
   "outputs": [],
   "source": [
    "def removeExtraWords(s):\n",
    "    repeatWords = re.compile(r\"(.)\\1{2,}\", re.DOTALL) \n",
    "    return repeatWords.sub(r\"\\1\\1\", s)"
   ]
  },
  {
   "cell_type": "code",
   "execution_count": 64,
   "metadata": {},
   "outputs": [
    {
     "data": {
      "text/plain": [
       "'Im soooooo happpppy I love foodddd I also lik_e to workout'"
      ]
     },
     "execution_count": 64,
     "metadata": {},
     "output_type": "execute_result"
    }
   ],
   "source": [
    "removePunctuation(s)"
   ]
  },
  {
   "cell_type": "code",
   "execution_count": 65,
   "metadata": {},
   "outputs": [
    {
     "data": {
      "text/plain": [
       "\"I'm soo happy! I love foodd; I also lik_e to work-out.\""
      ]
     },
     "execution_count": 65,
     "metadata": {},
     "output_type": "execute_result"
    }
   ],
   "source": [
    "removeExtraWords(s)"
   ]
  },
  {
   "cell_type": "code",
   "execution_count": 66,
   "metadata": {},
   "outputs": [],
   "source": [
    "#word-Validity\n",
    "range = \"abcdefghijklmnopqrstuvwxyzABCDEFGHIJKLMNOPQRSTUVWXYZ\"\n",
    "def wordValidity(s):\n",
    "    wordList = re.sub(\"[^\\w]\", \" \",  s).split()\n",
    "    length = len(wordList)\n",
    "    i = 0\n",
    "    newWordList = []\n",
    "#     print(i) \n",
    "    while i < length:\n",
    "        if wordList[i][0] in range:\n",
    "            newWordList.append(wordList[i])\n",
    "        i += 1\n",
    "    return ' '.join(newWordList)"
   ]
  },
  {
   "cell_type": "code",
   "execution_count": 67,
   "metadata": {},
   "outputs": [
    {
     "data": {
      "text/plain": [
       "'today gr8'"
      ]
     },
     "execution_count": 67,
     "metadata": {},
     "output_type": "execute_result"
    }
   ],
   "source": [
    "s = \"today 9is gr8 7day\"\n",
    "wordValidity(s)"
   ]
  },
  {
   "cell_type": "markdown",
   "metadata": {},
   "source": [
    "# Concise Code Block"
   ]
  },
  {
   "cell_type": "code",
   "execution_count": 68,
   "metadata": {},
   "outputs": [],
   "source": [
    "# Extract tweet column.\n",
    "# Create a list containing the tweets.\n",
    "# Create a new list that will contain the modified tweets (following pre processing steps).\n",
    "# Execute all necessary pre processing steps to each tweet; add each modified tweet to the new list created in the previous step.\n",
    "# Cast this new list with the modified tweets to a DataFrame and save the DataFrame to a variable."
   ]
  },
  {
   "cell_type": "code",
   "execution_count": 69,
   "metadata": {},
   "outputs": [],
   "source": [
    "# Functions:\n",
    "# Pre-processing steps [different categories]; all pre-processing steps combined"
   ]
  },
  {
   "cell_type": "code",
   "execution_count": 70,
   "metadata": {},
   "outputs": [],
   "source": [
    "def otherModifications(a):\n",
    "    a = a.lower()\n",
    "    a = re.sub(r'\\.\\.+',' ',a)\n",
    "    a = re.sub(r'((www\\.[\\S]+)|(https?://[\\S]+))','URL',a)\n",
    "    a = re.sub(r'@[\\S]+','USER_MENTION',a)\n",
    "    return a"
   ]
  },
  {
   "cell_type": "code",
   "execution_count": 71,
   "metadata": {},
   "outputs": [],
   "source": [
    "def allPreprocessingSteps(a):\n",
    "    a = a.lower()\n",
    "    a = re.sub(r'\\.\\.+',' ',a)\n",
    "    a = a.strip('  \\'') #removes spaces from the ends \n",
    "    a = a.strip(' \"\\'') #removes quotes from the ends\n",
    "    a = re.sub(' +', ' ', a) #reduces 2 or more spaces into one space\n",
    "    a = re.sub(r'((www\\.[\\S]+)|(https?://[\\S]+))','URL',a)\n",
    "    a = re.sub(r'@[\\S]+','USER_MENTION',a)\n",
    "    a = emojiHandler(a)\n",
    "    a = re.sub(r'#',\"\",a) #removes hash-symbol from hashtag\n",
    "    a = re.sub(r'RT ','',a)#removes RT from retweets\n",
    "    a = removePunctuation(a) #added today\n",
    "    a = removeExtraWords(a)\n",
    "    a = wordValidity(a)\n",
    "#     a = otherModifications(a)\n",
    "#     a = wordProcessing(a)    \n",
    "#     a = removeQuotes(a)     \n",
    "    return a"
   ]
  },
  {
   "cell_type": "code",
   "execution_count": 72,
   "metadata": {},
   "outputs": [],
   "source": [
    "def preProcessingTweets(column):\n",
    "    tweetTrain = column\n",
    "\n",
    "    tweetTrainList = []\n",
    "    i = 0\n",
    "    while i < tweetTrain.shape[0]:\n",
    "        tweetTrainList.append(tweetTrain.iloc[i,0]) \n",
    "        i += 1\n",
    "    tweetTrainL1a = []\n",
    "    for element in tweetTrainList: \n",
    "        elem = allPreprocessingSteps(element)\n",
    "        tweetTrainL1a.append(elem) \n",
    "\n",
    "    tweetTrainMod = pd.DataFrame(tweetTrainL1a)\n",
    "    \n",
    "    return tweetTrainMod"
   ]
  },
  {
   "cell_type": "code",
   "execution_count": 73,
   "metadata": {},
   "outputs": [
    {
     "data": {
      "text/plain": [
       "'heloo. this test '"
      ]
     },
     "execution_count": 73,
     "metadata": {},
     "output_type": "execute_result"
    }
   ],
   "source": [
    "a = \"Heloo. this test..\"\n",
    "otherModifications(a)"
   ]
  },
  {
   "cell_type": "code",
   "execution_count": 74,
   "metadata": {},
   "outputs": [],
   "source": [
    "tweetTrainMod = preProcessingTweets(trainDataCleaned[[2]])"
   ]
  },
  {
   "cell_type": "code",
   "execution_count": 75,
   "metadata": {},
   "outputs": [],
   "source": [
    "pd.set_option('max_colwidth', 10000000000000000000000000000000000000000000000000000000)"
   ]
  },
  {
   "cell_type": "code",
   "execution_count": 76,
   "metadata": {},
   "outputs": [
    {
     "name": "stdout",
     "output_type": "stream",
     "text": [
      "friday everyone EMO_POS time to get the followfriday mania staed ready set goo tgif ff\n"
     ]
    }
   ],
   "source": [
    "print(tweetTrainMod.iloc[17115,0])"
   ]
  },
  {
   "cell_type": "code",
   "execution_count": 77,
   "metadata": {},
   "outputs": [
    {
     "data": {
      "text/html": [
       "<div>\n",
       "<style scoped>\n",
       "    .dataframe tbody tr th:only-of-type {\n",
       "        vertical-align: middle;\n",
       "    }\n",
       "\n",
       "    .dataframe tbody tr th {\n",
       "        vertical-align: top;\n",
       "    }\n",
       "\n",
       "    .dataframe thead th {\n",
       "        text-align: right;\n",
       "    }\n",
       "</style>\n",
       "<table border=\"1\" class=\"dataframe\">\n",
       "  <thead>\n",
       "    <tr style=\"text-align: right;\">\n",
       "      <th></th>\n",
       "      <th>2</th>\n",
       "    </tr>\n",
       "  </thead>\n",
       "  <tbody>\n",
       "    <tr>\n",
       "      <th>0</th>\n",
       "      <td>@user when a father is dysfunctional and is so selfish he drags his kids into his dysfunction.   #run</td>\n",
       "    </tr>\n",
       "    <tr>\n",
       "      <th>1</th>\n",
       "      <td>@user @user thanks for #lyft credit i can't use cause they don't offer wheelchair vans in pdx.    #disapointed #getthanked</td>\n",
       "    </tr>\n",
       "    <tr>\n",
       "      <th>2</th>\n",
       "      <td>bihday your majesty</td>\n",
       "    </tr>\n",
       "    <tr>\n",
       "      <th>3</th>\n",
       "      <td>#model   i love u take with u all the time in urð±!!! ðððð",
       "ð¦ð¦ð¦</td>\n",
       "    </tr>\n",
       "    <tr>\n",
       "      <th>4</th>\n",
       "      <td>factsguide: society now    #motivation</td>\n",
       "    </tr>\n",
       "    <tr>\n",
       "      <th>5</th>\n",
       "      <td>[2/2] huge fan fare and big talking before they leave. chaos and pay disputes when they get there. #allshowandnogo</td>\n",
       "    </tr>\n",
       "    <tr>\n",
       "      <th>6</th>\n",
       "      <td>@user camping tomorrow @user @user @user @user @user @user @user dannyâ¦</td>\n",
       "    </tr>\n",
       "    <tr>\n",
       "      <th>7</th>\n",
       "      <td>the next school year is the year for exams.ð¯ can't think about that ð­ #school #exams   #hate #imagine #actorslife #revolutionschool #girl</td>\n",
       "    </tr>\n",
       "    <tr>\n",
       "      <th>8</th>\n",
       "      <td>we won!!! love the land!!! #allin #cavs #champions #cleveland #clevelandcavaliers  â¦</td>\n",
       "    </tr>\n",
       "    <tr>\n",
       "      <th>9</th>\n",
       "      <td>@user @user welcome here !  i'm   it's so #gr8 !</td>\n",
       "    </tr>\n",
       "    <tr>\n",
       "      <th>10</th>\n",
       "      <td>â #ireland consumer price index (mom) climbed from previous 0.2% to 0.5% in may   #blog #silver #gold #forex</td>\n",
       "    </tr>\n",
       "    <tr>\n",
       "      <th>11</th>\n",
       "      <td>we are so selfish. #orlando #standwithorlando #pulseshooting #orlandoshooting #biggerproblems #selfish #heabreaking   #values #love #</td>\n",
       "    </tr>\n",
       "    <tr>\n",
       "      <th>12</th>\n",
       "      <td>i get to see my daddy today!!   #80days #gettingfed</td>\n",
       "    </tr>\n",
       "    <tr>\n",
       "      <th>13</th>\n",
       "      <td>@user #cnn calls #michigan middle school 'build the wall' chant '' #tcot</td>\n",
       "    </tr>\n",
       "    <tr>\n",
       "      <th>14</th>\n",
       "      <td>no comment!  in #australia   #opkillingbay #seashepherd #helpcovedolphins #thecove  #helpcovedolphins</td>\n",
       "    </tr>\n",
       "    <tr>\n",
       "      <th>15</th>\n",
       "      <td>ouch...junior is angryð#got7 #junior #yugyoem   #omg</td>\n",
       "    </tr>\n",
       "    <tr>\n",
       "      <th>16</th>\n",
       "      <td>i am thankful for having a paner. #thankful #positive</td>\n",
       "    </tr>\n",
       "    <tr>\n",
       "      <th>17</th>\n",
       "      <td>retweet if you agree!</td>\n",
       "    </tr>\n",
       "    <tr>\n",
       "      <th>18</th>\n",
       "      <td>its #friday! ð smiles all around via ig user: @user #cookies make people</td>\n",
       "    </tr>\n",
       "    <tr>\n",
       "      <th>19</th>\n",
       "      <td>as we all know, essential oils are not made of chemicals.</td>\n",
       "    </tr>\n",
       "    <tr>\n",
       "      <th>20</th>\n",
       "      <td>#euro2016 people blaming ha for conceded goal was it fat rooney who gave away free kick knowing bale can hit them from there.</td>\n",
       "    </tr>\n",
       "    <tr>\n",
       "      <th>21</th>\n",
       "      <td>sad little dude..   #badday #coneofshame #cats #pissed #funny #laughs</td>\n",
       "    </tr>\n",
       "    <tr>\n",
       "      <th>22</th>\n",
       "      <td>product of the day: happy man #wine tool  who's   it's the #weekend? time to open up &amp;amp; drink up!</td>\n",
       "    </tr>\n",
       "    <tr>\n",
       "      <th>23</th>\n",
       "      <td>@user @user lumpy says i am a . prove it lumpy.</td>\n",
       "    </tr>\n",
       "    <tr>\n",
       "      <th>24</th>\n",
       "      <td>@user #tgif   #ff to my #gamedev #indiedev #indiegamedev #squad! @user @user @user @user @user</td>\n",
       "    </tr>\n",
       "    <tr>\n",
       "      <th>25</th>\n",
       "      <td>beautiful sign by vendor 80 for $45.00!! #upsideofflorida #shopalyssas   #love</td>\n",
       "    </tr>\n",
       "    <tr>\n",
       "      <th>26</th>\n",
       "      <td>@user all #smiles when #media is   !! ðð #pressconference in #antalya #turkey ! sunday #throwback  love! ððâ¤ï¸</td>\n",
       "    </tr>\n",
       "    <tr>\n",
       "      <th>27</th>\n",
       "      <td>we had a great panel on the mediatization of the public service   #ica16</td>\n",
       "    </tr>\n",
       "    <tr>\n",
       "      <th>28</th>\n",
       "      <td>happy father's day @user ðððð</td>\n",
       "    </tr>\n",
       "    <tr>\n",
       "      <th>29</th>\n",
       "      <td>50 people went to nightclub to have a good night and 1 man's actions means those people are lost to their families forever #rip#orlando</td>\n",
       "    </tr>\n",
       "    <tr>\n",
       "      <th>30</th>\n",
       "      <td>i have never had a chance to vote for a presidential candidate i was excited about and this cycle looks to be no different.</td>\n",
       "    </tr>\n",
       "    <tr>\n",
       "      <th>31</th>\n",
       "      <td>#alohafriday #time does #not #exist #positivevibes #hawaiian @user @user @user @user</td>\n",
       "    </tr>\n",
       "    <tr>\n",
       "      <th>32</th>\n",
       "      <td>@user rip to the fellow nohern ireland fan who sadley passed away tonight!.. gawa, forever singing and cheering on fire</td>\n",
       "    </tr>\n",
       "    <tr>\n",
       "      <th>33</th>\n",
       "      <td>it was a hard monday due to cloudy weather. disabling oxygen production for today. #goodnight #badmonday</td>\n",
       "    </tr>\n",
       "    <tr>\n",
       "      <th>34</th>\n",
       "      <td>it's unbelievable that in the 21st century we'd need something like this. again. #neverump  #xenophobia</td>\n",
       "    </tr>\n",
       "    <tr>\n",
       "      <th>35</th>\n",
       "      <td>#taylorswift1989   bull up: you will dominate your bull and you will direct it whatever you want it to do. w</td>\n",
       "    </tr>\n",
       "    <tr>\n",
       "      <th>36</th>\n",
       "      <td>morning~~ #travelingram #dalat   #ripinkylife</td>\n",
       "    </tr>\n",
       "    <tr>\n",
       "      <th>37</th>\n",
       "      <td>@user once more only one word tells it all: #photoshop.  #enoughisenough #dontphotoshopeverything #wheresallthenaturalphotos</td>\n",
       "    </tr>\n",
       "    <tr>\n",
       "      <th>38</th>\n",
       "      <td>oh, #cedarpoint. waited 2 hours in the valravn line and it stopped working. we were so close.</td>\n",
       "    </tr>\n",
       "    <tr>\n",
       "      <th>39</th>\n",
       "      <td>i am thankful for sunshine. #thankful #positive</td>\n",
       "    </tr>\n",
       "    <tr>\n",
       "      <th>40</th>\n",
       "      <td>when you finally finish a book you've been working on for awhile...  #bookworm #ontothenextnovel</td>\n",
       "    </tr>\n",
       "    <tr>\n",
       "      <th>41</th>\n",
       "      <td>yup, being a knicks fan is hard, so its easier to just be an nba fan when the playoffs roll around ð</td>\n",
       "    </tr>\n",
       "    <tr>\n",
       "      <th>42</th>\n",
       "      <td>there is life after social networking. embrace each day. be</td>\n",
       "    </tr>\n",
       "    <tr>\n",
       "      <th>43</th>\n",
       "      <td>my mom shares the same bihday as @user   bihday snake! see you this weekend ðð¼</td>\n",
       "    </tr>\n",
       "    <tr>\n",
       "      <th>44</th>\n",
       "      <td>lovely echeveria blooms#flowers #grow #gardening #iphonesia #bliss #blooms #basilicabotanica</td>\n",
       "    </tr>\n",
       "    <tr>\n",
       "      <th>45</th>\n",
       "      <td>i am amazing. #i_am #positive #affirmation</td>\n",
       "    </tr>\n",
       "    <tr>\n",
       "      <th>46</th>\n",
       "      <td>#model   i love u take with u all the time in urð±!!! ðððð",
       "ð¦ð¦ð¦</td>\n",
       "    </tr>\n",
       "    <tr>\n",
       "      <th>47</th>\n",
       "      <td>#whenever im   and #something goes #wrong  |</td>\n",
       "    </tr>\n",
       "    <tr>\n",
       "      <th>48</th>\n",
       "      <td>feeling blue #illustration</td>\n",
       "    </tr>\n",
       "    <tr>\n",
       "      <th>49</th>\n",
       "      <td>the best pa about life is knowing who you are! ðâï¸ð¼ð»  â¦</td>\n",
       "    </tr>\n",
       "    <tr>\n",
       "      <th>50</th>\n",
       "      <td>#abc2020 getting ready 2 remove the victums frm #pulseclub #prayfororlando</td>\n",
       "    </tr>\n",
       "    <tr>\n",
       "      <th>51</th>\n",
       "      <td>for her #bihday we got her a #nose #job @user  ðð¶ððð    #bihday #petunia we love you ð</td>\n",
       "    </tr>\n",
       "    <tr>\n",
       "      <th>52</th>\n",
       "      <td>off to concelebrate at the #albanpilgrimage for the first time.   @user</td>\n",
       "    </tr>\n",
       "    <tr>\n",
       "      <th>53</th>\n",
       "      <td>@user let the scum-baggery begin.....</td>\n",
       "    </tr>\n",
       "    <tr>\n",
       "      <th>54</th>\n",
       "      <td>thank you! ðð super love it! â¤ï¸ zpamdelacruz   #wedding# @ dolores, capas tarlac.</td>\n",
       "    </tr>\n",
       "    <tr>\n",
       "      <th>55</th>\n",
       "      <td>a scourge on those playing baroque pieces on piano    beyond belief</td>\n",
       "    </tr>\n",
       "    <tr>\n",
       "      <th>56</th>\n",
       "      <td>@user lets fight against  #love #peace</td>\n",
       "    </tr>\n",
       "    <tr>\n",
       "      <th>57</th>\n",
       "      <td>happy fatherâs day, mr. rayos #video   #fathers #day #rayos #world #hotvideo #videos</td>\n",
       "    </tr>\n",
       "    <tr>\n",
       "      <th>58</th>\n",
       "      <td>@user ascot times with this babe â¤ï¸â¤ï¸ #ascot #fashion #monochrome #style   #instahappyday</td>\n",
       "    </tr>\n",
       "    <tr>\n",
       "      <th>59</th>\n",
       "      <td>the weekend..is here!!ððððð #selfie   #yolo #xoxo #like4like</td>\n",
       "    </tr>\n",
       "  </tbody>\n",
       "</table>\n",
       "</div>"
      ],
      "text/plain": [
       "                                                                                                                                                  2\n",
       "0                                             @user when a father is dysfunctional and is so selfish he drags his kids into his dysfunction.   #run\n",
       "1                        @user @user thanks for #lyft credit i can't use cause they don't offer wheelchair vans in pdx.    #disapointed #getthanked\n",
       "2                                                                                                                               bihday your majesty\n",
       "3                                                            #model   i love u take with u all the time in urð±!!! ðððð\n",
       "ð¦ð¦ð¦  \n",
       "4                                                                                                            factsguide: society now    #motivation\n",
       "5                              [2/2] huge fan fare and big talking before they leave. chaos and pay disputes when they get there. #allshowandnogo  \n",
       "6                                                                         @user camping tomorrow @user @user @user @user @user @user @user dannyâ¦\n",
       "7   the next school year is the year for exams.ð¯ can't think about that ð­ #school #exams   #hate #imagine #actorslife #revolutionschool #girl\n",
       "8                                                           we won!!! love the land!!! #allin #cavs #champions #cleveland #clevelandcavaliers  â¦ \n",
       "9                                                                                                 @user @user welcome here !  i'm   it's so #gr8 ! \n",
       "10                                   â #ireland consumer price index (mom) climbed from previous 0.2% to 0.5% in may   #blog #silver #gold #forex\n",
       "11            we are so selfish. #orlando #standwithorlando #pulseshooting #orlandoshooting #biggerproblems #selfish #heabreaking   #values #love #\n",
       "12                                                                                              i get to see my daddy today!!   #80days #gettingfed\n",
       "13                                                                       @user #cnn calls #michigan middle school 'build the wall' chant '' #tcot  \n",
       "14                                            no comment!  in #australia   #opkillingbay #seashepherd #helpcovedolphins #thecove  #helpcovedolphins\n",
       "15                                                                                         ouch...junior is angryð#got7 #junior #yugyoem   #omg \n",
       "16                                                                                       i am thankful for having a paner. #thankful #positive     \n",
       "17                                                                                                                           retweet if you agree! \n",
       "18                                                                   its #friday! ð smiles all around via ig user: @user #cookies make people   \n",
       "19                                                                                       as we all know, essential oils are not made of chemicals. \n",
       "20                  #euro2016 people blaming ha for conceded goal was it fat rooney who gave away free kick knowing bale can hit them from there.  \n",
       "21                                                                           sad little dude..   #badday #coneofshame #cats #pissed #funny #laughs \n",
       "22                                             product of the day: happy man #wine tool  who's   it's the #weekend? time to open up &amp; drink up!\n",
       "23                                                                                                  @user @user lumpy says i am a . prove it lumpy.\n",
       "24                                                   @user #tgif   #ff to my #gamedev #indiedev #indiegamedev #squad! @user @user @user @user @user\n",
       "25                                                                  beautiful sign by vendor 80 for $45.00!! #upsideofflorida #shopalyssas   #love \n",
       "26                   @user all #smiles when #media is   !! ðð #pressconference in #antalya #turkey ! sunday #throwback  love! ððâ¤ï¸ \n",
       "27                                                                         we had a great panel on the mediatization of the public service   #ica16\n",
       "28                                                                                                      happy father's day @user ðððð  \n",
       "29          50 people went to nightclub to have a good night and 1 man's actions means those people are lost to their families forever #rip#orlando\n",
       "30                    i have never had a chance to vote for a presidential candidate i was excited about and this cycle looks to be no different.  \n",
       "31                                                            #alohafriday #time does #not #exist #positivevibes #hawaiian @user @user @user @user \n",
       "32                        @user rip to the fellow nohern ireland fan who sadley passed away tonight!.. gawa, forever singing and cheering on fire  \n",
       "33                                       it was a hard monday due to cloudy weather. disabling oxygen production for today. #goodnight #badmonday  \n",
       "34                                         it's unbelievable that in the 21st century we'd need something like this. again. #neverump  #xenophobia \n",
       "35                                    #taylorswift1989   bull up: you will dominate your bull and you will direct it whatever you want it to do. w \n",
       "36                                                                                                   morning~~ #travelingram #dalat   #ripinkylife \n",
       "37                   @user once more only one word tells it all: #photoshop.  #enoughisenough #dontphotoshopeverything #wheresallthenaturalphotos  \n",
       "38                                                  oh, #cedarpoint. waited 2 hours in the valravn line and it stopped working. we were so close.  \n",
       "39                                                                                             i am thankful for sunshine. #thankful #positive     \n",
       "40                                                when you finally finish a book you've been working on for awhile...  #bookworm #ontothenextnovel \n",
       "41                                         yup, being a knicks fan is hard, so its easier to just be an nba fan when the playoffs roll around ð \n",
       "42                                                                                   there is life after social networking. embrace each day. be   \n",
       "43                                                             my mom shares the same bihday as @user   bihday snake! see you this weekend ðð¼\n",
       "44                                                  lovely echeveria blooms#flowers #grow #gardening #iphonesia #bliss #blooms #basilicabotanica   \n",
       "45                                                                                                  i am amazing. #i_am #positive #affirmation     \n",
       "46                                                           #model   i love u take with u all the time in urð±!!! ðððð\n",
       "ð¦ð¦ð¦  \n",
       "47                                                                                                   #whenever im   and #something goes #wrong  |  \n",
       "48                                                                                                                    feeling blue #illustration   \n",
       "49                                                                          the best pa about life is knowing who you are! ðâï¸ð¼ð»  â¦ \n",
       "50                                                                     #abc2020 getting ready 2 remove the victums frm #pulseclub #prayfororlando  \n",
       "51                                        for her #bihday we got her a #nose #job @user  ðð¶ððð    #bihday #petunia we love you ð \n",
       "52                                                                          off to concelebrate at the #albanpilgrimage for the first time.   @user\n",
       "53                                                                                                           @user let the scum-baggery begin..... \n",
       "54                                                     thank you! ðð super love it! â¤ï¸ zpamdelacruz   #wedding# @ dolores, capas tarlac. \n",
       "55                                                                             a scourge on those playing baroque pieces on piano    beyond belief \n",
       "56                                                                                                          @user lets fight against  #love #peace \n",
       "57                                                           happy fatherâs day, mr. rayos #video   #fathers #day #rayos #world #hotvideo #videos\n",
       "58                                               @user ascot times with this babe â¤ï¸â¤ï¸ #ascot #fashion #monochrome #style   #instahappyday \n",
       "59                                                                     the weekend..is here!!ððððð #selfie   #yolo #xoxo #like4like "
      ]
     },
     "execution_count": 77,
     "metadata": {},
     "output_type": "execute_result"
    }
   ],
   "source": [
    "tweetColumn = trainDataCleaned[[2]]\n",
    "tweetColumn.head(60)"
   ]
  },
  {
   "cell_type": "code",
   "execution_count": 78,
   "metadata": {},
   "outputs": [
    {
     "data": {
      "text/html": [
       "<div>\n",
       "<style scoped>\n",
       "    .dataframe tbody tr th:only-of-type {\n",
       "        vertical-align: middle;\n",
       "    }\n",
       "\n",
       "    .dataframe tbody tr th {\n",
       "        vertical-align: top;\n",
       "    }\n",
       "\n",
       "    .dataframe thead th {\n",
       "        text-align: right;\n",
       "    }\n",
       "</style>\n",
       "<table border=\"1\" class=\"dataframe\">\n",
       "  <thead>\n",
       "    <tr style=\"text-align: right;\">\n",
       "      <th></th>\n",
       "      <th>0</th>\n",
       "    </tr>\n",
       "  </thead>\n",
       "  <tbody>\n",
       "    <tr>\n",
       "      <th>0</th>\n",
       "      <td>USER_MENTION when a father is dysfunctional and is so selfish he drags his kids into his dysfunction run</td>\n",
       "    </tr>\n",
       "    <tr>\n",
       "      <th>1</th>\n",
       "      <td>USER_MENTION USER_MENTION thanks for lyft credit i cant use cause they dont offer wheelchair vans in pdx disapointed getthanked</td>\n",
       "    </tr>\n",
       "    <tr>\n",
       "      <th>2</th>\n",
       "      <td>bihday your majesty</td>\n",
       "    </tr>\n",
       "    <tr>\n",
       "      <th>3</th>\n",
       "      <td>model i love u take with u all the time in urð</td>\n",
       "    </tr>\n",
       "    <tr>\n",
       "      <th>4</th>\n",
       "      <td>factsguide society now motivation</td>\n",
       "    </tr>\n",
       "    <tr>\n",
       "      <th>5</th>\n",
       "      <td>huge fan fare and big talking before they leave chaos and pay disputes when they get there allshowandnogo</td>\n",
       "    </tr>\n",
       "    <tr>\n",
       "      <th>6</th>\n",
       "      <td>USER_MENTION camping tomorrow USER_MENTION USER_MENTION USER_MENTION USER_MENTION USER_MENTION USER_MENTION USER_MENTION dannyâ</td>\n",
       "    </tr>\n",
       "    <tr>\n",
       "      <th>7</th>\n",
       "      <td>the next school year is the year for examsð cant think about that school exams hate imagine actorslife revolutionschool girl</td>\n",
       "    </tr>\n",
       "    <tr>\n",
       "      <th>8</th>\n",
       "      <td>we won love the land allin cavs champions cleveland clevelandcavaliers</td>\n",
       "    </tr>\n",
       "    <tr>\n",
       "      <th>9</th>\n",
       "      <td>USER_MENTION USER_MENTION welcome here im its so gr8</td>\n",
       "    </tr>\n",
       "    <tr>\n",
       "      <th>10</th>\n",
       "      <td>ireland consumer price index mom climbed from previous to in may blog silver gold forex</td>\n",
       "    </tr>\n",
       "    <tr>\n",
       "      <th>11</th>\n",
       "      <td>we are so selfish orlando standwithorlando pulseshooting orlandoshooting biggerproblems selfish heabreaking values love</td>\n",
       "    </tr>\n",
       "    <tr>\n",
       "      <th>12</th>\n",
       "      <td>i get to see my daddy today gettingfed</td>\n",
       "    </tr>\n",
       "    <tr>\n",
       "      <th>13</th>\n",
       "      <td>USER_MENTION cnn calls michigan middle school build the wall chant tcot</td>\n",
       "    </tr>\n",
       "    <tr>\n",
       "      <th>14</th>\n",
       "      <td>no comment in australia opkillingbay seashepherd helpcovedolphins thecove helpcovedolphins</td>\n",
       "    </tr>\n",
       "    <tr>\n",
       "      <th>15</th>\n",
       "      <td>ouch junior is angryð got7 junior yugyoem omg</td>\n",
       "    </tr>\n",
       "    <tr>\n",
       "      <th>16</th>\n",
       "      <td>i am thankful for having a paner thankful positive</td>\n",
       "    </tr>\n",
       "    <tr>\n",
       "      <th>17</th>\n",
       "      <td>retweet if you agree</td>\n",
       "    </tr>\n",
       "    <tr>\n",
       "      <th>18</th>\n",
       "      <td>its friday smiles all around via ig user USER_MENTION cookies make people</td>\n",
       "    </tr>\n",
       "    <tr>\n",
       "      <th>19</th>\n",
       "      <td>as we all know essential oils are not made of chemicals</td>\n",
       "    </tr>\n",
       "    <tr>\n",
       "      <th>20</th>\n",
       "      <td>euro2016 people blaming ha for conceded goal was it fat rooney who gave away free kick knowing bale can hit them from there</td>\n",
       "    </tr>\n",
       "    <tr>\n",
       "      <th>21</th>\n",
       "      <td>sad little dude badday coneofshame cats pissed funny laughs</td>\n",
       "    </tr>\n",
       "    <tr>\n",
       "      <th>22</th>\n",
       "      <td>product of the day happy man wine tool whos its the weekend time to open up amp drink up</td>\n",
       "    </tr>\n",
       "    <tr>\n",
       "      <th>23</th>\n",
       "      <td>USER_MENTION USER_MENTION lumpy says i am a prove it lumpy</td>\n",
       "    </tr>\n",
       "    <tr>\n",
       "      <th>24</th>\n",
       "      <td>USER_MENTION tgif ff to my gamedev indiedev indiegamedev squad USER_MENTION USER_MENTION USER_MENTION USER_MENTION USER_MENTION</td>\n",
       "    </tr>\n",
       "    <tr>\n",
       "      <th>25</th>\n",
       "      <td>beautiful sign by vendor for upsideofflorida shopalyssas love</td>\n",
       "    </tr>\n",
       "    <tr>\n",
       "      <th>26</th>\n",
       "      <td>USER_MENTION all smiles when media is pressconference in antalya turkey sunday throwback love</td>\n",
       "    </tr>\n",
       "    <tr>\n",
       "      <th>27</th>\n",
       "      <td>we had a great panel on the mediatization of the public service ica16</td>\n",
       "    </tr>\n",
       "    <tr>\n",
       "      <th>28</th>\n",
       "      <td>happy fathers day USER_MENTION</td>\n",
       "    </tr>\n",
       "    <tr>\n",
       "      <th>29</th>\n",
       "      <td>people went to nightclub to have a good night and mans actions means those people are lost to their families forever riporlando</td>\n",
       "    </tr>\n",
       "    <tr>\n",
       "      <th>30</th>\n",
       "      <td>i have never had a chance to vote for a presidential candidate i was excited about and this cycle looks to be no different</td>\n",
       "    </tr>\n",
       "    <tr>\n",
       "      <th>31</th>\n",
       "      <td>alohafriday time does not exist positivevibes hawaiian USER_MENTION USER_MENTION USER_MENTION USER_MENTION</td>\n",
       "    </tr>\n",
       "    <tr>\n",
       "      <th>32</th>\n",
       "      <td>USER_MENTION rip to the fellow nohern ireland fan who sadley passed away tonight gawa forever singing and cheering on fire</td>\n",
       "    </tr>\n",
       "    <tr>\n",
       "      <th>33</th>\n",
       "      <td>it was a hard monday due to cloudy weather disabling oxygen production for today goodnight badmonday</td>\n",
       "    </tr>\n",
       "    <tr>\n",
       "      <th>34</th>\n",
       "      <td>its unbelievable that in the century wed need something like this again neverump xenophobia</td>\n",
       "    </tr>\n",
       "    <tr>\n",
       "      <th>35</th>\n",
       "      <td>taylorswift1989 bull up you will dominate your bull and you will direct it whatever you want it to do w</td>\n",
       "    </tr>\n",
       "    <tr>\n",
       "      <th>36</th>\n",
       "      <td>morning travelingram dalat ripinkylife</td>\n",
       "    </tr>\n",
       "    <tr>\n",
       "      <th>37</th>\n",
       "      <td>USER_MENTION once more only one word tells it all photoshop enoughisenough dontphotoshopeverything wheresallthenaturalphotos</td>\n",
       "    </tr>\n",
       "    <tr>\n",
       "      <th>38</th>\n",
       "      <td>oh cedarpoint waited hours in the valravn line and it stopped working we were so close</td>\n",
       "    </tr>\n",
       "    <tr>\n",
       "      <th>39</th>\n",
       "      <td>i am thankful for sunshine thankful positive</td>\n",
       "    </tr>\n",
       "    <tr>\n",
       "      <th>40</th>\n",
       "      <td>when you finally finish a book youve been working on for awhile bookworm ontothenextnovel</td>\n",
       "    </tr>\n",
       "    <tr>\n",
       "      <th>41</th>\n",
       "      <td>yup being a knicks fan is hard so its easier to just be an nba fan when the playoffs roll around</td>\n",
       "    </tr>\n",
       "    <tr>\n",
       "      <th>42</th>\n",
       "      <td>there is life after social networking embrace each day be</td>\n",
       "    </tr>\n",
       "    <tr>\n",
       "      <th>43</th>\n",
       "      <td>my mom shares the same bihday as USER_MENTION bihday snake see you this weekend</td>\n",
       "    </tr>\n",
       "    <tr>\n",
       "      <th>44</th>\n",
       "      <td>lovely echeveria bloomsflowers grow gardening iphonesia bliss blooms basilicabotanica</td>\n",
       "    </tr>\n",
       "    <tr>\n",
       "      <th>45</th>\n",
       "      <td>i am amazing i_am positive affirmation</td>\n",
       "    </tr>\n",
       "    <tr>\n",
       "      <th>46</th>\n",
       "      <td>model i love u take with u all the time in urð</td>\n",
       "    </tr>\n",
       "    <tr>\n",
       "      <th>47</th>\n",
       "      <td>whenever im and something goes wrong</td>\n",
       "    </tr>\n",
       "    <tr>\n",
       "      <th>48</th>\n",
       "      <td>feeling blue illustration</td>\n",
       "    </tr>\n",
       "    <tr>\n",
       "      <th>49</th>\n",
       "      <td>the best pa about life is knowing who you are</td>\n",
       "    </tr>\n",
       "    <tr>\n",
       "      <th>50</th>\n",
       "      <td>abc2020 getting ready remove the victums frm pulseclub prayfororlando</td>\n",
       "    </tr>\n",
       "    <tr>\n",
       "      <th>51</th>\n",
       "      <td>for her bihday we got her a nose job USER_MENTION bihday petunia we love you</td>\n",
       "    </tr>\n",
       "    <tr>\n",
       "      <th>52</th>\n",
       "      <td>off to concelebrate at the albanpilgrimage for the first time USER_MENTION</td>\n",
       "    </tr>\n",
       "    <tr>\n",
       "      <th>53</th>\n",
       "      <td>USER_MENTION let the scumbaggery begin</td>\n",
       "    </tr>\n",
       "    <tr>\n",
       "      <th>54</th>\n",
       "      <td>thank you super love it zpamdelacruz wedding dolores capas tarlac</td>\n",
       "    </tr>\n",
       "    <tr>\n",
       "      <th>55</th>\n",
       "      <td>a scourge on those playing baroque pieces on piano beyond belief</td>\n",
       "    </tr>\n",
       "    <tr>\n",
       "      <th>56</th>\n",
       "      <td>USER_MENTION lets fight against love peace</td>\n",
       "    </tr>\n",
       "    <tr>\n",
       "      <th>57</th>\n",
       "      <td>happy fatherâ s day mr rayos video fathers day rayos world hotvideo videos</td>\n",
       "    </tr>\n",
       "    <tr>\n",
       "      <th>58</th>\n",
       "      <td>USER_MENTION ascot times with this babe ascot fashion monochrome style instahappyday</td>\n",
       "    </tr>\n",
       "    <tr>\n",
       "      <th>59</th>\n",
       "      <td>the weekend is hereð selfie yolo xoxo like4like</td>\n",
       "    </tr>\n",
       "  </tbody>\n",
       "</table>\n",
       "</div>"
      ],
      "text/plain": [
       "                                                                                                                                  0\n",
       "0                          USER_MENTION when a father is dysfunctional and is so selfish he drags his kids into his dysfunction run\n",
       "1   USER_MENTION USER_MENTION thanks for lyft credit i cant use cause they dont offer wheelchair vans in pdx disapointed getthanked\n",
       "2                                                                                                               bihday your majesty\n",
       "3                                                                                    model i love u take with u all the time in urð\n",
       "4                                                                                                 factsguide society now motivation\n",
       "5                         huge fan fare and big talking before they leave chaos and pay disputes when they get there allshowandnogo\n",
       "6   USER_MENTION camping tomorrow USER_MENTION USER_MENTION USER_MENTION USER_MENTION USER_MENTION USER_MENTION USER_MENTION dannyâ\n",
       "7      the next school year is the year for examsð cant think about that school exams hate imagine actorslife revolutionschool girl\n",
       "8                                                            we won love the land allin cavs champions cleveland clevelandcavaliers\n",
       "9                                                                              USER_MENTION USER_MENTION welcome here im its so gr8\n",
       "10                                          ireland consumer price index mom climbed from previous to in may blog silver gold forex\n",
       "11          we are so selfish orlando standwithorlando pulseshooting orlandoshooting biggerproblems selfish heabreaking values love\n",
       "12                                                                                           i get to see my daddy today gettingfed\n",
       "13                                                          USER_MENTION cnn calls michigan middle school build the wall chant tcot\n",
       "14                                       no comment in australia opkillingbay seashepherd helpcovedolphins thecove helpcovedolphins\n",
       "15                                                                                    ouch junior is angryð got7 junior yugyoem omg\n",
       "16                                                                               i am thankful for having a paner thankful positive\n",
       "17                                                                                                             retweet if you agree\n",
       "18                                                        its friday smiles all around via ig user USER_MENTION cookies make people\n",
       "19                                                                          as we all know essential oils are not made of chemicals\n",
       "20      euro2016 people blaming ha for conceded goal was it fat rooney who gave away free kick knowing bale can hit them from there\n",
       "21                                                                      sad little dude badday coneofshame cats pissed funny laughs\n",
       "22                                         product of the day happy man wine tool whos its the weekend time to open up amp drink up\n",
       "23                                                                       USER_MENTION USER_MENTION lumpy says i am a prove it lumpy\n",
       "24  USER_MENTION tgif ff to my gamedev indiedev indiegamedev squad USER_MENTION USER_MENTION USER_MENTION USER_MENTION USER_MENTION\n",
       "25                                                                    beautiful sign by vendor for upsideofflorida shopalyssas love\n",
       "26                                    USER_MENTION all smiles when media is pressconference in antalya turkey sunday throwback love\n",
       "27                                                            we had a great panel on the mediatization of the public service ica16\n",
       "28                                                                                                   happy fathers day USER_MENTION\n",
       "29  people went to nightclub to have a good night and mans actions means those people are lost to their families forever riporlando\n",
       "30       i have never had a chance to vote for a presidential candidate i was excited about and this cycle looks to be no different\n",
       "31                       alohafriday time does not exist positivevibes hawaiian USER_MENTION USER_MENTION USER_MENTION USER_MENTION\n",
       "32       USER_MENTION rip to the fellow nohern ireland fan who sadley passed away tonight gawa forever singing and cheering on fire\n",
       "33                             it was a hard monday due to cloudy weather disabling oxygen production for today goodnight badmonday\n",
       "34                                      its unbelievable that in the century wed need something like this again neverump xenophobia\n",
       "35                          taylorswift1989 bull up you will dominate your bull and you will direct it whatever you want it to do w\n",
       "36                                                                                           morning travelingram dalat ripinkylife\n",
       "37     USER_MENTION once more only one word tells it all photoshop enoughisenough dontphotoshopeverything wheresallthenaturalphotos\n",
       "38                                           oh cedarpoint waited hours in the valravn line and it stopped working we were so close\n",
       "39                                                                                     i am thankful for sunshine thankful positive\n",
       "40                                        when you finally finish a book youve been working on for awhile bookworm ontothenextnovel\n",
       "41                                 yup being a knicks fan is hard so its easier to just be an nba fan when the playoffs roll around\n",
       "42                                                                        there is life after social networking embrace each day be\n",
       "43                                                  my mom shares the same bihday as USER_MENTION bihday snake see you this weekend\n",
       "44                                            lovely echeveria bloomsflowers grow gardening iphonesia bliss blooms basilicabotanica\n",
       "45                                                                                           i am amazing i_am positive affirmation\n",
       "46                                                                                   model i love u take with u all the time in urð\n",
       "47                                                                                             whenever im and something goes wrong\n",
       "48                                                                                                        feeling blue illustration\n",
       "49                                                                                    the best pa about life is knowing who you are\n",
       "50                                                            abc2020 getting ready remove the victums frm pulseclub prayfororlando\n",
       "51                                                     for her bihday we got her a nose job USER_MENTION bihday petunia we love you\n",
       "52                                                       off to concelebrate at the albanpilgrimage for the first time USER_MENTION\n",
       "53                                                                                           USER_MENTION let the scumbaggery begin\n",
       "54                                                                thank you super love it zpamdelacruz wedding dolores capas tarlac\n",
       "55                                                                 a scourge on those playing baroque pieces on piano beyond belief\n",
       "56                                                                                       USER_MENTION lets fight against love peace\n",
       "57                                                       happy fatherâ s day mr rayos video fathers day rayos world hotvideo videos\n",
       "58                                             USER_MENTION ascot times with this babe ascot fashion monochrome style instahappyday\n",
       "59                                                                                  the weekend is hereð selfie yolo xoxo like4like"
      ]
     },
     "execution_count": 78,
     "metadata": {},
     "output_type": "execute_result"
    }
   ],
   "source": [
    "tweetTrainMod.head(60)"
   ]
  },
  {
   "cell_type": "code",
   "execution_count": 84,
   "metadata": {},
   "outputs": [
    {
     "name": "stdout",
     "output_type": "stream",
     "text": [
      "so glad my #workout includes smoke breaks...www.smokeweedeatbacon.com #weed #bacon #fitness #sex #health #marijuana   #strength #living\n"
     ]
    }
   ],
   "source": [
    "print(tweetColumn.iloc[8484,0])"
   ]
  },
  {
   "cell_type": "code",
   "execution_count": 85,
   "metadata": {},
   "outputs": [
    {
     "name": "stdout",
     "output_type": "stream",
     "text": [
      "so glad my workout includes smoke breaks URL weed bacon fitness sex health marijuana strength living\n"
     ]
    }
   ],
   "source": [
    "print(tweetTrainMod.iloc[8484,0])"
   ]
  },
  {
   "cell_type": "code",
   "execution_count": 86,
   "metadata": {},
   "outputs": [
    {
     "name": "stdout",
     "output_type": "stream",
     "text": [
      "...#awwwlup awwwn them...  wut z?  #magicbutt0nz  *pushin'em lyk \"crazy\"*  ...until?  #0 hai! #l00k!! #it_werkd!!! \n",
      "awwlup awwn them wut z magicbutt0nz pushinem lyk crazy until hai l00k it_werkd\n"
     ]
    }
   ],
   "source": [
    "print(tweetColumn.iloc[9780,0])\n",
    "print(tweetTrainMod.iloc[9780,0])"
   ]
  },
  {
   "cell_type": "code",
   "execution_count": 87,
   "metadata": {},
   "outputs": [
    {
     "name": "stdout",
     "output_type": "stream",
     "text": [
      "@user  total asssss...worst mistake ever...lord help us all... #ass #pos\n",
      "USER_MENTION total ass worst mistake ever lord help us all ass pos\n"
     ]
    }
   ],
   "source": [
    "print(tweetColumn.iloc[10249,0])\n",
    "print(tweetTrainMod.iloc[10249,0])"
   ]
  },
  {
   "cell_type": "code",
   "execution_count": 88,
   "metadata": {},
   "outputs": [
    {
     "name": "stdout",
     "output_type": "stream",
     "text": [
      "sweet family stay    @user  @user  @user  #lovemama #lovepapa ðâ¤ð @user \n",
      "sweet family stay USER_MENTION USER_MENTION USER_MENTION lovemama lovepapa USER_MENTION\n"
     ]
    }
   ],
   "source": [
    "print(tweetColumn.iloc[10260,0])\n",
    "print(tweetTrainMod.iloc[10260,0])"
   ]
  },
  {
   "cell_type": "code",
   "execution_count": null,
   "metadata": {},
   "outputs": [],
   "source": []
  }
 ],
 "metadata": {
  "kernelspec": {
   "display_name": "Python 3",
   "language": "python",
   "name": "python3"
  },
  "language_info": {
   "codemirror_mode": {
    "name": "ipython",
    "version": 3
   },
   "file_extension": ".py",
   "mimetype": "text/x-python",
   "name": "python",
   "nbconvert_exporter": "python",
   "pygments_lexer": "ipython3",
   "version": "3.7.3"
  }
 },
 "nbformat": 4,
 "nbformat_minor": 2
}
